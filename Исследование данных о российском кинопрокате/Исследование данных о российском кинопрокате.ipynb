{
 "cells": [
  {
   "cell_type": "markdown",
   "metadata": {
    "id": "sIfNaMOxgFyK"
   },
   "source": [
    "# Исследование данных о российском кинопрокате\n",
    "## Цель и ход исследования\n",
    "\n",
    "Цель исследования:\n",
    "* Изучить фильмы, реализованные при помощи средств государственной поддержки;\n",
    "* Выявить тренды в мире российского кинопроката;\n",
    "* Оценить интерес зрителя к фильмам, финансируемым государственной поддержкой.\n",
    "\n",
    "Ход исследования:\n",
    "Данные о кинофльмах представлены в двух датафреймах. Прежде чем анализировать данные, необходимо будет объединить таблицы. После этого, необходимо выполнить предобработку данных, связанную с корректировкой типов данных, пропусков. Также необходимо создать дополнительные столбцы, которые потребуются для анализа данных.\n",
    "\n",
    "Таким образом, исследование пройдет в несколько этапов:\n",
    "* Обзор данных;\n",
    "* Предобработка данных;\n",
    "* Добавление новых данных;\n",
    "* Проведение анализа динамики проката по годам;\n",
    "* Проведение анализа сборов фильмов по годам;\n",
    "* Проведение анализа сборов в разрезе возрастного ограничения на фильмах;\n",
    "* Проведение анализа окупаемости фильмов с государственной поддержкой;\n",
    "* Написание общего вывода."
   ]
  },
  {
   "cell_type": "markdown",
   "metadata": {
    "id": "3bSlkCsbgFyL"
   },
   "source": [
    "## Обзор данных"
   ]
  },
  {
   "cell_type": "code",
   "execution_count": 1,
   "metadata": {
    "id": "dw87FlzMgFyM"
   },
   "outputs": [],
   "source": [
    "import pandas as pd\n",
    "import matplotlib.pyplot as plt\n",
    "import numpy as np"
   ]
  },
  {
   "cell_type": "code",
   "execution_count": 2,
   "metadata": {},
   "outputs": [],
   "source": [
    "data_1 = pd.read_csv('mkrf_movies.csv')\n",
    "data_2 = pd.read_csv('mkrf_shows.csv')"
   ]
  },
  {
   "cell_type": "code",
   "execution_count": 3,
   "metadata": {},
   "outputs": [
    {
     "name": "stdout",
     "output_type": "stream",
     "text": [
      "<class 'pandas.core.frame.DataFrame'>\n",
      "RangeIndex: 7486 entries, 0 to 7485\n",
      "Data columns (total 15 columns):\n",
      " #   Column                 Non-Null Count  Dtype  \n",
      "---  ------                 --------------  -----  \n",
      " 0   title                  7486 non-null   object \n",
      " 1   puNumber               7486 non-null   object \n",
      " 2   show_start_date        7486 non-null   object \n",
      " 3   type                   7486 non-null   object \n",
      " 4   film_studio            7468 non-null   object \n",
      " 5   production_country     7484 non-null   object \n",
      " 6   director               7477 non-null   object \n",
      " 7   producer               6918 non-null   object \n",
      " 8   age_restriction        7486 non-null   object \n",
      " 9   refundable_support     332 non-null    float64\n",
      " 10  nonrefundable_support  332 non-null    float64\n",
      " 11  budget                 332 non-null    float64\n",
      " 12  financing_source       332 non-null    object \n",
      " 13  ratings                6519 non-null   object \n",
      " 14  genres                 6510 non-null   object \n",
      "dtypes: float64(3), object(12)\n",
      "memory usage: 877.4+ KB\n"
     ]
    }
   ],
   "source": [
    "data_1.info()"
   ]
  },
  {
   "cell_type": "code",
   "execution_count": 4,
   "metadata": {},
   "outputs": [
    {
     "name": "stdout",
     "output_type": "stream",
     "text": [
      "<class 'pandas.core.frame.DataFrame'>\n",
      "RangeIndex: 3158 entries, 0 to 3157\n",
      "Data columns (total 2 columns):\n",
      " #   Column      Non-Null Count  Dtype  \n",
      "---  ------      --------------  -----  \n",
      " 0   puNumber    3158 non-null   int64  \n",
      " 1   box_office  3158 non-null   float64\n",
      "dtypes: float64(1), int64(1)\n",
      "memory usage: 49.5 KB\n"
     ]
    }
   ],
   "source": [
    "data_2.info()"
   ]
  },
  {
   "cell_type": "code",
   "execution_count": 5,
   "metadata": {},
   "outputs": [],
   "source": [
    "#для анализа данных необходимо объединить таблицы,\n",
    "#видим, что тип столбца puNumber, по которому будут соединяться датафреймы, различается,\n",
    "#он должен быть в числовом значении. Переведем в первом датасете значения в числовой формат\n",
    "data_1['puNumber'] = pd.to_numeric(data_1['puNumber'], errors='coerce')"
   ]
  },
  {
   "cell_type": "code",
   "execution_count": 6,
   "metadata": {},
   "outputs": [
    {
     "data": {
      "text/plain": [
       "1"
      ]
     },
     "execution_count": 6,
     "metadata": {},
     "output_type": "execute_result"
    }
   ],
   "source": [
    "#проверим сколько пропусков данных получено\n",
    "data_1['puNumber'].isna().sum()"
   ]
  },
  {
   "cell_type": "code",
   "execution_count": 7,
   "metadata": {},
   "outputs": [],
   "source": [
    "#заменим отсутсвующее значение на 0, т.к. это не повредит данным, но упростит обработку\n",
    "data_1['puNumber'] = data_1['puNumber'].fillna(0)"
   ]
  },
  {
   "cell_type": "code",
   "execution_count": 8,
   "metadata": {},
   "outputs": [
    {
     "data": {
      "text/plain": [
       "0"
      ]
     },
     "execution_count": 8,
     "metadata": {},
     "output_type": "execute_result"
    }
   ],
   "source": [
    "#перепроверка\n",
    "data_1['puNumber'].isna().sum()"
   ]
  },
  {
   "cell_type": "code",
   "execution_count": 9,
   "metadata": {},
   "outputs": [],
   "source": [
    "#объединим таблицы\n",
    "data = data_1.merge(data_2, on='puNumber', how='left', indicator=True)"
   ]
  },
  {
   "cell_type": "code",
   "execution_count": 10,
   "metadata": {},
   "outputs": [
    {
     "data": {
      "text/html": [
       "<div>\n",
       "<style scoped>\n",
       "    .dataframe tbody tr th:only-of-type {\n",
       "        vertical-align: middle;\n",
       "    }\n",
       "\n",
       "    .dataframe tbody tr th {\n",
       "        vertical-align: top;\n",
       "    }\n",
       "\n",
       "    .dataframe thead th {\n",
       "        text-align: right;\n",
       "    }\n",
       "</style>\n",
       "<table border=\"1\" class=\"dataframe\">\n",
       "  <thead>\n",
       "    <tr style=\"text-align: right;\">\n",
       "      <th></th>\n",
       "      <th>title</th>\n",
       "      <th>puNumber</th>\n",
       "      <th>show_start_date</th>\n",
       "      <th>type</th>\n",
       "      <th>film_studio</th>\n",
       "      <th>production_country</th>\n",
       "      <th>director</th>\n",
       "      <th>producer</th>\n",
       "      <th>age_restriction</th>\n",
       "      <th>refundable_support</th>\n",
       "      <th>nonrefundable_support</th>\n",
       "      <th>budget</th>\n",
       "      <th>financing_source</th>\n",
       "      <th>ratings</th>\n",
       "      <th>genres</th>\n",
       "      <th>box_office</th>\n",
       "      <th>_merge</th>\n",
       "    </tr>\n",
       "  </thead>\n",
       "  <tbody>\n",
       "    <tr>\n",
       "      <th>0</th>\n",
       "      <td>Открытый простор</td>\n",
       "      <td>221048915.0</td>\n",
       "      <td>2015-11-27T12:00:00.000Z</td>\n",
       "      <td>Художественный</td>\n",
       "      <td>Тачстоун Пикчерз, Кобальт Пикчерз, Бикон Пикче...</td>\n",
       "      <td>США</td>\n",
       "      <td>Кевин Костнер</td>\n",
       "      <td>Дэвид Валдес, Кевин Костнер, Джейк Эбертс</td>\n",
       "      <td>«18+» - запрещено для детей</td>\n",
       "      <td>NaN</td>\n",
       "      <td>NaN</td>\n",
       "      <td>NaN</td>\n",
       "      <td>NaN</td>\n",
       "      <td>7.2</td>\n",
       "      <td>боевик,драма,мелодрама</td>\n",
       "      <td>NaN</td>\n",
       "      <td>left_only</td>\n",
       "    </tr>\n",
       "    <tr>\n",
       "      <th>1</th>\n",
       "      <td>Особо важное задание</td>\n",
       "      <td>111013716.0</td>\n",
       "      <td>2016-09-13T12:00:00.000Z</td>\n",
       "      <td>Художественный</td>\n",
       "      <td>Киностудия \"Мосфильм\"</td>\n",
       "      <td>СССР</td>\n",
       "      <td>Е.Матвеев</td>\n",
       "      <td>NaN</td>\n",
       "      <td>«6+» - для детей старше 6 лет</td>\n",
       "      <td>NaN</td>\n",
       "      <td>NaN</td>\n",
       "      <td>NaN</td>\n",
       "      <td>NaN</td>\n",
       "      <td>6.6</td>\n",
       "      <td>драма,военный</td>\n",
       "      <td>NaN</td>\n",
       "      <td>left_only</td>\n",
       "    </tr>\n",
       "    <tr>\n",
       "      <th>2</th>\n",
       "      <td>Особо опасен</td>\n",
       "      <td>221038416.0</td>\n",
       "      <td>2016-10-10T12:00:00.000Z</td>\n",
       "      <td>Художественный</td>\n",
       "      <td>Юниверсал Пикчерз, Кикстарт Продакшнз, Марк Пл...</td>\n",
       "      <td>США</td>\n",
       "      <td>Тимур Бекмамбетов</td>\n",
       "      <td>Джим Лемли, Джейсон Нетер, Марк Е.Платт, Яйн Смит</td>\n",
       "      <td>«18+» - запрещено для детей</td>\n",
       "      <td>NaN</td>\n",
       "      <td>NaN</td>\n",
       "      <td>NaN</td>\n",
       "      <td>NaN</td>\n",
       "      <td>6.8</td>\n",
       "      <td>фантастика,боевик,триллер</td>\n",
       "      <td>NaN</td>\n",
       "      <td>left_only</td>\n",
       "    </tr>\n",
       "  </tbody>\n",
       "</table>\n",
       "</div>"
      ],
      "text/plain": [
       "                  title     puNumber           show_start_date  \\\n",
       "0      Открытый простор  221048915.0  2015-11-27T12:00:00.000Z   \n",
       "1  Особо важное задание  111013716.0  2016-09-13T12:00:00.000Z   \n",
       "2          Особо опасен  221038416.0  2016-10-10T12:00:00.000Z   \n",
       "\n",
       "             type                                        film_studio  \\\n",
       "0  Художественный  Тачстоун Пикчерз, Кобальт Пикчерз, Бикон Пикче...   \n",
       "1  Художественный                              Киностудия \"Мосфильм\"   \n",
       "2  Художественный  Юниверсал Пикчерз, Кикстарт Продакшнз, Марк Пл...   \n",
       "\n",
       "  production_country           director  \\\n",
       "0                США      Кевин Костнер   \n",
       "1               СССР          Е.Матвеев   \n",
       "2                США  Тимур Бекмамбетов   \n",
       "\n",
       "                                            producer  \\\n",
       "0          Дэвид Валдес, Кевин Костнер, Джейк Эбертс   \n",
       "1                                                NaN   \n",
       "2  Джим Лемли, Джейсон Нетер, Марк Е.Платт, Яйн Смит   \n",
       "\n",
       "                 age_restriction  refundable_support  nonrefundable_support  \\\n",
       "0    «18+» - запрещено для детей                 NaN                    NaN   \n",
       "1  «6+» - для детей старше 6 лет                 NaN                    NaN   \n",
       "2    «18+» - запрещено для детей                 NaN                    NaN   \n",
       "\n",
       "   budget financing_source ratings                     genres  box_office  \\\n",
       "0     NaN              NaN     7.2     боевик,драма,мелодрама         NaN   \n",
       "1     NaN              NaN     6.6              драма,военный         NaN   \n",
       "2     NaN              NaN     6.8  фантастика,боевик,триллер         NaN   \n",
       "\n",
       "      _merge  \n",
       "0  left_only  \n",
       "1  left_only  \n",
       "2  left_only  "
      ]
     },
     "execution_count": 10,
     "metadata": {},
     "output_type": "execute_result"
    }
   ],
   "source": [
    "data.head(3)"
   ]
  },
  {
   "cell_type": "code",
   "execution_count": 11,
   "metadata": {},
   "outputs": [
    {
     "data": {
      "text/plain": [
       "['left_only', 'both']\n",
       "Categories (3, object): ['left_only', 'right_only', 'both']"
      ]
     },
     "execution_count": 11,
     "metadata": {},
     "output_type": "execute_result"
    }
   ],
   "source": [
    "#проверим, что при объединении таблицы все данные были перенесены\n",
    "data['_merge'].unique()"
   ]
  },
  {
   "cell_type": "markdown",
   "metadata": {},
   "source": [
    "На первом этапе два датафрейма были объединены в один для упрощения анализа данных. Несмотря на необходимость корректировок перед объединением, нельзя сказать, что это все требующиеся правки."
   ]
  },
  {
   "cell_type": "markdown",
   "metadata": {
    "id": "KLDGpPG0gFyM"
   },
   "source": [
    "## Предобработка данных"
   ]
  },
  {
   "cell_type": "code",
   "execution_count": 12,
   "metadata": {
    "id": "kVGSplJOgFyO"
   },
   "outputs": [
    {
     "name": "stdout",
     "output_type": "stream",
     "text": [
      "<class 'pandas.core.frame.DataFrame'>\n",
      "RangeIndex: 7486 entries, 0 to 7485\n",
      "Data columns (total 17 columns):\n",
      " #   Column                 Non-Null Count  Dtype   \n",
      "---  ------                 --------------  -----   \n",
      " 0   title                  7486 non-null   object  \n",
      " 1   puNumber               7486 non-null   float64 \n",
      " 2   show_start_date        7486 non-null   object  \n",
      " 3   type                   7486 non-null   object  \n",
      " 4   film_studio            7468 non-null   object  \n",
      " 5   production_country     7484 non-null   object  \n",
      " 6   director               7477 non-null   object  \n",
      " 7   producer               6918 non-null   object  \n",
      " 8   age_restriction        7486 non-null   object  \n",
      " 9   refundable_support     332 non-null    float64 \n",
      " 10  nonrefundable_support  332 non-null    float64 \n",
      " 11  budget                 332 non-null    float64 \n",
      " 12  financing_source       332 non-null    object  \n",
      " 13  ratings                6519 non-null   object  \n",
      " 14  genres                 6510 non-null   object  \n",
      " 15  box_office             3158 non-null   float64 \n",
      " 16  _merge                 7486 non-null   category\n",
      "dtypes: category(1), float64(5), object(11)\n",
      "memory usage: 943.3+ KB\n"
     ]
    }
   ],
   "source": [
    "data.info()"
   ]
  },
  {
   "cell_type": "code",
   "execution_count": 13,
   "metadata": {},
   "outputs": [],
   "source": [
    "#скорректируем имя для номеров прокатных удостоверений\n",
    "data = data.rename(columns={'puNumber': 'pu_number'})"
   ]
  },
  {
   "cell_type": "code",
   "execution_count": 14,
   "metadata": {},
   "outputs": [],
   "source": [
    "#некоторые столбцы также требуют корректировку типов данных\n",
    "data['pu_number'] = data['pu_number'].astype('int64')\n",
    "data['show_start_date'] = pd.to_datetime(data['show_start_date'], format='%Y-%m-%dT%H:%M:%S.%fZ')"
   ]
  },
  {
   "cell_type": "code",
   "execution_count": 15,
   "metadata": {},
   "outputs": [
    {
     "name": "stdout",
     "output_type": "stream",
     "text": [
      "<class 'pandas.core.frame.DataFrame'>\n",
      "RangeIndex: 7486 entries, 0 to 7485\n",
      "Data columns (total 17 columns):\n",
      " #   Column                 Non-Null Count  Dtype         \n",
      "---  ------                 --------------  -----         \n",
      " 0   title                  7486 non-null   object        \n",
      " 1   pu_number              7486 non-null   int64         \n",
      " 2   show_start_date        7486 non-null   datetime64[ns]\n",
      " 3   type                   7486 non-null   object        \n",
      " 4   film_studio            7468 non-null   object        \n",
      " 5   production_country     7484 non-null   object        \n",
      " 6   director               7477 non-null   object        \n",
      " 7   producer               6918 non-null   object        \n",
      " 8   age_restriction        7486 non-null   object        \n",
      " 9   refundable_support     332 non-null    float64       \n",
      " 10  nonrefundable_support  332 non-null    float64       \n",
      " 11  budget                 332 non-null    float64       \n",
      " 12  financing_source       332 non-null    object        \n",
      " 13  ratings                6519 non-null   object        \n",
      " 14  genres                 6510 non-null   object        \n",
      " 15  box_office             3158 non-null   float64       \n",
      " 16  _merge                 7486 non-null   category      \n",
      "dtypes: category(1), datetime64[ns](1), float64(4), int64(1), object(10)\n",
      "memory usage: 943.3+ KB\n"
     ]
    }
   ],
   "source": [
    "#проверим весь датафрейм\n",
    "data.info()"
   ]
  },
  {
   "cell_type": "code",
   "execution_count": 16,
   "metadata": {
    "id": "8MJD_lkngFyP"
   },
   "outputs": [
    {
     "data": {
      "text/plain": [
       "title                       0\n",
       "pu_number                   0\n",
       "show_start_date             0\n",
       "type                        0\n",
       "film_studio                18\n",
       "production_country          2\n",
       "director                    9\n",
       "producer                  568\n",
       "age_restriction             0\n",
       "refundable_support       7154\n",
       "nonrefundable_support    7154\n",
       "budget                   7154\n",
       "financing_source         7154\n",
       "ratings                   967\n",
       "genres                    976\n",
       "box_office               4328\n",
       "_merge                      0\n",
       "dtype: int64"
      ]
     },
     "execution_count": 16,
     "metadata": {},
     "output_type": "execute_result"
    }
   ],
   "source": [
    "#рассмотрим пропуски в данных:\n",
    "data.isnull().sum()"
   ]
  },
  {
   "cell_type": "markdown",
   "metadata": {},
   "source": [
    "* film studio, production country, director, producer, genres - не будем заменять, оставим как есть.\n",
    "* financing source - отсутствие данных, скорее всего, означает отсутствие финансирования, оставим как есть.\n",
    "* refundable support, nonrefundable_support - ставим 0, т.к. отсутствие данных, скорее всего, означает отсуствие поддержки.\n",
    "* budget - ставим 0, т.к. указаны для данных, которые получили гос.поддержку, соответственно остальные фильмы не получали поддержку.\n",
    "* ratings, box_office - нет данных для замены, оставим как есть."
   ]
  },
  {
   "cell_type": "code",
   "execution_count": 17,
   "metadata": {},
   "outputs": [],
   "source": [
    "data['refundable_support'] = data['refundable_support'].fillna(0)\n",
    "data['nonrefundable_support'] = data['nonrefundable_support'].fillna(0)\n",
    "data['budget'] = data['budget'].fillna(0)"
   ]
  },
  {
   "cell_type": "code",
   "execution_count": 18,
   "metadata": {
    "id": "aKck8RIdgFyQ"
   },
   "outputs": [
    {
     "data": {
      "text/plain": [
       "0"
      ]
     },
     "execution_count": 18,
     "metadata": {},
     "output_type": "execute_result"
    }
   ],
   "source": [
    "#проверим явные дубликаты\n",
    "data.duplicated().sum()"
   ]
  },
  {
   "cell_type": "code",
   "execution_count": 19,
   "metadata": {},
   "outputs": [
    {
     "data": {
      "text/plain": [
       "0"
      ]
     },
     "execution_count": 19,
     "metadata": {},
     "output_type": "execute_result"
    }
   ],
   "source": [
    "#известно, что у одного фильма могут быть несколько прокатных удостоверений. Соответственно, связка наименование-прокатное \n",
    "#удостоверение должна быть уникальной\n",
    "data.duplicated(subset=['title', 'pu_number']).sum()\n",
    "#все связки уникальны, повторов нет"
   ]
  },
  {
   "cell_type": "code",
   "execution_count": 20,
   "metadata": {},
   "outputs": [
    {
     "data": {
      "text/plain": [
       "array(['Художественный', 'Анимационный', 'Прочие', 'Документальный',\n",
       "       'Научно-популярный', ' Художественный', ' Анимационный',\n",
       "       'Музыкально-развлекательный'], dtype=object)"
      ]
     },
     "execution_count": 20,
     "metadata": {},
     "output_type": "execute_result"
    }
   ],
   "source": [
    "#проверим неявные дубликаты\n",
    "data['type'].unique()"
   ]
  },
  {
   "cell_type": "code",
   "execution_count": 21,
   "metadata": {},
   "outputs": [],
   "source": [
    "#видим дублирование типов фильмов в виду наличия пробелов. Уберем их в след.шаге при детальной проверке категориальных значений."
   ]
  },
  {
   "cell_type": "code",
   "execution_count": 22,
   "metadata": {},
   "outputs": [
    {
     "data": {
      "text/plain": [
       "array([nan, 'Министерство культуры', 'Фонд кино',\n",
       "       'Министерство культуры, Фонд кино'], dtype=object)"
      ]
     },
     "execution_count": 22,
     "metadata": {},
     "output_type": "execute_result"
    }
   ],
   "source": [
    "data['financing_source'].unique()"
   ]
  },
  {
   "cell_type": "code",
   "execution_count": 23,
   "metadata": {},
   "outputs": [
    {
     "data": {
      "text/plain": [
       "array(['«18+» - запрещено для детей', '«6+» - для детей старше 6 лет',\n",
       "       '«12+» - для детей старше 12 лет',\n",
       "       '«16+» - для детей старше 16 лет',\n",
       "       '«0+» - для любой зрительской аудитории'], dtype=object)"
      ]
     },
     "execution_count": 23,
     "metadata": {},
     "output_type": "execute_result"
    }
   ],
   "source": [
    "data['age_restriction'].unique()"
   ]
  },
  {
   "cell_type": "code",
   "execution_count": 24,
   "metadata": {
    "id": "PnXKIVdFgFyR"
   },
   "outputs": [
    {
     "data": {
      "text/html": [
       "<div>\n",
       "<style scoped>\n",
       "    .dataframe tbody tr th:only-of-type {\n",
       "        vertical-align: middle;\n",
       "    }\n",
       "\n",
       "    .dataframe tbody tr th {\n",
       "        vertical-align: top;\n",
       "    }\n",
       "\n",
       "    .dataframe thead th {\n",
       "        text-align: right;\n",
       "    }\n",
       "</style>\n",
       "<table border=\"1\" class=\"dataframe\">\n",
       "  <thead>\n",
       "    <tr style=\"text-align: right;\">\n",
       "      <th></th>\n",
       "      <th>title</th>\n",
       "      <th>pu_number</th>\n",
       "      <th>show_start_date</th>\n",
       "      <th>type</th>\n",
       "      <th>film_studio</th>\n",
       "      <th>production_country</th>\n",
       "      <th>director</th>\n",
       "      <th>producer</th>\n",
       "      <th>age_restriction</th>\n",
       "      <th>refundable_support</th>\n",
       "      <th>nonrefundable_support</th>\n",
       "      <th>budget</th>\n",
       "      <th>financing_source</th>\n",
       "      <th>ratings</th>\n",
       "      <th>genres</th>\n",
       "      <th>box_office</th>\n",
       "      <th>_merge</th>\n",
       "    </tr>\n",
       "  </thead>\n",
       "  <tbody>\n",
       "    <tr>\n",
       "      <th>0</th>\n",
       "      <td>Открытый простор</td>\n",
       "      <td>221048915</td>\n",
       "      <td>2015-11-27 12:00:00</td>\n",
       "      <td>Художественный</td>\n",
       "      <td>Тачстоун Пикчерз, Кобальт Пикчерз, Бикон Пикче...</td>\n",
       "      <td>США</td>\n",
       "      <td>Кевин Костнер</td>\n",
       "      <td>Дэвид Валдес, Кевин Костнер, Джейк Эбертс</td>\n",
       "      <td>«18+» - запрещено для детей</td>\n",
       "      <td>0.0</td>\n",
       "      <td>0.0</td>\n",
       "      <td>0.0</td>\n",
       "      <td>NaN</td>\n",
       "      <td>7.2</td>\n",
       "      <td>боевик,драма,мелодрама</td>\n",
       "      <td>NaN</td>\n",
       "      <td>left_only</td>\n",
       "    </tr>\n",
       "    <tr>\n",
       "      <th>1</th>\n",
       "      <td>Особо важное задание</td>\n",
       "      <td>111013716</td>\n",
       "      <td>2016-09-13 12:00:00</td>\n",
       "      <td>Художественный</td>\n",
       "      <td>Киностудия \"Мосфильм\"</td>\n",
       "      <td>СССР</td>\n",
       "      <td>Е.Матвеев</td>\n",
       "      <td>NaN</td>\n",
       "      <td>«6+» - для детей старше 6 лет</td>\n",
       "      <td>0.0</td>\n",
       "      <td>0.0</td>\n",
       "      <td>0.0</td>\n",
       "      <td>NaN</td>\n",
       "      <td>6.6</td>\n",
       "      <td>драма,военный</td>\n",
       "      <td>NaN</td>\n",
       "      <td>left_only</td>\n",
       "    </tr>\n",
       "    <tr>\n",
       "      <th>2</th>\n",
       "      <td>Особо опасен</td>\n",
       "      <td>221038416</td>\n",
       "      <td>2016-10-10 12:00:00</td>\n",
       "      <td>Художественный</td>\n",
       "      <td>Юниверсал Пикчерз, Кикстарт Продакшнз, Марк Пл...</td>\n",
       "      <td>США</td>\n",
       "      <td>Тимур Бекмамбетов</td>\n",
       "      <td>Джим Лемли, Джейсон Нетер, Марк Е.Платт, Яйн Смит</td>\n",
       "      <td>«18+» - запрещено для детей</td>\n",
       "      <td>0.0</td>\n",
       "      <td>0.0</td>\n",
       "      <td>0.0</td>\n",
       "      <td>NaN</td>\n",
       "      <td>6.8</td>\n",
       "      <td>фантастика,боевик,триллер</td>\n",
       "      <td>NaN</td>\n",
       "      <td>left_only</td>\n",
       "    </tr>\n",
       "  </tbody>\n",
       "</table>\n",
       "</div>"
      ],
      "text/plain": [
       "                  title  pu_number     show_start_date            type  \\\n",
       "0      Открытый простор  221048915 2015-11-27 12:00:00  Художественный   \n",
       "1  Особо важное задание  111013716 2016-09-13 12:00:00  Художественный   \n",
       "2          Особо опасен  221038416 2016-10-10 12:00:00  Художественный   \n",
       "\n",
       "                                         film_studio production_country  \\\n",
       "0  Тачстоун Пикчерз, Кобальт Пикчерз, Бикон Пикче...                США   \n",
       "1                              Киностудия \"Мосфильм\"               СССР   \n",
       "2  Юниверсал Пикчерз, Кикстарт Продакшнз, Марк Пл...                США   \n",
       "\n",
       "            director                                           producer  \\\n",
       "0      Кевин Костнер          Дэвид Валдес, Кевин Костнер, Джейк Эбертс   \n",
       "1          Е.Матвеев                                                NaN   \n",
       "2  Тимур Бекмамбетов  Джим Лемли, Джейсон Нетер, Марк Е.Платт, Яйн Смит   \n",
       "\n",
       "                 age_restriction  refundable_support  nonrefundable_support  \\\n",
       "0    «18+» - запрещено для детей                 0.0                    0.0   \n",
       "1  «6+» - для детей старше 6 лет                 0.0                    0.0   \n",
       "2    «18+» - запрещено для детей                 0.0                    0.0   \n",
       "\n",
       "   budget financing_source ratings                     genres  box_office  \\\n",
       "0     0.0              NaN     7.2     боевик,драма,мелодрама         NaN   \n",
       "1     0.0              NaN     6.6              драма,военный         NaN   \n",
       "2     0.0              NaN     6.8  фантастика,боевик,триллер         NaN   \n",
       "\n",
       "      _merge  \n",
       "0  left_only  \n",
       "1  left_only  \n",
       "2  left_only  "
      ]
     },
     "execution_count": 24,
     "metadata": {},
     "output_type": "execute_result"
    }
   ],
   "source": [
    "#ассмотрим примеры категориальных значений по первым строкам датафрейма\n",
    "data.head(3)"
   ]
  },
  {
   "cell_type": "code",
   "execution_count": 25,
   "metadata": {},
   "outputs": [],
   "source": [
    "#ранее было выявлено наличие пробелов в столбце с типом фильма. Уберем лишние пробелы - это также уберет дубликаты\n",
    "data['type'] = data['type'].str.strip()"
   ]
  },
  {
   "cell_type": "code",
   "execution_count": 26,
   "metadata": {},
   "outputs": [
    {
     "data": {
      "text/plain": [
       "array(['боевик,драма,мелодрама', 'драма,военный',\n",
       "       'фантастика,боевик,триллер', 'драма', 'мелодрама,комедия'],\n",
       "      dtype=object)"
      ]
     },
     "execution_count": 26,
     "metadata": {},
     "output_type": "execute_result"
    }
   ],
   "source": [
    "#проверим данные в жанрах\n",
    "#будут приведены первые 5 значений из списка\n",
    "data['genres'].unique()[:5]"
   ]
  },
  {
   "cell_type": "code",
   "execution_count": 27,
   "metadata": {},
   "outputs": [
    {
     "data": {
      "text/plain": [
       "array(['боевик, драма, мелодрама', 'драма, военный',\n",
       "       'фантастика, боевик, триллер', 'драма', 'мелодрама, комедия'],\n",
       "      dtype=object)"
      ]
     },
     "execution_count": 27,
     "metadata": {},
     "output_type": "execute_result"
    }
   ],
   "source": [
    "#Видно, что между жанрами не стоят пробелы после запятой, скорректируем, так как понадобится выделить главный(=первый) жанр\n",
    "data['genres'] = data['genres'].str.replace(',', ', ')\n",
    "#будут приведены первые 5 значений из списка\n",
    "data['genres'].unique()[:5]"
   ]
  },
  {
   "cell_type": "markdown",
   "metadata": {},
   "source": [
    "В первую очередь, перечислим категориальные столбцы:\n",
    "* название фильма\n",
    "* номер прокатного удостоверния\n",
    "* дата премьеры\n",
    "* тип фильма\n",
    "* студия-производитель\n",
    "* страна-производитель\n",
    "* режиссер\n",
    "* продюсер\n",
    "* возрастная категория\n",
    "* источник гос.финансирования\n",
    "* рейтинг фильма\n",
    "* жанр фильма\n",
    "\n",
    "Анализируя категориальные столбцы, можно выявить общую проблему: множество уникальных значений, невозможных к группировке из-за отсутсвия единого формата оформления. На данный момент датафрем можно сгруппировать только по возрастной категории, источнику гос. финансирования, типу фильма - в виду наличия небольшого пула уникальных значений. В остальных слобцах группировка создаст множество уникальных значений, которые не только в самом деле будут дублировать друг друга, но и создадут таблицу, неприменимую к последующему анализу."
   ]
  },
  {
   "cell_type": "code",
   "execution_count": 28,
   "metadata": {
    "id": "YbzClBxagFyS"
   },
   "outputs": [
    {
     "data": {
      "text/plain": [
       "array([0.000000e+00, 3.500000e+06, 5.000000e+06, 7.000000e+06,\n",
       "       7.153119e+06, 7.346881e+06, 8.000000e+06, 9.000000e+06,\n",
       "       1.000000e+07, 1.500000e+07, 1.700000e+07, 1.900000e+07,\n",
       "       2.000000e+07, 2.500000e+07, 2.600000e+07, 2.800000e+07,\n",
       "       2.900000e+07, 3.000000e+07, 3.500000e+07, 3.600000e+07,\n",
       "       3.800000e+07, 4.000000e+07, 4.100000e+07, 4.400000e+07,\n",
       "       5.000000e+07, 5.500000e+07, 6.000000e+07, 7.500000e+07,\n",
       "       8.000000e+07, 1.000000e+08, 1.100000e+08, 1.150000e+08,\n",
       "       1.500000e+08, 1.800000e+08])"
      ]
     },
     "execution_count": 28,
     "metadata": {},
     "output_type": "execute_result"
    }
   ],
   "source": [
    "#проверим объемы гос.поддержки\n",
    "data['refundable_support'].sort_values().unique()"
   ]
  },
  {
   "cell_type": "code",
   "execution_count": 29,
   "metadata": {},
   "outputs": [
    {
     "data": {
      "text/plain": [
       "array([0.00000000e+00, 3.00000000e+06, 4.70000000e+06, 5.00000000e+06,\n",
       "       5.30000000e+06, 6.00000000e+06, 8.00000000e+06, 1.00000000e+07,\n",
       "       1.15200000e+07, 1.50000000e+07, 2.00000000e+07, 2.01452850e+07,\n",
       "       2.17000000e+07, 2.29040000e+07, 2.30000000e+07, 2.40000000e+07,\n",
       "       2.44500000e+07, 2.45000000e+07, 2.49860000e+07, 2.50000000e+07,\n",
       "       2.52000000e+07, 2.53450000e+07, 2.55000000e+07, 2.59000000e+07,\n",
       "       2.60000000e+07, 2.65000000e+07, 2.69500000e+07, 2.70000000e+07,\n",
       "       2.75000000e+07, 2.75100000e+07, 2.80000000e+07, 2.85000000e+07,\n",
       "       2.90000000e+07, 3.00000000e+07, 3.01239150e+07, 3.10000000e+07,\n",
       "       3.40000000e+07, 3.50000000e+07, 3.70000000e+07, 4.00000000e+07,\n",
       "       4.15000000e+07, 4.50000000e+07, 4.65022990e+07, 5.00000000e+07,\n",
       "       5.00008660e+07, 5.10000000e+07, 5.50000000e+07, 5.65790550e+07,\n",
       "       5.90000000e+07, 6.00000000e+07, 6.40000000e+07, 7.00000000e+07,\n",
       "       7.50000000e+07, 8.00000000e+07, 8.50000000e+07, 9.00000000e+07,\n",
       "       9.70000000e+07, 1.00000000e+08, 1.07847945e+08, 1.10000000e+08,\n",
       "       1.20000000e+08, 1.30000000e+08, 1.33000000e+08, 1.38969465e+08,\n",
       "       1.40000000e+08, 1.50000000e+08, 1.75000000e+08, 1.90000000e+08,\n",
       "       2.00000000e+08, 2.25000000e+08, 2.50000000e+08, 2.60000000e+08,\n",
       "       3.00000000e+08, 3.92104482e+08, 4.00000000e+08])"
      ]
     },
     "execution_count": 29,
     "metadata": {},
     "output_type": "execute_result"
    }
   ],
   "source": [
    "data['nonrefundable_support'].sort_values().unique()"
   ]
  },
  {
   "cell_type": "code",
   "execution_count": 30,
   "metadata": {},
   "outputs": [],
   "source": [
    "#объемы государтсвенного финансирования указаны в рублях"
   ]
  },
  {
   "cell_type": "code",
   "execution_count": 31,
   "metadata": {},
   "outputs": [
    {
     "data": {
      "text/plain": [
       "array(['7.2', '6.6', '6.8', '7.7', '8.3', '8.0', '7.8', '8.1', '7.1',\n",
       "       '6.0', '7.4', '5.8', '8.7', '6.3', '6.9', '5.0', '4.3', '7.3',\n",
       "       '7.0', '6.4', nan, '8.2', '7.5', '6.7', '7.9', '5.9', '6.2', '5.6',\n",
       "       '6.5', '2.4', '7.6', '6.1', '8.6', '8.5', '8.8', '5.5', '5.1',\n",
       "       '5.7', '5.4', '99%', '4.4', '4.5', '5.3', '4.1', '8.4', '2.6',\n",
       "       '3.8', '4.6', '4.8', '4.0', '3.0', '1.6', '4.2', '5.2', '4.7',\n",
       "       '4.9', '3.9', '2.7', '3.3', '2.9', '28%', '3.7', '1.4', '3.1',\n",
       "       '97%', '3.5', '3.2', '2.8', '1.5', '2.1', '2.5', '9.2', '3.4',\n",
       "       '1.1', '3.6', '83%', '64%', '91%', '94%', '62%', '79%', '90%',\n",
       "       '19%', '88%', '1.0', '89%', '1.3', '1.9', '1.8', '1.2', '1.7',\n",
       "       '9.0', '98%', '8.9', '9.1'], dtype=object)"
      ]
     },
     "execution_count": 31,
     "metadata": {},
     "output_type": "execute_result"
    }
   ],
   "source": [
    "#проверим рейтинги\n",
    "data['ratings'].unique()"
   ]
  },
  {
   "cell_type": "code",
   "execution_count": 32,
   "metadata": {},
   "outputs": [],
   "source": [
    "#избавимся от данных в процентах, т.к. неизвестно как был сформирован % и что он значит\n",
    "data['ratings'] = pd.to_numeric(data['ratings'], errors='coerce')"
   ]
  },
  {
   "cell_type": "code",
   "execution_count": 33,
   "metadata": {},
   "outputs": [
    {
     "data": {
      "text/plain": [
       "array([7.2, 6.6, 6.8, 7.7, 8.3, 8. , 7.8, 8.1, 7.1, 6. , 7.4, 5.8, 8.7,\n",
       "       6.3, 6.9, 5. , 4.3, 7.3, 7. , 6.4, nan, 8.2, 7.5, 6.7, 7.9, 5.9,\n",
       "       6.2, 5.6, 6.5, 2.4, 7.6, 6.1, 8.6, 8.5, 8.8, 5.5, 5.1, 5.7, 5.4,\n",
       "       4.4, 4.5, 5.3, 4.1, 8.4, 2.6, 3.8, 4.6, 4.8, 4. , 3. , 1.6, 4.2,\n",
       "       5.2, 4.7, 4.9, 3.9, 2.7, 3.3, 2.9, 3.7, 1.4, 3.1, 3.5, 3.2, 2.8,\n",
       "       1.5, 2.1, 2.5, 9.2, 3.4, 1.1, 3.6, 1. , 1.3, 1.9, 1.8, 1.2, 1.7,\n",
       "       9. , 8.9, 9.1])"
      ]
     },
     "execution_count": 33,
     "metadata": {},
     "output_type": "execute_result"
    }
   ],
   "source": [
    "#проверка\n",
    "data['ratings'].unique()"
   ]
  },
  {
   "cell_type": "code",
   "execution_count": 34,
   "metadata": {},
   "outputs": [
    {
     "data": {
      "text/plain": [
       "array([       0., 14462464., 15010000., 18166418., 18706080.])"
      ]
     },
     "execution_count": 34,
     "metadata": {},
     "output_type": "execute_result"
    }
   ],
   "source": [
    "#проверим объемы бюджета\n",
    "#будут приведены первые 5 значений\n",
    "data['budget'].sort_values().unique()[:5]"
   ]
  },
  {
   "cell_type": "code",
   "execution_count": 35,
   "metadata": {},
   "outputs": [
    {
     "data": {
      "text/plain": [
       "17"
      ]
     },
     "execution_count": 35,
     "metadata": {},
     "output_type": "execute_result"
    }
   ],
   "source": [
    "len(data.query('(refundable_support + nonrefundable_support) > budget'))"
   ]
  },
  {
   "cell_type": "markdown",
   "metadata": {},
   "source": [
    "По описанию данных, столбец бюджета уже включает в себя гос.поддержку (помимо прочих средств), здесь выведено кол-во фильмов, в котором бюджет меньше выделенных средств - можно назвать это ошибкой данных. \n",
    "Просто сложить объемы гос.средств будет некорректным, т.к. это будут неполные данные, поэтому эти данные можно удалить (6% от общего числа фильмов с гос.поддержкой)."
   ]
  },
  {
   "cell_type": "code",
   "execution_count": 36,
   "metadata": {},
   "outputs": [],
   "source": [
    "#удаляем фильмы с некорректными данными финансирования\n",
    "data = data[(data['refundable_support'] + data['nonrefundable_support']) <= data['budget']]"
   ]
  },
  {
   "cell_type": "code",
   "execution_count": 37,
   "metadata": {},
   "outputs": [
    {
     "data": {
      "text/plain": [
       "0"
      ]
     },
     "execution_count": 37,
     "metadata": {},
     "output_type": "execute_result"
    }
   ],
   "source": [
    "#проверка\n",
    "len(data.query('(refundable_support + nonrefundable_support) > budget'))"
   ]
  },
  {
   "cell_type": "code",
   "execution_count": 38,
   "metadata": {},
   "outputs": [
    {
     "data": {
      "text/plain": [
       "array([ 0., 40., 50., 75., 80.])"
      ]
     },
     "execution_count": 38,
     "metadata": {},
     "output_type": "execute_result"
    }
   ],
   "source": [
    "#проверим объемы кассовых сборов\n",
    "#будут приведены первые 5 значений\n",
    "data['box_office'].sort_values().unique()[:5]"
   ]
  },
  {
   "cell_type": "code",
   "execution_count": 39,
   "metadata": {},
   "outputs": [
    {
     "data": {
      "text/plain": [
       "count    3.141000e+03\n",
       "mean     7.600967e+07\n",
       "std      2.402503e+08\n",
       "min      0.000000e+00\n",
       "25%      8.395000e+04\n",
       "50%      2.284862e+06\n",
       "75%      2.344112e+07\n",
       "max      3.073569e+09\n",
       "Name: box_office, dtype: float64"
      ]
     },
     "execution_count": 39,
     "metadata": {},
     "output_type": "execute_result"
    }
   ],
   "source": [
    "#видно подозрительные низкие объемы сборов. Необохдимо более детально изучить данные\n",
    "data['box_office'].describe()"
   ]
  },
  {
   "cell_type": "markdown",
   "metadata": {},
   "source": [
    "С одной стороны, мы видим существенную разницу в сборах, с другой, информация о сборах фильмов отражает картину спроса, поэтому как низкие, так и высокие значения имеют место быть в данных."
   ]
  },
  {
   "cell_type": "code",
   "execution_count": 40,
   "metadata": {
    "id": "I-yd1DkWgFyT"
   },
   "outputs": [],
   "source": [
    "#создадим дополнительный столбец с годом проката, необходимый для послед. анализа\n",
    "data['show_start_year'] = data['show_start_date'].dt.year"
   ]
  },
  {
   "cell_type": "code",
   "execution_count": 41,
   "metadata": {
    "id": "LSbRZKbMgFyU"
   },
   "outputs": [],
   "source": [
    "#создадим два дополнительных столбца: с именем и фамилией главного режиссёра и основным жанром фильма\n",
    "def get_first_element(value):\n",
    "    '''\n",
    "    Возвращает первый элемент строки, если значение - строка, в противном случае - None.\n",
    "    '''\n",
    "    try:\n",
    "        return value.split(',')[0]\n",
    "    except AttributeError:\n",
    "        return None\n",
    "\n",
    "data['first_director'] = data['director'].apply(get_first_element)\n",
    "data['first_genre'] = data['genres'].apply(get_first_element)"
   ]
  },
  {
   "cell_type": "code",
   "execution_count": 42,
   "metadata": {},
   "outputs": [
    {
     "data": {
      "text/html": [
       "<div>\n",
       "<style scoped>\n",
       "    .dataframe tbody tr th:only-of-type {\n",
       "        vertical-align: middle;\n",
       "    }\n",
       "\n",
       "    .dataframe tbody tr th {\n",
       "        vertical-align: top;\n",
       "    }\n",
       "\n",
       "    .dataframe thead th {\n",
       "        text-align: right;\n",
       "    }\n",
       "</style>\n",
       "<table border=\"1\" class=\"dataframe\">\n",
       "  <thead>\n",
       "    <tr style=\"text-align: right;\">\n",
       "      <th></th>\n",
       "      <th>title</th>\n",
       "      <th>pu_number</th>\n",
       "      <th>show_start_date</th>\n",
       "      <th>type</th>\n",
       "      <th>film_studio</th>\n",
       "      <th>production_country</th>\n",
       "      <th>director</th>\n",
       "      <th>producer</th>\n",
       "      <th>age_restriction</th>\n",
       "      <th>refundable_support</th>\n",
       "      <th>nonrefundable_support</th>\n",
       "      <th>budget</th>\n",
       "      <th>financing_source</th>\n",
       "      <th>ratings</th>\n",
       "      <th>genres</th>\n",
       "      <th>box_office</th>\n",
       "      <th>_merge</th>\n",
       "      <th>show_start_year</th>\n",
       "      <th>first_director</th>\n",
       "      <th>first_genre</th>\n",
       "    </tr>\n",
       "  </thead>\n",
       "  <tbody>\n",
       "    <tr>\n",
       "      <th>0</th>\n",
       "      <td>Открытый простор</td>\n",
       "      <td>221048915</td>\n",
       "      <td>2015-11-27 12:00:00</td>\n",
       "      <td>Художественный</td>\n",
       "      <td>Тачстоун Пикчерз, Кобальт Пикчерз, Бикон Пикче...</td>\n",
       "      <td>США</td>\n",
       "      <td>Кевин Костнер</td>\n",
       "      <td>Дэвид Валдес, Кевин Костнер, Джейк Эбертс</td>\n",
       "      <td>«18+» - запрещено для детей</td>\n",
       "      <td>0.0</td>\n",
       "      <td>0.0</td>\n",
       "      <td>0.0</td>\n",
       "      <td>NaN</td>\n",
       "      <td>7.2</td>\n",
       "      <td>боевик, драма, мелодрама</td>\n",
       "      <td>NaN</td>\n",
       "      <td>left_only</td>\n",
       "      <td>2015</td>\n",
       "      <td>Кевин Костнер</td>\n",
       "      <td>боевик</td>\n",
       "    </tr>\n",
       "    <tr>\n",
       "      <th>1</th>\n",
       "      <td>Особо важное задание</td>\n",
       "      <td>111013716</td>\n",
       "      <td>2016-09-13 12:00:00</td>\n",
       "      <td>Художественный</td>\n",
       "      <td>Киностудия \"Мосфильм\"</td>\n",
       "      <td>СССР</td>\n",
       "      <td>Е.Матвеев</td>\n",
       "      <td>NaN</td>\n",
       "      <td>«6+» - для детей старше 6 лет</td>\n",
       "      <td>0.0</td>\n",
       "      <td>0.0</td>\n",
       "      <td>0.0</td>\n",
       "      <td>NaN</td>\n",
       "      <td>6.6</td>\n",
       "      <td>драма, военный</td>\n",
       "      <td>NaN</td>\n",
       "      <td>left_only</td>\n",
       "      <td>2016</td>\n",
       "      <td>Е.Матвеев</td>\n",
       "      <td>драма</td>\n",
       "    </tr>\n",
       "    <tr>\n",
       "      <th>2</th>\n",
       "      <td>Особо опасен</td>\n",
       "      <td>221038416</td>\n",
       "      <td>2016-10-10 12:00:00</td>\n",
       "      <td>Художественный</td>\n",
       "      <td>Юниверсал Пикчерз, Кикстарт Продакшнз, Марк Пл...</td>\n",
       "      <td>США</td>\n",
       "      <td>Тимур Бекмамбетов</td>\n",
       "      <td>Джим Лемли, Джейсон Нетер, Марк Е.Платт, Яйн Смит</td>\n",
       "      <td>«18+» - запрещено для детей</td>\n",
       "      <td>0.0</td>\n",
       "      <td>0.0</td>\n",
       "      <td>0.0</td>\n",
       "      <td>NaN</td>\n",
       "      <td>6.8</td>\n",
       "      <td>фантастика, боевик, триллер</td>\n",
       "      <td>NaN</td>\n",
       "      <td>left_only</td>\n",
       "      <td>2016</td>\n",
       "      <td>Тимур Бекмамбетов</td>\n",
       "      <td>фантастика</td>\n",
       "    </tr>\n",
       "  </tbody>\n",
       "</table>\n",
       "</div>"
      ],
      "text/plain": [
       "                  title  pu_number     show_start_date            type  \\\n",
       "0      Открытый простор  221048915 2015-11-27 12:00:00  Художественный   \n",
       "1  Особо важное задание  111013716 2016-09-13 12:00:00  Художественный   \n",
       "2          Особо опасен  221038416 2016-10-10 12:00:00  Художественный   \n",
       "\n",
       "                                         film_studio production_country  \\\n",
       "0  Тачстоун Пикчерз, Кобальт Пикчерз, Бикон Пикче...                США   \n",
       "1                              Киностудия \"Мосфильм\"               СССР   \n",
       "2  Юниверсал Пикчерз, Кикстарт Продакшнз, Марк Пл...                США   \n",
       "\n",
       "            director                                           producer  \\\n",
       "0      Кевин Костнер          Дэвид Валдес, Кевин Костнер, Джейк Эбертс   \n",
       "1          Е.Матвеев                                                NaN   \n",
       "2  Тимур Бекмамбетов  Джим Лемли, Джейсон Нетер, Марк Е.Платт, Яйн Смит   \n",
       "\n",
       "                 age_restriction  refundable_support  nonrefundable_support  \\\n",
       "0    «18+» - запрещено для детей                 0.0                    0.0   \n",
       "1  «6+» - для детей старше 6 лет                 0.0                    0.0   \n",
       "2    «18+» - запрещено для детей                 0.0                    0.0   \n",
       "\n",
       "   budget financing_source  ratings                       genres  box_office  \\\n",
       "0     0.0              NaN      7.2     боевик, драма, мелодрама         NaN   \n",
       "1     0.0              NaN      6.6               драма, военный         NaN   \n",
       "2     0.0              NaN      6.8  фантастика, боевик, триллер         NaN   \n",
       "\n",
       "      _merge  show_start_year     first_director first_genre  \n",
       "0  left_only             2015      Кевин Костнер      боевик  \n",
       "1  left_only             2016          Е.Матвеев       драма  \n",
       "2  left_only             2016  Тимур Бекмамбетов  фантастика  "
      ]
     },
     "execution_count": 42,
     "metadata": {},
     "output_type": "execute_result"
    }
   ],
   "source": [
    "data.head(3)"
   ]
  },
  {
   "cell_type": "code",
   "execution_count": 43,
   "metadata": {
    "id": "LV6qFuZLgFyV"
   },
   "outputs": [],
   "source": [
    "#добавим дополнительный столбец с расчетом доли гос.поддержки от общего бюджета фильма\n",
    "data['gov_share'] = (data['refundable_support'] + data['nonrefundable_support']) / data ['budget']"
   ]
  },
  {
   "cell_type": "markdown",
   "metadata": {},
   "source": [
    "На данном этапе имеющиеся данные были рассмотрены более подробно, проведена предобработка данных, в которой были удалены неявные дубликаты в типах фильмом, нестыковки в бюджете и объеме финансирования, рейтинги приведены к единому виду, жанры приведены в \"читабельный\" вид. Также были добавлены дополнительные столбцы для анализа."
   ]
  },
  {
   "cell_type": "markdown",
   "metadata": {
    "id": "6t4EukPLgFyV"
   },
   "source": [
    "## Исследовательский анализ данных\n",
    "### Анализ динамики проката по годам"
   ]
  },
  {
   "cell_type": "code",
   "execution_count": 44,
   "metadata": {
    "id": "ABeV47y7gFyW"
   },
   "outputs": [
    {
     "data": {
      "text/html": [
       "<div>\n",
       "<style scoped>\n",
       "    .dataframe tbody tr th:only-of-type {\n",
       "        vertical-align: middle;\n",
       "    }\n",
       "\n",
       "    .dataframe tbody tr th {\n",
       "        vertical-align: top;\n",
       "    }\n",
       "\n",
       "    .dataframe thead th {\n",
       "        text-align: right;\n",
       "    }\n",
       "</style>\n",
       "<table border=\"1\" class=\"dataframe\">\n",
       "  <thead>\n",
       "    <tr style=\"text-align: right;\">\n",
       "      <th></th>\n",
       "      <th>show_start_year</th>\n",
       "      <th>pu_number</th>\n",
       "    </tr>\n",
       "  </thead>\n",
       "  <tbody>\n",
       "    <tr>\n",
       "      <th>0</th>\n",
       "      <td>2010</td>\n",
       "      <td>985</td>\n",
       "    </tr>\n",
       "    <tr>\n",
       "      <th>1</th>\n",
       "      <td>2011</td>\n",
       "      <td>622</td>\n",
       "    </tr>\n",
       "    <tr>\n",
       "      <th>2</th>\n",
       "      <td>2012</td>\n",
       "      <td>593</td>\n",
       "    </tr>\n",
       "    <tr>\n",
       "      <th>3</th>\n",
       "      <td>2013</td>\n",
       "      <td>630</td>\n",
       "    </tr>\n",
       "    <tr>\n",
       "      <th>4</th>\n",
       "      <td>2014</td>\n",
       "      <td>806</td>\n",
       "    </tr>\n",
       "    <tr>\n",
       "      <th>5</th>\n",
       "      <td>2015</td>\n",
       "      <td>699</td>\n",
       "    </tr>\n",
       "    <tr>\n",
       "      <th>6</th>\n",
       "      <td>2016</td>\n",
       "      <td>815</td>\n",
       "    </tr>\n",
       "    <tr>\n",
       "      <th>7</th>\n",
       "      <td>2017</td>\n",
       "      <td>503</td>\n",
       "    </tr>\n",
       "    <tr>\n",
       "      <th>8</th>\n",
       "      <td>2018</td>\n",
       "      <td>887</td>\n",
       "    </tr>\n",
       "    <tr>\n",
       "      <th>9</th>\n",
       "      <td>2019</td>\n",
       "      <td>929</td>\n",
       "    </tr>\n",
       "  </tbody>\n",
       "</table>\n",
       "</div>"
      ],
      "text/plain": [
       "   show_start_year  pu_number\n",
       "0             2010        985\n",
       "1             2011        622\n",
       "2             2012        593\n",
       "3             2013        630\n",
       "4             2014        806\n",
       "5             2015        699\n",
       "6             2016        815\n",
       "7             2017        503\n",
       "8             2018        887\n",
       "9             2019        929"
      ]
     },
     "execution_count": 44,
     "metadata": {},
     "output_type": "execute_result"
    }
   ],
   "source": [
    "#вычислим, сколько фильмов выходило в прокат в год\n",
    "data_pu = data.pivot_table(index='show_start_year', values='pu_number', aggfunc='count').reset_index()\n",
    "data_pu"
   ]
  },
  {
   "cell_type": "code",
   "execution_count": 45,
   "metadata": {},
   "outputs": [
    {
     "data": {
      "image/png": "[encoded data removed]",
      "text/plain": [
       "<Figure size 640x480 with 1 Axes>"
      ]
     },
     "metadata": {},
     "output_type": "display_data"
    }
   ],
   "source": [
    "data_pu.plot(x='show_start_year', y='pu_number', kind='bar', legend=False, color='seagreen')\n",
    "plt.title('Динамика выхода в прокат фильмов')\n",
    "plt.ylabel('Кол-во прокатных удостоверений, шт.')\n",
    "plt.xlabel('Год')\n",
    "plt.show()"
   ]
  },
  {
   "cell_type": "markdown",
   "metadata": {},
   "source": [
    "Согласно полученным данным, наименьше всего прокатных удостоврений было выдано в 2017 году, больше всего - 985 ед. - в 2010."
   ]
  },
  {
   "cell_type": "code",
   "execution_count": 46,
   "metadata": {},
   "outputs": [
    {
     "data": {
      "text/html": [
       "<div>\n",
       "<style scoped>\n",
       "    .dataframe tbody tr th:only-of-type {\n",
       "        vertical-align: middle;\n",
       "    }\n",
       "\n",
       "    .dataframe tbody tr th {\n",
       "        vertical-align: top;\n",
       "    }\n",
       "\n",
       "    .dataframe thead th {\n",
       "        text-align: right;\n",
       "    }\n",
       "</style>\n",
       "<table border=\"1\" class=\"dataframe\">\n",
       "  <thead>\n",
       "    <tr style=\"text-align: right;\">\n",
       "      <th></th>\n",
       "      <th>show_start_year</th>\n",
       "      <th>box_office</th>\n",
       "      <th>title</th>\n",
       "      <th>info_share</th>\n",
       "    </tr>\n",
       "  </thead>\n",
       "  <tbody>\n",
       "    <tr>\n",
       "      <th>0</th>\n",
       "      <td>2010</td>\n",
       "      <td>105</td>\n",
       "      <td>985</td>\n",
       "      <td>10.659898</td>\n",
       "    </tr>\n",
       "    <tr>\n",
       "      <th>1</th>\n",
       "      <td>2011</td>\n",
       "      <td>109</td>\n",
       "      <td>622</td>\n",
       "      <td>17.524116</td>\n",
       "    </tr>\n",
       "    <tr>\n",
       "      <th>2</th>\n",
       "      <td>2012</td>\n",
       "      <td>128</td>\n",
       "      <td>593</td>\n",
       "      <td>21.585160</td>\n",
       "    </tr>\n",
       "    <tr>\n",
       "      <th>3</th>\n",
       "      <td>2013</td>\n",
       "      <td>184</td>\n",
       "      <td>630</td>\n",
       "      <td>29.206349</td>\n",
       "    </tr>\n",
       "    <tr>\n",
       "      <th>4</th>\n",
       "      <td>2014</td>\n",
       "      <td>278</td>\n",
       "      <td>806</td>\n",
       "      <td>34.491315</td>\n",
       "    </tr>\n",
       "    <tr>\n",
       "      <th>5</th>\n",
       "      <td>2015</td>\n",
       "      <td>459</td>\n",
       "      <td>699</td>\n",
       "      <td>65.665236</td>\n",
       "    </tr>\n",
       "    <tr>\n",
       "      <th>6</th>\n",
       "      <td>2016</td>\n",
       "      <td>523</td>\n",
       "      <td>815</td>\n",
       "      <td>64.171779</td>\n",
       "    </tr>\n",
       "    <tr>\n",
       "      <th>7</th>\n",
       "      <td>2017</td>\n",
       "      <td>355</td>\n",
       "      <td>503</td>\n",
       "      <td>70.576541</td>\n",
       "    </tr>\n",
       "    <tr>\n",
       "      <th>8</th>\n",
       "      <td>2018</td>\n",
       "      <td>471</td>\n",
       "      <td>887</td>\n",
       "      <td>53.100338</td>\n",
       "    </tr>\n",
       "    <tr>\n",
       "      <th>9</th>\n",
       "      <td>2019</td>\n",
       "      <td>529</td>\n",
       "      <td>929</td>\n",
       "      <td>56.942949</td>\n",
       "    </tr>\n",
       "  </tbody>\n",
       "</table>\n",
       "</div>"
      ],
      "text/plain": [
       "   show_start_year  box_office  title  info_share\n",
       "0             2010         105    985   10.659898\n",
       "1             2011         109    622   17.524116\n",
       "2             2012         128    593   21.585160\n",
       "3             2013         184    630   29.206349\n",
       "4             2014         278    806   34.491315\n",
       "5             2015         459    699   65.665236\n",
       "6             2016         523    815   64.171779\n",
       "7             2017         355    503   70.576541\n",
       "8             2018         471    887   53.100338\n",
       "9             2019         529    929   56.942949"
      ]
     },
     "execution_count": 46,
     "metadata": {},
     "output_type": "execute_result"
    }
   ],
   "source": [
    "#посчитаем, какую долю составляют фильмы с заполненной информацией о прокате в кинотеатрах\n",
    "#фильм с заполненной информацией по прокату в кинотеатрах = фильм с указанием суммы кассовых сборов\n",
    "data_info_cinema = data.pivot_table(index='show_start_year', values=['box_office', 'title'], aggfunc='count').reset_index()\n",
    "data_info_cinema['info_share'] = (data_info_cinema['box_office'] / data_info_cinema['title']) * 100\n",
    "data_info_cinema"
   ]
  },
  {
   "cell_type": "code",
   "execution_count": 47,
   "metadata": {},
   "outputs": [
    {
     "data": {
      "image/png": "[encoded data removed]",
      "text/plain": [
       "<Figure size 640x480 with 1 Axes>"
      ]
     },
     "metadata": {},
     "output_type": "display_data"
    }
   ],
   "source": [
    "data_info_cinema.plot(x='show_start_year', y='info_share', kind='bar', legend=False, color='seagreen')\n",
    "plt.title('Динамика доли фильмов с информацией о прокатах в кинотеатрах')\n",
    "plt.ylabel('Доля от общего числа фильмов, %')\n",
    "plt.xlabel('Год')\n",
    "plt.show()"
   ]
  },
  {
   "cell_type": "markdown",
   "metadata": {},
   "source": [
    "Согласно полученным данным, информация по прокату увеличивалась из года в год до 2017. С 2018 заметно снижение объема данных, однако, 2019 год показывает рост. Наиболее полно информация представлена в 2017 году, когда было выпущено наименьшее кол-во прокатов в год."
   ]
  },
  {
   "cell_type": "markdown",
   "metadata": {
    "id": "BEOdcIrIgFyW"
   },
   "source": [
    "### Анализ сборов фильмов по годам"
   ]
  },
  {
   "cell_type": "code",
   "execution_count": 48,
   "metadata": {
    "id": "tfEhofYvgFyX"
   },
   "outputs": [
    {
     "data": {
      "text/html": [
       "<div>\n",
       "<style scoped>\n",
       "    .dataframe tbody tr th:only-of-type {\n",
       "        vertical-align: middle;\n",
       "    }\n",
       "\n",
       "    .dataframe tbody tr th {\n",
       "        vertical-align: top;\n",
       "    }\n",
       "\n",
       "    .dataframe thead th {\n",
       "        text-align: right;\n",
       "    }\n",
       "</style>\n",
       "<table border=\"1\" class=\"dataframe\">\n",
       "  <thead>\n",
       "    <tr style=\"text-align: right;\">\n",
       "      <th></th>\n",
       "      <th>show_start_year</th>\n",
       "      <th>box_office</th>\n",
       "    </tr>\n",
       "  </thead>\n",
       "  <tbody>\n",
       "    <tr>\n",
       "      <th>0</th>\n",
       "      <td>2010</td>\n",
       "      <td>2.428654</td>\n",
       "    </tr>\n",
       "    <tr>\n",
       "      <th>1</th>\n",
       "      <td>2011</td>\n",
       "      <td>14.102765</td>\n",
       "    </tr>\n",
       "    <tr>\n",
       "      <th>2</th>\n",
       "      <td>2012</td>\n",
       "      <td>6.955423</td>\n",
       "    </tr>\n",
       "    <tr>\n",
       "      <th>3</th>\n",
       "      <td>2013</td>\n",
       "      <td>29.799706</td>\n",
       "    </tr>\n",
       "    <tr>\n",
       "      <th>4</th>\n",
       "      <td>2014</td>\n",
       "      <td>7434.717843</td>\n",
       "    </tr>\n",
       "    <tr>\n",
       "      <th>5</th>\n",
       "      <td>2015</td>\n",
       "      <td>38527.827199</td>\n",
       "    </tr>\n",
       "    <tr>\n",
       "      <th>6</th>\n",
       "      <td>2016</td>\n",
       "      <td>46742.316269</td>\n",
       "    </tr>\n",
       "    <tr>\n",
       "      <th>7</th>\n",
       "      <td>2017</td>\n",
       "      <td>48458.147254</td>\n",
       "    </tr>\n",
       "    <tr>\n",
       "      <th>8</th>\n",
       "      <td>2018</td>\n",
       "      <td>49251.991405</td>\n",
       "    </tr>\n",
       "    <tr>\n",
       "      <th>9</th>\n",
       "      <td>2019</td>\n",
       "      <td>48278.101953</td>\n",
       "    </tr>\n",
       "  </tbody>\n",
       "</table>\n",
       "</div>"
      ],
      "text/plain": [
       "   show_start_year    box_office\n",
       "0             2010      2.428654\n",
       "1             2011     14.102765\n",
       "2             2012      6.955423\n",
       "3             2013     29.799706\n",
       "4             2014   7434.717843\n",
       "5             2015  38527.827199\n",
       "6             2016  46742.316269\n",
       "7             2017  48458.147254\n",
       "8             2018  49251.991405\n",
       "9             2019  48278.101953"
      ]
     },
     "execution_count": 48,
     "metadata": {},
     "output_type": "execute_result"
    }
   ],
   "source": [
    "data_earn_cinema = data.pivot_table(index='show_start_year', values='box_office', aggfunc='sum').reset_index()\n",
    "data_earn_cinema['box_office'] = data_earn_cinema['box_office'] / 1000000\n",
    "data_earn_cinema"
   ]
  },
  {
   "cell_type": "code",
   "execution_count": 49,
   "metadata": {},
   "outputs": [
    {
     "data": {
      "image/png": "[encoded data removed]",
      "text/plain": [
       "<Figure size 640x480 with 1 Axes>"
      ]
     },
     "metadata": {},
     "output_type": "display_data"
    }
   ],
   "source": [
    "data_earn_cinema.plot(x='show_start_year', y='box_office', kind='bar', legend=False, color='seagreen')\n",
    "plt.title('Динамика сумма сборов фильмов')\n",
    "plt.ylabel('Сумма сборов, млн руб.')\n",
    "plt.xlabel('Год')\n",
    "plt.show()"
   ]
  },
  {
   "cell_type": "markdown",
   "metadata": {},
   "source": [
    "Согласно полученным данным, с 2015 года виден существенный рост в кассовых сборах. Наиболее прибыльный год - 2018, наименее прибыльный - 2010. Однако нельзя с полной уверенностью сказать, что до 2015 года доходность фильмов была крайне низкая - согласно предыдущему графику, объем информации за 2010-2015 гг. был заметно ниже, что позволяет говорить о недостатке данных.  "
   ]
  },
  {
   "cell_type": "code",
   "execution_count": 50,
   "metadata": {
    "id": "jmp-rgg9gFyY"
   },
   "outputs": [
    {
     "data": {
      "text/html": [
       "<div>\n",
       "<style scoped>\n",
       "    .dataframe tbody tr th:only-of-type {\n",
       "        vertical-align: middle;\n",
       "    }\n",
       "\n",
       "    .dataframe tbody tr th {\n",
       "        vertical-align: top;\n",
       "    }\n",
       "\n",
       "    .dataframe thead th {\n",
       "        text-align: right;\n",
       "    }\n",
       "</style>\n",
       "<table border=\"1\" class=\"dataframe\">\n",
       "  <thead>\n",
       "    <tr style=\"text-align: right;\">\n",
       "      <th></th>\n",
       "      <th>mean</th>\n",
       "      <th>median</th>\n",
       "    </tr>\n",
       "    <tr>\n",
       "      <th>show_start_year</th>\n",
       "      <th></th>\n",
       "      <th></th>\n",
       "    </tr>\n",
       "  </thead>\n",
       "  <tbody>\n",
       "    <tr>\n",
       "      <th>2010</th>\n",
       "      <td>2.313004e+04</td>\n",
       "      <td>1700.00</td>\n",
       "    </tr>\n",
       "    <tr>\n",
       "      <th>2011</th>\n",
       "      <td>1.293832e+05</td>\n",
       "      <td>3000.00</td>\n",
       "    </tr>\n",
       "    <tr>\n",
       "      <th>2012</th>\n",
       "      <td>5.433924e+04</td>\n",
       "      <td>5660.00</td>\n",
       "    </tr>\n",
       "    <tr>\n",
       "      <th>2013</th>\n",
       "      <td>1.619549e+05</td>\n",
       "      <td>3522.50</td>\n",
       "    </tr>\n",
       "    <tr>\n",
       "      <th>2014</th>\n",
       "      <td>2.674359e+07</td>\n",
       "      <td>18137.50</td>\n",
       "    </tr>\n",
       "    <tr>\n",
       "      <th>2015</th>\n",
       "      <td>8.393862e+07</td>\n",
       "      <td>4784781.50</td>\n",
       "    </tr>\n",
       "    <tr>\n",
       "      <th>2016</th>\n",
       "      <td>8.937345e+07</td>\n",
       "      <td>3776087.56</td>\n",
       "    </tr>\n",
       "    <tr>\n",
       "      <th>2017</th>\n",
       "      <td>1.365018e+08</td>\n",
       "      <td>9919415.00</td>\n",
       "    </tr>\n",
       "    <tr>\n",
       "      <th>2018</th>\n",
       "      <td>1.045690e+08</td>\n",
       "      <td>8751895.75</td>\n",
       "    </tr>\n",
       "    <tr>\n",
       "      <th>2019</th>\n",
       "      <td>9.126295e+07</td>\n",
       "      <td>4601033.60</td>\n",
       "    </tr>\n",
       "  </tbody>\n",
       "</table>\n",
       "</div>"
      ],
      "text/plain": [
       "                         mean      median\n",
       "show_start_year                          \n",
       "2010             2.313004e+04     1700.00\n",
       "2011             1.293832e+05     3000.00\n",
       "2012             5.433924e+04     5660.00\n",
       "2013             1.619549e+05     3522.50\n",
       "2014             2.674359e+07    18137.50\n",
       "2015             8.393862e+07  4784781.50\n",
       "2016             8.937345e+07  3776087.56\n",
       "2017             1.365018e+08  9919415.00\n",
       "2018             1.045690e+08  8751895.75\n",
       "2019             9.126295e+07  4601033.60"
      ]
     },
     "execution_count": 50,
     "metadata": {},
     "output_type": "execute_result"
    }
   ],
   "source": [
    "#рассчитаем среднюю сумму сборов для каждого года\n",
    "data.pivot_table(index='show_start_year', values='box_office', aggfunc={'mean', 'median'})"
   ]
  },
  {
   "cell_type": "markdown",
   "metadata": {},
   "source": [
    "Анализируя полученные таблицы, можно увидеть, что в данных имеет место быть существенная разница в суммах сборов по годам. Медиана \"отсекает\" такие выбросы и показывает наиболее чаще встречающуюся картину. Стоит выделить 2012 год, в котором были наиболее \"сбалансированные\" данные - медиана и средняя по году достаточно близки.\n",
    "\n",
    "Данная разница вызвана наличием \"выбросов\" в данных по кассовым сборам: определенные фильмы собирали доход многим выше остальных, что нормально - не всем фильмам быть \"самыми кассовыми\" за год."
   ]
  },
  {
   "cell_type": "markdown",
   "metadata": {
    "id": "Ok89WFwJgFyZ"
   },
   "source": [
    "### Анализ сборов в разрезе возрастного ограничения на фильмах"
   ]
  },
  {
   "cell_type": "code",
   "execution_count": 51,
   "metadata": {
    "id": "jsSbEqfjgFya"
   },
   "outputs": [],
   "source": [
    "data_age = data.query('2015 <= show_start_year <= 2019')"
   ]
  },
  {
   "cell_type": "code",
   "execution_count": 52,
   "metadata": {},
   "outputs": [
    {
     "data": {
      "image/png": "[encoded data removed]",
      "text/plain": [
       "<Figure size 1500x700 with 1 Axes>"
      ]
     },
     "metadata": {},
     "output_type": "display_data"
    }
   ],
   "source": [
    "data_age_year = data_age.pivot_table(index='show_start_year', columns='age_restriction', values='box_office', aggfunc='mean').reset_index()\n",
    "data_age_year.plot(x='show_start_year', y=['«18+» - запрещено для детей', '«16+» - для детей старше 16 лет',\\\n",
    "                                           '«12+» - для детей старше 12 лет', '«6+» - для детей старше 6 лет',\\\n",
    "                                           '«0+» - для любой зрительской аудитории'], legend=True, figsize=(15,7))\n",
    "plt.title('Медианная сумма сборов фильмов по возрастной категории')\n",
    "plt.ylabel('Сумма сборов, руб')\n",
    "plt.xlabel('Год')\n",
    "plt.xticks(np.arange(min(data_age_year['show_start_year']), max(data_age_year['show_start_year']), 1))\n",
    "plt.show()"
   ]
  },
  {
   "cell_type": "code",
   "execution_count": 53,
   "metadata": {},
   "outputs": [
    {
     "data": {
      "text/html": [
       "<div>\n",
       "<style scoped>\n",
       "    .dataframe tbody tr th:only-of-type {\n",
       "        vertical-align: middle;\n",
       "    }\n",
       "\n",
       "    .dataframe tbody tr th {\n",
       "        vertical-align: top;\n",
       "    }\n",
       "\n",
       "    .dataframe thead th {\n",
       "        text-align: right;\n",
       "    }\n",
       "</style>\n",
       "<table border=\"1\" class=\"dataframe\">\n",
       "  <thead>\n",
       "    <tr style=\"text-align: right;\">\n",
       "      <th>age_restriction</th>\n",
       "      <th>show_start_year</th>\n",
       "      <th>«0+» - для любой зрительской аудитории</th>\n",
       "      <th>«12+» - для детей старше 12 лет</th>\n",
       "      <th>«16+» - для детей старше 16 лет</th>\n",
       "      <th>«18+» - запрещено для детей</th>\n",
       "      <th>«6+» - для детей старше 6 лет</th>\n",
       "    </tr>\n",
       "  </thead>\n",
       "  <tbody>\n",
       "    <tr>\n",
       "      <th>0</th>\n",
       "      <td>2015</td>\n",
       "      <td>9.719348e+06</td>\n",
       "      <td>1.863821e+08</td>\n",
       "      <td>6.534303e+07</td>\n",
       "      <td>4.145306e+07</td>\n",
       "      <td>1.637945e+08</td>\n",
       "    </tr>\n",
       "    <tr>\n",
       "      <th>1</th>\n",
       "      <td>2016</td>\n",
       "      <td>3.664118e+06</td>\n",
       "      <td>1.393845e+08</td>\n",
       "      <td>9.168094e+07</td>\n",
       "      <td>4.499291e+07</td>\n",
       "      <td>1.721878e+08</td>\n",
       "    </tr>\n",
       "    <tr>\n",
       "      <th>2</th>\n",
       "      <td>2017</td>\n",
       "      <td>7.653298e+07</td>\n",
       "      <td>1.914982e+08</td>\n",
       "      <td>1.557883e+08</td>\n",
       "      <td>6.565643e+07</td>\n",
       "      <td>2.734326e+08</td>\n",
       "    </tr>\n",
       "    <tr>\n",
       "      <th>3</th>\n",
       "      <td>2018</td>\n",
       "      <td>6.489800e+06</td>\n",
       "      <td>2.129447e+08</td>\n",
       "      <td>1.050220e+08</td>\n",
       "      <td>4.893903e+07</td>\n",
       "      <td>1.525194e+08</td>\n",
       "    </tr>\n",
       "    <tr>\n",
       "      <th>4</th>\n",
       "      <td>2019</td>\n",
       "      <td>5.915356e+06</td>\n",
       "      <td>1.491788e+08</td>\n",
       "      <td>7.164842e+07</td>\n",
       "      <td>5.531036e+07</td>\n",
       "      <td>1.588118e+08</td>\n",
       "    </tr>\n",
       "  </tbody>\n",
       "</table>\n",
       "</div>"
      ],
      "text/plain": [
       "age_restriction  show_start_year  «0+» - для любой зрительской аудитории  \\\n",
       "0                           2015                            9.719348e+06   \n",
       "1                           2016                            3.664118e+06   \n",
       "2                           2017                            7.653298e+07   \n",
       "3                           2018                            6.489800e+06   \n",
       "4                           2019                            5.915356e+06   \n",
       "\n",
       "age_restriction  «12+» - для детей старше 12 лет  \\\n",
       "0                                   1.863821e+08   \n",
       "1                                   1.393845e+08   \n",
       "2                                   1.914982e+08   \n",
       "3                                   2.129447e+08   \n",
       "4                                   1.491788e+08   \n",
       "\n",
       "age_restriction  «16+» - для детей старше 16 лет  «18+» - запрещено для детей  \\\n",
       "0                                   6.534303e+07                 4.145306e+07   \n",
       "1                                   9.168094e+07                 4.499291e+07   \n",
       "2                                   1.557883e+08                 6.565643e+07   \n",
       "3                                   1.050220e+08                 4.893903e+07   \n",
       "4                                   7.164842e+07                 5.531036e+07   \n",
       "\n",
       "age_restriction  «6+» - для детей старше 6 лет  \n",
       "0                                 1.637945e+08  \n",
       "1                                 1.721878e+08  \n",
       "2                                 2.734326e+08  \n",
       "3                                 1.525194e+08  \n",
       "4                                 1.588118e+08  "
      ]
     },
     "execution_count": 53,
     "metadata": {},
     "output_type": "execute_result"
    }
   ],
   "source": [
    "data_age_year"
   ]
  },
  {
   "cell_type": "markdown",
   "metadata": {},
   "source": [
    "Анализируя полученную таблицу и график, можно сделать вывод, что возрастное ограничение фильма влияет на кассовый сбор. На первом месте по доходности оказываются фильмы 6+, причем лидирующая позиция держится на протяжении почти всего рассматриваемого периода. Наибольшая доходность связана, скорее всего, с целевой аудиторией фильмов 6+: это целые семьи. Поэтому доходность с одного просмотра будет больше. Фильмы, доступные любой зрительской категории, занимают последнее место в кассовых сборах. Это может быть связано с уменьшением кол-ва закупаемых фильмов, доступных широкой публике."
   ]
  },
  {
   "cell_type": "markdown",
   "metadata": {},
   "source": [
    "На данном этапе был проведен анализ фильмов в прокате, согласно которому можно сказать, что до 2015 года информаци было достаточно мало. С 2015 года растет выпуск фильмов в прокат и вместе с тем - прибыль. Хотя 2017 год показал, что небольшое количество выпускаемых фильмов не всегда означает низкую прибыль."
   ]
  },
  {
   "cell_type": "markdown",
   "metadata": {
    "id": "l_Kg6Ku4gFya"
   },
   "source": [
    "### Анализ окупаемости фильмов с государственной поддержкой"
   ]
  },
  {
   "cell_type": "code",
   "execution_count": 54,
   "metadata": {
    "id": "W9QKpjUdgFyb"
   },
   "outputs": [
    {
     "data": {
      "text/html": [
       "<div>\n",
       "<style scoped>\n",
       "    .dataframe tbody tr th:only-of-type {\n",
       "        vertical-align: middle;\n",
       "    }\n",
       "\n",
       "    .dataframe tbody tr th {\n",
       "        vertical-align: top;\n",
       "    }\n",
       "\n",
       "    .dataframe thead th {\n",
       "        text-align: right;\n",
       "    }\n",
       "</style>\n",
       "<table border=\"1\" class=\"dataframe\">\n",
       "  <thead>\n",
       "    <tr style=\"text-align: right;\">\n",
       "      <th></th>\n",
       "      <th>show_start_year</th>\n",
       "      <th>total_support</th>\n",
       "    </tr>\n",
       "  </thead>\n",
       "  <tbody>\n",
       "    <tr>\n",
       "      <th>0</th>\n",
       "      <td>2013</td>\n",
       "      <td>134.347945</td>\n",
       "    </tr>\n",
       "    <tr>\n",
       "      <th>1</th>\n",
       "      <td>2014</td>\n",
       "      <td>549.002299</td>\n",
       "    </tr>\n",
       "    <tr>\n",
       "      <th>2</th>\n",
       "      <td>2015</td>\n",
       "      <td>3227.241459</td>\n",
       "    </tr>\n",
       "    <tr>\n",
       "      <th>3</th>\n",
       "      <td>2016</td>\n",
       "      <td>3977.155482</td>\n",
       "    </tr>\n",
       "    <tr>\n",
       "      <th>4</th>\n",
       "      <td>2017</td>\n",
       "      <td>3098.971662</td>\n",
       "    </tr>\n",
       "    <tr>\n",
       "      <th>5</th>\n",
       "      <td>2018</td>\n",
       "      <td>3098.000000</td>\n",
       "    </tr>\n",
       "    <tr>\n",
       "      <th>6</th>\n",
       "      <td>2019</td>\n",
       "      <td>4724.000000</td>\n",
       "    </tr>\n",
       "  </tbody>\n",
       "</table>\n",
       "</div>"
      ],
      "text/plain": [
       "   show_start_year  total_support\n",
       "0             2013     134.347945\n",
       "1             2014     549.002299\n",
       "2             2015    3227.241459\n",
       "3             2016    3977.155482\n",
       "4             2017    3098.971662\n",
       "5             2018    3098.000000\n",
       "6             2019    4724.000000"
      ]
     },
     "execution_count": 54,
     "metadata": {},
     "output_type": "execute_result"
    }
   ],
   "source": [
    "#рассмотрим, сколько выделяется средст гос. поддержки по годам\n",
    "data['total_support'] = data['refundable_support'] + data['nonrefundable_support']\n",
    "data_supp = data.query('total_support > 0')\n",
    "data_supp_sum = data_supp.pivot_table(index='show_start_year', values='total_support', aggfunc='sum').reset_index()\n",
    "data_supp_sum['total_support'] = data_supp_sum['total_support'] / 1000000\n",
    "data_supp_sum"
   ]
  },
  {
   "cell_type": "code",
   "execution_count": 55,
   "metadata": {},
   "outputs": [
    {
     "data": {
      "image/png": "[encoded data removed]",
      "text/plain": [
       "<Figure size 640x480 with 1 Axes>"
      ]
     },
     "metadata": {},
     "output_type": "display_data"
    }
   ],
   "source": [
    "data_supp_sum.plot(x='show_start_year', y='total_support', kind='bar', legend=False, color='seagreen')\n",
    "plt.title('Динамика гос.поддержки фильмов')\n",
    "plt.ylabel('Сумма финансирования, млн руб.')\n",
    "plt.xlabel('Год')\n",
    "plt.show()"
   ]
  },
  {
   "cell_type": "markdown",
   "metadata": {},
   "source": [
    "Информация о государственном финансировании фильмов появилась с 2013 года. К 2015 году объем средств существенно вырос - более, чем в 6 раз, по сравнению с предыдущим годом. Наиболее \"затратным\" был 2019 год, объем средств финансирования достиг около 4,5 млрд руб."
   ]
  },
  {
   "cell_type": "code",
   "execution_count": 56,
   "metadata": {},
   "outputs": [
    {
     "name": "stderr",
     "output_type": "stream",
     "text": [
      "C:\\Users\\Ella\\AppData\\Local\\Temp\\ipykernel_15220\\947673632.py:2: SettingWithCopyWarning: \n",
      "A value is trying to be set on a copy of a slice from a DataFrame.\n",
      "Try using .loc[row_indexer,col_indexer] = value instead\n",
      "\n",
      "See the caveats in the documentation: https://pandas.pydata.org/pandas-docs/stable/user_guide/indexing.html#returning-a-view-versus-a-copy\n",
      "  data_supp['profit_share'] = data_supp['budget'] / data_supp['box_office']\n"
     ]
    },
    {
     "data": {
      "text/html": [
       "<div>\n",
       "<style scoped>\n",
       "    .dataframe tbody tr th:only-of-type {\n",
       "        vertical-align: middle;\n",
       "    }\n",
       "\n",
       "    .dataframe tbody tr th {\n",
       "        vertical-align: top;\n",
       "    }\n",
       "\n",
       "    .dataframe thead th {\n",
       "        text-align: right;\n",
       "    }\n",
       "</style>\n",
       "<table border=\"1\" class=\"dataframe\">\n",
       "  <thead>\n",
       "    <tr style=\"text-align: right;\">\n",
       "      <th></th>\n",
       "      <th>show_start_year</th>\n",
       "      <th>profit_share</th>\n",
       "    </tr>\n",
       "  </thead>\n",
       "  <tbody>\n",
       "    <tr>\n",
       "      <th>0</th>\n",
       "      <td>2013</td>\n",
       "      <td>113.088203</td>\n",
       "    </tr>\n",
       "    <tr>\n",
       "      <th>1</th>\n",
       "      <td>2014</td>\n",
       "      <td>162.591151</td>\n",
       "    </tr>\n",
       "    <tr>\n",
       "      <th>2</th>\n",
       "      <td>2015</td>\n",
       "      <td>1127.201124</td>\n",
       "    </tr>\n",
       "    <tr>\n",
       "      <th>3</th>\n",
       "      <td>2016</td>\n",
       "      <td>371.746591</td>\n",
       "    </tr>\n",
       "    <tr>\n",
       "      <th>4</th>\n",
       "      <td>2017</td>\n",
       "      <td>31.958621</td>\n",
       "    </tr>\n",
       "    <tr>\n",
       "      <th>5</th>\n",
       "      <td>2018</td>\n",
       "      <td>45.776944</td>\n",
       "    </tr>\n",
       "    <tr>\n",
       "      <th>6</th>\n",
       "      <td>2019</td>\n",
       "      <td>25.037500</td>\n",
       "    </tr>\n",
       "  </tbody>\n",
       "</table>\n",
       "</div>"
      ],
      "text/plain": [
       "   show_start_year  profit_share\n",
       "0             2013    113.088203\n",
       "1             2014    162.591151\n",
       "2             2015   1127.201124\n",
       "3             2016    371.746591\n",
       "4             2017     31.958621\n",
       "5             2018     45.776944\n",
       "6             2019     25.037500"
      ]
     },
     "execution_count": 56,
     "metadata": {},
     "output_type": "execute_result"
    }
   ],
   "source": [
    "#рассмотрим маржу фильмов с гос.поддержкой по годам\n",
    "data_supp['profit_share'] = data_supp['budget'] / data_supp['box_office']\n",
    "data_supp_profit = data_supp.pivot_table(index='show_start_year', values='profit_share', aggfunc='mean').reset_index()\n",
    "data_supp_profit"
   ]
  },
  {
   "cell_type": "markdown",
   "metadata": {},
   "source": [
    "Согласно таблице, доля бюджета в среднем существенно выше кассового сбора фильмов. Наиболее \"убыточным\" стал 2015 год."
   ]
  },
  {
   "cell_type": "code",
   "execution_count": 57,
   "metadata": {},
   "outputs": [
    {
     "name": "stderr",
     "output_type": "stream",
     "text": [
      "C:\\Users\\Ella\\AppData\\Local\\Temp\\ipykernel_15220\\2463749997.py:21: SettingWithCopyWarning: \n",
      "A value is trying to be set on a copy of a slice from a DataFrame.\n",
      "Try using .loc[row_indexer,col_indexer] = value instead\n",
      "\n",
      "See the caveats in the documentation: https://pandas.pydata.org/pandas-docs/stable/user_guide/indexing.html#returning-a-view-versus-a-copy\n",
      "  data_supp['rate_category'] = data_supp.apply(rate, axis=1)\n"
     ]
    }
   ],
   "source": [
    "#рассмотрим рейтинги фильмов с гос.поддержкой\n",
    "#категоризируем рейтинги:\n",
    "def rate(row):\n",
    "    '''\n",
    "    Возвращает рейтинг фильма, используя правила:\n",
    "    (значения — «0-2», «3-5», «6-8», «9+»)\n",
    "    '''\n",
    "    rate = row['ratings']\n",
    "    \n",
    "    if 0 <= rate <= 2:\n",
    "        return '0-2'\n",
    "        \n",
    "    if 3 <= rate <= 5:\n",
    "        return '3-5'\n",
    "    \n",
    "    if 6 <= rate <= 8:\n",
    "        return '6-8'\n",
    "\n",
    "    return '9+'\n",
    "\n",
    "data_supp['rate_category'] = data_supp.apply(rate, axis=1)"
   ]
  },
  {
   "cell_type": "code",
   "execution_count": 58,
   "metadata": {},
   "outputs": [
    {
     "data": {
      "text/html": [
       "<div>\n",
       "<style scoped>\n",
       "    .dataframe tbody tr th:only-of-type {\n",
       "        vertical-align: middle;\n",
       "    }\n",
       "\n",
       "    .dataframe tbody tr th {\n",
       "        vertical-align: top;\n",
       "    }\n",
       "\n",
       "    .dataframe thead th {\n",
       "        text-align: right;\n",
       "    }\n",
       "</style>\n",
       "<table border=\"1\" class=\"dataframe\">\n",
       "  <thead>\n",
       "    <tr style=\"text-align: right;\">\n",
       "      <th></th>\n",
       "      <th>rate_category</th>\n",
       "      <th>total_support</th>\n",
       "    </tr>\n",
       "  </thead>\n",
       "  <tbody>\n",
       "    <tr>\n",
       "      <th>0</th>\n",
       "      <td>0-2</td>\n",
       "      <td>1</td>\n",
       "    </tr>\n",
       "    <tr>\n",
       "      <th>1</th>\n",
       "      <td>3-5</td>\n",
       "      <td>47</td>\n",
       "    </tr>\n",
       "    <tr>\n",
       "      <th>2</th>\n",
       "      <td>6-8</td>\n",
       "      <td>172</td>\n",
       "    </tr>\n",
       "    <tr>\n",
       "      <th>3</th>\n",
       "      <td>9+</td>\n",
       "      <td>95</td>\n",
       "    </tr>\n",
       "  </tbody>\n",
       "</table>\n",
       "</div>"
      ],
      "text/plain": [
       "  rate_category  total_support\n",
       "0           0-2              1\n",
       "1           3-5             47\n",
       "2           6-8            172\n",
       "3            9+             95"
      ]
     },
     "execution_count": 58,
     "metadata": {},
     "output_type": "execute_result"
    }
   ],
   "source": [
    "data_supp_rate = data_supp.pivot_table(index='rate_category', values='total_support', aggfunc='count').reset_index()\n",
    "data_supp_rate['total_support'] = data_supp_rate['total_support']\n",
    "data_supp_rate"
   ]
  },
  {
   "cell_type": "markdown",
   "metadata": {},
   "source": [
    "Согласно полученной таблице, финансируемые государством фильмы показывают достаточно неплохие результаты: наибольший объем средств инвестирован в фильмы, получившие рейтинг от 6 до 8 баллов."
   ]
  },
  {
   "cell_type": "code",
   "execution_count": 59,
   "metadata": {},
   "outputs": [
    {
     "data": {
      "text/html": [
       "<div>\n",
       "<style scoped>\n",
       "    .dataframe tbody tr th:only-of-type {\n",
       "        vertical-align: middle;\n",
       "    }\n",
       "\n",
       "    .dataframe tbody tr th {\n",
       "        vertical-align: top;\n",
       "    }\n",
       "\n",
       "    .dataframe thead th {\n",
       "        text-align: right;\n",
       "    }\n",
       "</style>\n",
       "<table border=\"1\" class=\"dataframe\">\n",
       "  <thead>\n",
       "    <tr style=\"text-align: right;\">\n",
       "      <th></th>\n",
       "      <th>age_restriction</th>\n",
       "      <th>total_support</th>\n",
       "    </tr>\n",
       "  </thead>\n",
       "  <tbody>\n",
       "    <tr>\n",
       "      <th>0</th>\n",
       "      <td>«0+» - для любой зрительской аудитории</td>\n",
       "      <td>8</td>\n",
       "    </tr>\n",
       "    <tr>\n",
       "      <th>1</th>\n",
       "      <td>«12+» - для детей старше 12 лет</td>\n",
       "      <td>103</td>\n",
       "    </tr>\n",
       "    <tr>\n",
       "      <th>2</th>\n",
       "      <td>«16+» - для детей старше 16 лет</td>\n",
       "      <td>118</td>\n",
       "    </tr>\n",
       "    <tr>\n",
       "      <th>3</th>\n",
       "      <td>«18+» - запрещено для детей</td>\n",
       "      <td>27</td>\n",
       "    </tr>\n",
       "    <tr>\n",
       "      <th>4</th>\n",
       "      <td>«6+» - для детей старше 6 лет</td>\n",
       "      <td>59</td>\n",
       "    </tr>\n",
       "  </tbody>\n",
       "</table>\n",
       "</div>"
      ],
      "text/plain": [
       "                          age_restriction  total_support\n",
       "0  «0+» - для любой зрительской аудитории              8\n",
       "1         «12+» - для детей старше 12 лет            103\n",
       "2         «16+» - для детей старше 16 лет            118\n",
       "3             «18+» - запрещено для детей             27\n",
       "4           «6+» - для детей старше 6 лет             59"
      ]
     },
     "execution_count": 59,
     "metadata": {},
     "output_type": "execute_result"
    }
   ],
   "source": [
    "data_supp_age = data_supp.pivot_table(index='age_restriction', values='total_support', aggfunc='count').reset_index()\n",
    "data_supp_age['total_support'] = data_supp_age['total_support']\n",
    "data_supp_age"
   ]
  },
  {
   "cell_type": "markdown",
   "metadata": {},
   "source": [
    "Согласно полученной таблице, наибольшее финансирование получают фильмы для 16+ зрителей."
   ]
  },
  {
   "cell_type": "markdown",
   "metadata": {},
   "source": [
    "Анализируя фильмы с гос.поддержкой, можно сделать вывод, что объем средств увеливиается с каждым годом. Государство существенно поддерживает выпуск фильмов для зрителей 16+, и нельзя сказать, что их качество неутешительное - рейтинг составляет 6+ баллов."
   ]
  },
  {
   "cell_type": "markdown",
   "metadata": {
    "id": "V2gYwMcPgFyd"
   },
   "source": [
    "## Выводы и рекомендации"
   ]
  },
  {
   "cell_type": "markdown",
   "metadata": {
    "id": "AYRg3dzXgFye"
   },
   "source": [
    "Для анализа рынка российского кинопроката и определения текущих трендов были представлены данные, опубликованные на портале открытых данных Министерства культуры. Данные потребовали предобработки: объединение датафреймов, корректировка (там, где это возможно) пропусков, некорректных количественных значений, категориальных значений, а также доабвление новых столбцов.\n",
    "\n",
    "По итогу анализа данных, можно сделать следующие выводы:\n",
    "* С течением времени увеличивается информация о фильмах: кассовых сборах и объемах государственного финансирования.\n",
    "* Наиболее доходные фильмы входят в категорию 6+.\n",
    "* Количество выпускаемых в прокат фильмов в год не связано с доходностью в год.\n",
    "* В целом, объемы гос.поддержки фильмов увеличиваются из года в год.\n",
    "* С течением времени фильмы с гос.поддержкой выходят на бОльшую маржу, что также отражается на неплохом рейтинге таких фильмов: в основном, 6-8 баллов на КиноПоиске.\n",
    "* Наиболее поддерживаются государством фильмы с рейтингом 16+ и 12+.\n",
    "\n",
    "Для предотвращения потерь в данных необходимо более строго контролировать вводные данные и создать ограничения, при которых данные не будут прогружаться в базу.\n",
    "Также необходимо более обобщенно учитывать некоторые категориальные значения: жанр, страна-производитель, рейтинг. Нельзя не сказать о необходимости единого оформления данных, напр. имена должны указываться только в одном формате: И.Фамилия; одни и те же фильмы при получении нескольких прокатных удостоверений должны получать единый формат названия, напр. _1, _2 и т.д. Это позволит более тщательно и быстро анализировать данные в случае необходимости. "
   ]
  }
 ],
 "metadata": {
  "ExecuteTimeLog": [
   {
    "duration": 537,
    "start_time": "2021-07-07T10:12:08.634Z"
   },
   {
    "duration": 206,
    "start_time": "2021-07-07T10:12:30.191Z"
   },
   {
    "duration": 227,
    "start_time": "2021-07-07T10:12:33.078Z"
   },
   {
    "duration": 153,
    "start_time": "2021-07-07T10:13:42.146Z"
   },
   {
    "duration": 233,
    "start_time": "2021-07-07T10:30:09.252Z"
   },
   {
    "duration": 19,
    "start_time": "2021-07-07T10:30:15.577Z"
   },
   {
    "duration": 18,
    "start_time": "2021-07-07T10:30:57.348Z"
   },
   {
    "duration": 19,
    "start_time": "2021-07-07T10:31:17.452Z"
   },
   {
    "duration": 21,
    "start_time": "2021-07-07T10:31:32.227Z"
   },
   {
    "duration": 27,
    "start_time": "2021-07-07T10:32:06.588Z"
   },
   {
    "duration": 23,
    "start_time": "2021-07-07T10:32:43.645Z"
   },
   {
    "duration": 24,
    "start_time": "2021-07-07T10:33:06.948Z"
   },
   {
    "duration": 7,
    "start_time": "2021-07-07T10:33:28.558Z"
   },
   {
    "duration": 23,
    "start_time": "2021-07-07T10:33:43.761Z"
   },
   {
    "duration": 28,
    "start_time": "2021-07-07T10:34:13.466Z"
   },
   {
    "duration": 23,
    "start_time": "2021-07-07T10:35:56.187Z"
   },
   {
    "duration": 6,
    "start_time": "2021-07-07T10:36:48.182Z"
   },
   {
    "duration": 14,
    "start_time": "2021-07-07T10:37:49.641Z"
   },
   {
    "duration": 6,
    "start_time": "2021-07-07T10:38:06.694Z"
   },
   {
    "duration": 6,
    "start_time": "2021-07-07T10:38:13.493Z"
   },
   {
    "duration": 19,
    "start_time": "2021-07-07T10:38:44.056Z"
   },
   {
    "duration": 186,
    "start_time": "2021-07-07T10:48:35.618Z"
   },
   {
    "duration": 24,
    "start_time": "2021-07-07T10:48:51.498Z"
   },
   {
    "duration": 20,
    "start_time": "2021-07-07T10:48:59.415Z"
   },
   {
    "duration": 20,
    "start_time": "2021-07-07T10:53:02.195Z"
   },
   {
    "duration": 188,
    "start_time": "2021-07-07T10:54:40.486Z"
   },
   {
    "duration": 115,
    "start_time": "2021-07-07T10:54:52.552Z"
   },
   {
    "duration": 214,
    "start_time": "2021-07-07T10:54:56.354Z"
   },
   {
    "duration": 47,
    "start_time": "2021-07-07T10:54:58.282Z"
   },
   {
    "duration": 217,
    "start_time": "2021-07-07T10:59:16.075Z"
   },
   {
    "duration": 51,
    "start_time": "2021-07-07T10:59:16.243Z"
   },
   {
    "duration": 578,
    "start_time": "2021-07-07T10:59:18.774Z"
   },
   {
    "duration": 161,
    "start_time": "2021-07-07T10:59:21.238Z"
   },
   {
    "duration": 59,
    "start_time": "2021-07-07T10:59:21.453Z"
   },
   {
    "duration": 3,
    "start_time": "2021-07-07T11:02:10.786Z"
   },
   {
    "duration": 13,
    "start_time": "2021-07-07T11:07:07.722Z"
   },
   {
    "duration": 26,
    "start_time": "2021-07-07T11:07:17.958Z"
   },
   {
    "duration": 22,
    "start_time": "2021-07-07T11:08:17.939Z"
   },
   {
    "duration": 212,
    "start_time": "2021-07-07T11:08:19.665Z"
   },
   {
    "duration": 21,
    "start_time": "2021-07-07T11:08:29.945Z"
   },
   {
    "duration": 31,
    "start_time": "2021-07-07T11:08:38.899Z"
   },
   {
    "duration": 23,
    "start_time": "2021-07-07T11:08:54.527Z"
   },
   {
    "duration": 8,
    "start_time": "2021-07-07T11:18:55.974Z"
   },
   {
    "duration": 7,
    "start_time": "2021-07-07T11:19:03.639Z"
   },
   {
    "duration": 7,
    "start_time": "2021-07-07T11:19:06.444Z"
   },
   {
    "duration": 578,
    "start_time": "2021-07-07T12:09:59.576Z"
   },
   {
    "duration": 195,
    "start_time": "2021-07-07T12:10:00.156Z"
   },
   {
    "duration": 115,
    "start_time": "2021-07-07T12:10:00.353Z"
   },
   {
    "duration": 3,
    "start_time": "2021-07-07T12:10:00.470Z"
   },
   {
    "duration": 32,
    "start_time": "2021-07-07T12:10:00.474Z"
   },
   {
    "duration": 23,
    "start_time": "2021-07-07T12:10:00.508Z"
   },
   {
    "duration": 19,
    "start_time": "2021-07-07T12:10:00.533Z"
   },
   {
    "duration": 44,
    "start_time": "2021-07-07T12:10:00.553Z"
   },
   {
    "duration": 7,
    "start_time": "2021-07-07T12:10:00.600Z"
   },
   {
    "duration": 7,
    "start_time": "2021-07-07T12:19:45.761Z"
   },
   {
    "duration": 21,
    "start_time": "2021-07-07T12:21:35.482Z"
   },
   {
    "duration": 21,
    "start_time": "2021-07-07T12:29:23.569Z"
   },
   {
    "duration": 525,
    "start_time": "2021-07-07T12:29:44.542Z"
   },
   {
    "duration": 214,
    "start_time": "2021-07-07T12:29:45.069Z"
   },
   {
    "duration": 92,
    "start_time": "2021-07-07T12:29:45.285Z"
   },
   {
    "duration": 3,
    "start_time": "2021-07-07T12:29:45.379Z"
   },
   {
    "duration": 28,
    "start_time": "2021-07-07T12:29:45.384Z"
   },
   {
    "duration": 23,
    "start_time": "2021-07-07T12:29:45.413Z"
   },
   {
    "duration": 21,
    "start_time": "2021-07-07T12:29:45.437Z"
   },
   {
    "duration": 41,
    "start_time": "2021-07-07T12:29:45.460Z"
   },
   {
    "duration": 7,
    "start_time": "2021-07-07T12:29:45.502Z"
   },
   {
    "duration": 20,
    "start_time": "2021-07-07T12:29:45.511Z"
   },
   {
    "duration": 12,
    "start_time": "2021-07-07T12:34:02.800Z"
   },
   {
    "duration": 7,
    "start_time": "2021-07-07T12:35:10.479Z"
   },
   {
    "duration": 8,
    "start_time": "2021-07-07T12:35:22.440Z"
   },
   {
    "duration": 6,
    "start_time": "2021-07-07T12:35:35.649Z"
   },
   {
    "duration": 6,
    "start_time": "2021-07-07T12:35:43.107Z"
   },
   {
    "duration": 22,
    "start_time": "2021-07-07T12:38:03.029Z"
   },
   {
    "duration": 10,
    "start_time": "2021-07-07T12:38:06.592Z"
   },
   {
    "duration": 563,
    "start_time": "2021-07-07T12:38:46.493Z"
   },
   {
    "duration": 265,
    "start_time": "2021-07-07T12:38:47.058Z"
   },
   {
    "duration": 94,
    "start_time": "2021-07-07T12:38:47.325Z"
   },
   {
    "duration": 3,
    "start_time": "2021-07-07T12:38:47.422Z"
   },
   {
    "duration": 30,
    "start_time": "2021-07-07T12:38:47.427Z"
   },
   {
    "duration": 16,
    "start_time": "2021-07-07T12:38:53.305Z"
   },
   {
    "duration": 10,
    "start_time": "2021-07-07T12:38:53.499Z"
   },
   {
    "duration": 8,
    "start_time": "2021-07-07T12:39:48.161Z"
   },
   {
    "duration": 27,
    "start_time": "2021-07-07T12:41:17.629Z"
   },
   {
    "duration": 17,
    "start_time": "2021-07-07T12:41:17.867Z"
   },
   {
    "duration": 21,
    "start_time": "2021-07-07T12:41:19.310Z"
   },
   {
    "duration": 7,
    "start_time": "2021-07-07T12:41:19.544Z"
   },
   {
    "duration": 20,
    "start_time": "2021-07-07T12:41:20.504Z"
   },
   {
    "duration": 554,
    "start_time": "2021-07-07T12:56:23.696Z"
   },
   {
    "duration": 200,
    "start_time": "2021-07-07T12:56:25.234Z"
   },
   {
    "duration": 119,
    "start_time": "2021-07-07T12:56:25.480Z"
   },
   {
    "duration": 4,
    "start_time": "2021-07-07T12:56:25.762Z"
   },
   {
    "duration": 26,
    "start_time": "2021-07-07T12:56:27.172Z"
   },
   {
    "duration": 12,
    "start_time": "2021-07-07T12:56:29.051Z"
   },
   {
    "duration": 10,
    "start_time": "2021-07-07T12:56:29.291Z"
   },
   {
    "duration": 8,
    "start_time": "2021-07-07T12:56:29.623Z"
   },
   {
    "duration": 28,
    "start_time": "2021-07-07T12:56:32.137Z"
   },
   {
    "duration": 19,
    "start_time": "2021-07-07T12:56:39.785Z"
   },
   {
    "duration": 20,
    "start_time": "2021-07-07T12:56:44.297Z"
   },
   {
    "duration": 7,
    "start_time": "2021-07-07T12:56:45.392Z"
   },
   {
    "duration": 23,
    "start_time": "2021-07-07T12:56:46.615Z"
   },
   {
    "duration": 4,
    "start_time": "2021-07-07T12:57:06.625Z"
   },
   {
    "duration": 32,
    "start_time": "2021-07-07T12:57:36.690Z"
   },
   {
    "duration": 18,
    "start_time": "2021-07-07T12:58:00.149Z"
   },
   {
    "duration": 15,
    "start_time": "2021-07-07T12:59:16.793Z"
   },
   {
    "duration": 7,
    "start_time": "2021-07-07T13:19:22.624Z"
   },
   {
    "duration": 6,
    "start_time": "2021-07-07T14:17:33.527Z"
   },
   {
    "duration": 9,
    "start_time": "2021-07-07T14:17:48.409Z"
   },
   {
    "duration": 8,
    "start_time": "2021-07-07T14:20:13.060Z"
   },
   {
    "duration": 8,
    "start_time": "2021-07-07T14:20:37.957Z"
   },
   {
    "duration": 8,
    "start_time": "2021-07-07T14:20:47.470Z"
   },
   {
    "duration": 9,
    "start_time": "2021-07-07T14:20:54.503Z"
   },
   {
    "duration": 10,
    "start_time": "2021-07-07T14:28:57.763Z"
   },
   {
    "duration": 3,
    "start_time": "2021-07-07T14:30:23.377Z"
   },
   {
    "duration": 3,
    "start_time": "2021-07-07T14:30:36.489Z"
   },
   {
    "duration": 103,
    "start_time": "2021-07-07T14:30:52.351Z"
   },
   {
    "duration": 8,
    "start_time": "2021-07-07T14:30:54.763Z"
   },
   {
    "duration": 8,
    "start_time": "2021-07-07T14:31:29.301Z"
   },
   {
    "duration": 13,
    "start_time": "2021-07-07T14:31:44.516Z"
   },
   {
    "duration": 7,
    "start_time": "2021-07-07T14:33:10.972Z"
   },
   {
    "duration": 11,
    "start_time": "2021-07-07T14:33:27.780Z"
   },
   {
    "duration": 8,
    "start_time": "2021-07-07T14:34:44.588Z"
   },
   {
    "duration": 57,
    "start_time": "2021-07-07T14:35:59.042Z"
   },
   {
    "duration": 3,
    "start_time": "2021-07-07T14:36:28.168Z"
   },
   {
    "duration": 5,
    "start_time": "2021-07-07T14:36:46.254Z"
   },
   {
    "duration": 4,
    "start_time": "2021-07-07T14:36:52.714Z"
   },
   {
    "duration": 3,
    "start_time": "2021-07-07T14:36:56.612Z"
   },
   {
    "duration": 4,
    "start_time": "2021-07-07T14:36:57.049Z"
   },
   {
    "duration": 3,
    "start_time": "2021-07-07T14:39:21.214Z"
   },
   {
    "duration": 7,
    "start_time": "2021-07-07T14:39:52.406Z"
   },
   {
    "duration": 11,
    "start_time": "2021-07-07T14:39:58.576Z"
   },
   {
    "duration": 9,
    "start_time": "2021-07-07T14:40:26.301Z"
   },
   {
    "duration": 10,
    "start_time": "2021-07-07T14:40:31.704Z"
   },
   {
    "duration": 11,
    "start_time": "2021-07-07T14:40:36.249Z"
   },
   {
    "duration": 10,
    "start_time": "2021-07-07T14:40:39.783Z"
   },
   {
    "duration": 9,
    "start_time": "2021-07-07T14:40:48.558Z"
   },
   {
    "duration": 10,
    "start_time": "2021-07-07T14:40:57.143Z"
   },
   {
    "duration": 9,
    "start_time": "2021-07-07T14:41:06.074Z"
   },
   {
    "duration": 4324,
    "start_time": "2021-07-07T14:41:22.004Z"
   },
   {
    "duration": 11,
    "start_time": "2021-07-07T14:41:33.392Z"
   },
   {
    "duration": 9,
    "start_time": "2021-07-07T14:41:39.288Z"
   },
   {
    "duration": 569,
    "start_time": "2021-07-07T14:42:14.387Z"
   },
   {
    "duration": 197,
    "start_time": "2021-07-07T14:42:14.959Z"
   },
   {
    "duration": 84,
    "start_time": "2021-07-07T14:42:16.052Z"
   },
   {
    "duration": 4,
    "start_time": "2021-07-07T14:42:16.900Z"
   },
   {
    "duration": 27,
    "start_time": "2021-07-07T14:42:19.898Z"
   },
   {
    "duration": 12,
    "start_time": "2021-07-07T14:42:21.577Z"
   },
   {
    "duration": 9,
    "start_time": "2021-07-07T14:42:21.813Z"
   },
   {
    "duration": 9,
    "start_time": "2021-07-07T14:42:22.569Z"
   },
   {
    "duration": 29,
    "start_time": "2021-07-07T14:42:25.837Z"
   },
   {
    "duration": 20,
    "start_time": "2021-07-07T14:42:27.003Z"
   },
   {
    "duration": 21,
    "start_time": "2021-07-07T14:42:28.767Z"
   },
   {
    "duration": 7,
    "start_time": "2021-07-07T14:42:29.838Z"
   },
   {
    "duration": 4,
    "start_time": "2021-07-07T14:43:25.493Z"
   },
   {
    "duration": 7,
    "start_time": "2021-07-07T14:43:26.573Z"
   },
   {
    "duration": 10,
    "start_time": "2021-07-07T14:43:31.639Z"
   },
   {
    "duration": 9,
    "start_time": "2021-07-07T14:43:32.046Z"
   },
   {
    "duration": 10,
    "start_time": "2021-07-07T14:43:33.301Z"
   },
   {
    "duration": 12,
    "start_time": "2021-07-07T14:43:33.658Z"
   },
   {
    "duration": 8,
    "start_time": "2021-07-07T14:43:34.552Z"
   },
   {
    "duration": 9,
    "start_time": "2021-07-07T14:43:35.058Z"
   },
   {
    "duration": 12,
    "start_time": "2021-07-07T14:43:35.914Z"
   },
   {
    "duration": 17,
    "start_time": "2021-07-07T14:45:34.368Z"
   },
   {
    "duration": 512,
    "start_time": "2021-07-07T14:51:58.236Z"
   },
   {
    "duration": 223,
    "start_time": "2021-07-07T14:51:58.750Z"
   },
   {
    "duration": 93,
    "start_time": "2021-07-07T14:51:58.977Z"
   },
   {
    "duration": 4,
    "start_time": "2021-07-07T14:51:59.071Z"
   },
   {
    "duration": 37,
    "start_time": "2021-07-07T14:51:59.077Z"
   },
   {
    "duration": 18,
    "start_time": "2021-07-07T14:51:59.116Z"
   },
   {
    "duration": 10,
    "start_time": "2021-07-07T14:51:59.137Z"
   },
   {
    "duration": 8,
    "start_time": "2021-07-07T14:51:59.149Z"
   },
   {
    "duration": 54,
    "start_time": "2021-07-07T14:51:59.158Z"
   },
   {
    "duration": 18,
    "start_time": "2021-07-07T14:51:59.213Z"
   },
   {
    "duration": 22,
    "start_time": "2021-07-07T14:51:59.232Z"
   },
   {
    "duration": 36,
    "start_time": "2021-07-07T14:51:59.255Z"
   },
   {
    "duration": 7,
    "start_time": "2021-07-07T14:51:59.293Z"
   },
   {
    "duration": 10,
    "start_time": "2021-07-07T14:51:59.302Z"
   },
   {
    "duration": 9,
    "start_time": "2021-07-07T14:51:59.313Z"
   },
   {
    "duration": 11,
    "start_time": "2021-07-07T14:51:59.324Z"
   },
   {
    "duration": 8,
    "start_time": "2021-07-07T14:51:59.337Z"
   },
   {
    "duration": 46,
    "start_time": "2021-07-07T14:51:59.347Z"
   },
   {
    "duration": 22,
    "start_time": "2021-07-07T14:51:59.395Z"
   },
   {
    "duration": 24,
    "start_time": "2021-07-07T14:57:32.911Z"
   },
   {
    "duration": 7,
    "start_time": "2021-07-07T14:58:22.070Z"
   },
   {
    "duration": 4,
    "start_time": "2021-07-07T14:59:11.239Z"
   },
   {
    "duration": 25,
    "start_time": "2021-07-07T15:07:22.208Z"
   },
   {
    "duration": 16,
    "start_time": "2021-07-07T15:08:25.560Z"
   },
   {
    "duration": 15,
    "start_time": "2021-07-07T15:08:40.647Z"
   },
   {
    "duration": 14,
    "start_time": "2021-07-07T15:08:46.669Z"
   },
   {
    "duration": 533,
    "start_time": "2021-07-07T15:18:07.440Z"
   },
   {
    "duration": 173,
    "start_time": "2021-07-07T15:18:07.974Z"
   },
   {
    "duration": 84,
    "start_time": "2021-07-07T15:18:08.149Z"
   },
   {
    "duration": 3,
    "start_time": "2021-07-07T15:18:08.235Z"
   },
   {
    "duration": 30,
    "start_time": "2021-07-07T15:18:08.240Z"
   },
   {
    "duration": 22,
    "start_time": "2021-07-07T15:18:08.272Z"
   },
   {
    "duration": 11,
    "start_time": "2021-07-07T15:18:08.295Z"
   },
   {
    "duration": 11,
    "start_time": "2021-07-07T15:18:08.309Z"
   },
   {
    "duration": 40,
    "start_time": "2021-07-07T15:18:08.322Z"
   },
   {
    "duration": 42,
    "start_time": "2021-07-07T15:18:08.364Z"
   },
   {
    "duration": 22,
    "start_time": "2021-07-07T15:18:08.408Z"
   },
   {
    "duration": 5,
    "start_time": "2021-07-07T15:18:08.432Z"
   },
   {
    "duration": 13,
    "start_time": "2021-07-07T15:18:08.439Z"
   },
   {
    "duration": 9,
    "start_time": "2021-07-07T15:18:08.454Z"
   },
   {
    "duration": 32,
    "start_time": "2021-07-07T15:18:08.465Z"
   },
   {
    "duration": 10,
    "start_time": "2021-07-07T15:18:08.501Z"
   },
   {
    "duration": 7,
    "start_time": "2021-07-07T15:18:08.513Z"
   },
   {
    "duration": 11,
    "start_time": "2021-07-07T15:18:08.521Z"
   },
   {
    "duration": 17,
    "start_time": "2021-07-07T15:18:08.534Z"
   },
   {
    "duration": 44,
    "start_time": "2021-07-07T15:18:08.553Z"
   },
   {
    "duration": 22,
    "start_time": "2021-07-07T15:18:08.599Z"
   },
   {
    "duration": 61,
    "start_time": "2021-07-07T15:18:08.622Z"
   },
   {
    "duration": 7,
    "start_time": "2021-07-07T15:18:39.457Z"
   },
   {
    "duration": 5,
    "start_time": "2021-07-07T16:05:17.020Z"
   },
   {
    "duration": 5,
    "start_time": "2021-07-07T16:51:28.794Z"
   },
   {
    "duration": 546,
    "start_time": "2021-07-07T16:52:26.306Z"
   },
   {
    "duration": 203,
    "start_time": "2021-07-07T16:52:27.523Z"
   },
   {
    "duration": 85,
    "start_time": "2021-07-07T16:52:27.736Z"
   },
   {
    "duration": 4,
    "start_time": "2021-07-07T16:52:27.899Z"
   },
   {
    "duration": 25,
    "start_time": "2021-07-07T16:52:28.674Z"
   },
   {
    "duration": 8,
    "start_time": "2021-07-07T16:52:32.956Z"
   },
   {
    "duration": 18,
    "start_time": "2021-07-07T16:52:35.616Z"
   },
   {
    "duration": 6,
    "start_time": "2021-07-07T16:52:36.913Z"
   },
   {
    "duration": 11,
    "start_time": "2021-07-07T16:52:40.258Z"
   },
   {
    "duration": 10,
    "start_time": "2021-07-07T16:52:46.251Z"
   },
   {
    "duration": 8,
    "start_time": "2021-07-07T16:52:47.182Z"
   },
   {
    "duration": 27,
    "start_time": "2021-07-07T16:53:20.391Z"
   },
   {
    "duration": 20,
    "start_time": "2021-07-07T16:53:22.022Z"
   },
   {
    "duration": 23,
    "start_time": "2021-07-07T16:53:23.690Z"
   },
   {
    "duration": 8,
    "start_time": "2021-07-07T16:53:24.261Z"
   },
   {
    "duration": 4,
    "start_time": "2021-07-07T16:53:38.733Z"
   },
   {
    "duration": 7,
    "start_time": "2021-07-07T16:53:40.445Z"
   },
   {
    "duration": 11,
    "start_time": "2021-07-07T16:53:41.348Z"
   },
   {
    "duration": 13,
    "start_time": "2021-07-07T16:53:45.250Z"
   },
   {
    "duration": 12,
    "start_time": "2021-07-07T16:53:45.467Z"
   },
   {
    "duration": 4,
    "start_time": "2021-07-07T16:55:32.704Z"
   },
   {
    "duration": 12,
    "start_time": "2021-07-07T16:55:49.012Z"
   },
   {
    "duration": 18,
    "start_time": "2021-07-07T16:55:49.547Z"
   },
   {
    "duration": 611,
    "start_time": "2021-07-07T16:58:35.156Z"
   },
   {
    "duration": 200,
    "start_time": "2021-07-07T16:58:35.770Z"
   },
   {
    "duration": 86,
    "start_time": "2021-07-07T16:58:35.972Z"
   },
   {
    "duration": 3,
    "start_time": "2021-07-07T16:58:36.060Z"
   },
   {
    "duration": 27,
    "start_time": "2021-07-07T16:58:36.065Z"
   },
   {
    "duration": 8,
    "start_time": "2021-07-07T16:58:36.094Z"
   },
   {
    "duration": 17,
    "start_time": "2021-07-07T16:58:36.103Z"
   },
   {
    "duration": 5,
    "start_time": "2021-07-07T16:58:36.123Z"
   },
   {
    "duration": 11,
    "start_time": "2021-07-07T16:58:36.130Z"
   },
   {
    "duration": 7,
    "start_time": "2021-07-07T16:58:36.143Z"
   },
   {
    "duration": 37,
    "start_time": "2021-07-07T16:58:36.152Z"
   },
   {
    "duration": 27,
    "start_time": "2021-07-07T16:58:36.191Z"
   },
   {
    "duration": 19,
    "start_time": "2021-07-07T16:58:36.219Z"
   },
   {
    "duration": 49,
    "start_time": "2021-07-07T16:58:36.240Z"
   },
   {
    "duration": 6,
    "start_time": "2021-07-07T16:58:36.291Z"
   },
   {
    "duration": 3,
    "start_time": "2021-07-07T16:58:36.299Z"
   },
   {
    "duration": 13,
    "start_time": "2021-07-07T16:58:36.304Z"
   },
   {
    "duration": 10,
    "start_time": "2021-07-07T16:58:36.319Z"
   },
   {
    "duration": 10,
    "start_time": "2021-07-07T16:58:36.331Z"
   },
   {
    "duration": 44,
    "start_time": "2021-07-07T16:58:36.343Z"
   },
   {
    "duration": 4,
    "start_time": "2021-07-07T16:58:36.388Z"
   },
   {
    "duration": 13,
    "start_time": "2021-07-07T16:58:36.394Z"
   },
   {
    "duration": 16,
    "start_time": "2021-07-07T16:58:36.410Z"
   },
   {
    "duration": 8,
    "start_time": "2021-07-07T17:02:31.629Z"
   },
   {
    "duration": 8,
    "start_time": "2021-07-07T17:02:34.308Z"
   },
   {
    "duration": 6,
    "start_time": "2021-07-07T17:05:13.483Z"
   },
   {
    "duration": 17,
    "start_time": "2021-07-07T17:05:20.606Z"
   },
   {
    "duration": 7,
    "start_time": "2021-07-07T17:05:34.638Z"
   },
   {
    "duration": 3,
    "start_time": "2021-07-07T17:06:31.883Z"
   },
   {
    "duration": 570,
    "start_time": "2021-07-07T17:06:37.165Z"
   },
   {
    "duration": 174,
    "start_time": "2021-07-07T17:06:37.737Z"
   },
   {
    "duration": 47,
    "start_time": "2021-07-07T17:06:37.913Z"
   },
   {
    "duration": 3,
    "start_time": "2021-07-07T17:06:37.962Z"
   },
   {
    "duration": 27,
    "start_time": "2021-07-07T17:06:37.967Z"
   },
   {
    "duration": 7,
    "start_time": "2021-07-07T17:06:37.996Z"
   },
   {
    "duration": 16,
    "start_time": "2021-07-07T17:06:38.005Z"
   },
   {
    "duration": 6,
    "start_time": "2021-07-07T17:06:38.024Z"
   },
   {
    "duration": 12,
    "start_time": "2021-07-07T17:06:38.031Z"
   },
   {
    "duration": 41,
    "start_time": "2021-07-07T17:06:38.045Z"
   },
   {
    "duration": 8,
    "start_time": "2021-07-07T17:06:38.088Z"
   },
   {
    "duration": 26,
    "start_time": "2021-07-07T17:06:38.098Z"
   },
   {
    "duration": 17,
    "start_time": "2021-07-07T17:06:38.126Z"
   },
   {
    "duration": 43,
    "start_time": "2021-07-07T17:06:38.144Z"
   },
   {
    "duration": 6,
    "start_time": "2021-07-07T17:06:38.188Z"
   },
   {
    "duration": 5,
    "start_time": "2021-07-07T17:06:38.195Z"
   },
   {
    "duration": 9,
    "start_time": "2021-07-07T17:06:38.201Z"
   },
   {
    "duration": 12,
    "start_time": "2021-07-07T17:06:38.212Z"
   },
   {
    "duration": 11,
    "start_time": "2021-07-07T17:06:38.226Z"
   },
   {
    "duration": 47,
    "start_time": "2021-07-07T17:06:38.239Z"
   },
   {
    "duration": 4,
    "start_time": "2021-07-07T17:06:38.288Z"
   },
   {
    "duration": 13,
    "start_time": "2021-07-07T17:06:38.293Z"
   },
   {
    "duration": 5,
    "start_time": "2021-07-07T17:06:38.309Z"
   },
   {
    "duration": 18,
    "start_time": "2021-07-07T17:06:38.325Z"
   },
   {
    "duration": 20,
    "start_time": "2021-07-07T17:07:02.805Z"
   },
   {
    "duration": 19,
    "start_time": "2021-07-07T17:07:08.527Z"
   },
   {
    "duration": 19,
    "start_time": "2021-07-07T17:07:12.758Z"
   },
   {
    "duration": 22,
    "start_time": "2021-07-07T17:07:17.497Z"
   },
   {
    "duration": 19,
    "start_time": "2021-07-07T17:07:19.645Z"
   },
   {
    "duration": 10,
    "start_time": "2021-07-07T17:07:34.239Z"
   },
   {
    "duration": 17,
    "start_time": "2021-07-07T17:07:54.144Z"
   },
   {
    "duration": 14,
    "start_time": "2021-07-07T17:08:14.357Z"
   },
   {
    "duration": 616,
    "start_time": "2021-07-07T17:08:45.254Z"
   },
   {
    "duration": 178,
    "start_time": "2021-07-07T17:08:45.872Z"
   },
   {
    "duration": 60,
    "start_time": "2021-07-07T17:08:46.054Z"
   },
   {
    "duration": 3,
    "start_time": "2021-07-07T17:08:46.116Z"
   },
   {
    "duration": 26,
    "start_time": "2021-07-07T17:08:46.121Z"
   },
   {
    "duration": 7,
    "start_time": "2021-07-07T17:08:46.149Z"
   },
   {
    "duration": 17,
    "start_time": "2021-07-07T17:08:46.158Z"
   },
   {
    "duration": 14,
    "start_time": "2021-07-07T17:08:46.176Z"
   },
   {
    "duration": 17,
    "start_time": "2021-07-07T17:08:46.193Z"
   },
   {
    "duration": 9,
    "start_time": "2021-07-07T17:08:46.211Z"
   },
   {
    "duration": 21,
    "start_time": "2021-07-07T17:08:46.221Z"
   },
   {
    "duration": 49,
    "start_time": "2021-07-07T17:08:46.244Z"
   },
   {
    "duration": 24,
    "start_time": "2021-07-07T17:08:46.295Z"
   },
   {
    "duration": 22,
    "start_time": "2021-07-07T17:08:46.321Z"
   },
   {
    "duration": 6,
    "start_time": "2021-07-07T17:08:46.345Z"
   },
   {
    "duration": 5,
    "start_time": "2021-07-07T17:08:46.353Z"
   },
   {
    "duration": 13,
    "start_time": "2021-07-07T17:08:46.386Z"
   },
   {
    "duration": 12,
    "start_time": "2021-07-07T17:08:46.402Z"
   },
   {
    "duration": 10,
    "start_time": "2021-07-07T17:08:46.415Z"
   },
   {
    "duration": 7,
    "start_time": "2021-07-07T17:08:46.427Z"
   },
   {
    "duration": 8,
    "start_time": "2021-07-07T17:08:46.435Z"
   },
   {
    "duration": 68,
    "start_time": "2021-07-07T17:08:46.446Z"
   },
   {
    "duration": 13,
    "start_time": "2021-07-07T17:08:46.516Z"
   },
   {
    "duration": 78,
    "start_time": "2021-07-07T17:08:46.530Z"
   },
   {
    "duration": 40,
    "start_time": "2021-07-07T17:09:08.185Z"
   },
   {
    "duration": 16,
    "start_time": "2021-07-07T17:09:19.324Z"
   },
   {
    "duration": 21,
    "start_time": "2021-07-07T17:09:23.290Z"
   },
   {
    "duration": 13,
    "start_time": "2021-07-07T17:09:54.812Z"
   },
   {
    "duration": 13,
    "start_time": "2021-07-07T17:10:02.039Z"
   },
   {
    "duration": 10,
    "start_time": "2021-07-07T17:10:29.632Z"
   },
   {
    "duration": 13,
    "start_time": "2021-07-07T17:10:52.372Z"
   },
   {
    "duration": 13,
    "start_time": "2021-07-07T17:11:17.270Z"
   },
   {
    "duration": 13,
    "start_time": "2021-07-07T17:14:59.284Z"
   },
   {
    "duration": 547,
    "start_time": "2021-07-07T17:18:52.403Z"
   },
   {
    "duration": 163,
    "start_time": "2021-07-07T17:18:52.952Z"
   },
   {
    "duration": 44,
    "start_time": "2021-07-07T17:18:53.117Z"
   },
   {
    "duration": 3,
    "start_time": "2021-07-07T17:18:53.162Z"
   },
   {
    "duration": 26,
    "start_time": "2021-07-07T17:18:53.167Z"
   },
   {
    "duration": 6,
    "start_time": "2021-07-07T17:18:53.195Z"
   },
   {
    "duration": 15,
    "start_time": "2021-07-07T17:18:53.203Z"
   },
   {
    "duration": 5,
    "start_time": "2021-07-07T17:18:53.220Z"
   },
   {
    "duration": 11,
    "start_time": "2021-07-07T17:18:53.228Z"
   },
   {
    "duration": 9,
    "start_time": "2021-07-07T17:18:53.241Z"
   },
   {
    "duration": 41,
    "start_time": "2021-07-07T17:18:53.252Z"
   },
   {
    "duration": 33,
    "start_time": "2021-07-07T17:18:53.295Z"
   },
   {
    "duration": 19,
    "start_time": "2021-07-07T17:18:53.330Z"
   },
   {
    "duration": 49,
    "start_time": "2021-07-07T17:18:53.350Z"
   },
   {
    "duration": 5,
    "start_time": "2021-07-07T17:18:53.401Z"
   },
   {
    "duration": 5,
    "start_time": "2021-07-07T17:18:53.408Z"
   },
   {
    "duration": 11,
    "start_time": "2021-07-07T17:18:53.414Z"
   },
   {
    "duration": 9,
    "start_time": "2021-07-07T17:18:53.427Z"
   },
   {
    "duration": 10,
    "start_time": "2021-07-07T17:18:53.437Z"
   },
   {
    "duration": 39,
    "start_time": "2021-07-07T17:18:53.448Z"
   },
   {
    "duration": 26,
    "start_time": "2021-07-07T17:18:55.799Z"
   },
   {
    "duration": 598,
    "start_time": "2021-07-07T17:20:17.862Z"
   },
   {
    "duration": 161,
    "start_time": "2021-07-07T17:20:18.462Z"
   },
   {
    "duration": 45,
    "start_time": "2021-07-07T17:20:18.626Z"
   },
   {
    "duration": 4,
    "start_time": "2021-07-07T17:20:18.673Z"
   },
   {
    "duration": 38,
    "start_time": "2021-07-07T17:20:26.877Z"
   },
   {
    "duration": 7,
    "start_time": "2021-07-07T17:20:37.405Z"
   },
   {
    "duration": 19,
    "start_time": "2021-07-07T17:20:51.534Z"
   },
   {
    "duration": 5,
    "start_time": "2021-07-07T17:20:57.228Z"
   },
   {
    "duration": 7,
    "start_time": "2021-07-07T17:21:08.235Z"
   },
   {
    "duration": 19,
    "start_time": "2021-07-07T17:21:42.158Z"
   },
   {
    "duration": 14,
    "start_time": "2021-07-07T17:21:50.225Z"
   },
   {
    "duration": 22,
    "start_time": "2021-07-07T17:22:54.104Z"
   },
   {
    "duration": 5,
    "start_time": "2021-07-07T17:22:56.371Z"
   },
   {
    "duration": 14,
    "start_time": "2021-07-07T17:22:58.316Z"
   },
   {
    "duration": 5,
    "start_time": "2021-07-07T17:22:58.493Z"
   },
   {
    "duration": 35,
    "start_time": "2021-07-07T17:22:59.666Z"
   },
   {
    "duration": 6,
    "start_time": "2021-07-07T17:23:02.410Z"
   },
   {
    "duration": 611,
    "start_time": "2021-07-07T17:24:59.664Z"
   },
   {
    "duration": 178,
    "start_time": "2021-07-07T17:25:01.945Z"
   },
   {
    "duration": 47,
    "start_time": "2021-07-07T17:25:02.125Z"
   },
   {
    "duration": 2,
    "start_time": "2021-07-07T17:25:07.903Z"
   },
   {
    "duration": 254,
    "start_time": "2021-07-07T17:25:08.232Z"
   },
   {
    "duration": 182,
    "start_time": "2021-07-07T17:25:08.671Z"
   },
   {
    "duration": 6,
    "start_time": "2021-07-07T17:25:13.104Z"
   },
   {
    "duration": 36,
    "start_time": "2021-07-07T17:25:13.662Z"
   },
   {
    "duration": 7,
    "start_time": "2021-07-07T17:25:14.528Z"
   },
   {
    "duration": 24,
    "start_time": "2021-07-07T17:25:27.982Z"
   },
   {
    "duration": 3,
    "start_time": "2021-07-07T17:25:48.982Z"
   },
   {
    "duration": 165,
    "start_time": "2021-07-07T17:25:48.987Z"
   },
   {
    "duration": 50,
    "start_time": "2021-07-07T17:25:49.154Z"
   },
   {
    "duration": 4,
    "start_time": "2021-07-07T17:25:49.206Z"
   },
   {
    "duration": 26,
    "start_time": "2021-07-07T17:25:49.212Z"
   },
   {
    "duration": 7,
    "start_time": "2021-07-07T17:25:49.240Z"
   },
   {
    "duration": 16,
    "start_time": "2021-07-07T17:25:49.249Z"
   },
   {
    "duration": 22,
    "start_time": "2021-07-07T17:25:49.266Z"
   },
   {
    "duration": 16,
    "start_time": "2021-07-07T17:25:49.291Z"
   },
   {
    "duration": 9,
    "start_time": "2021-07-07T17:25:49.309Z"
   },
   {
    "duration": 7,
    "start_time": "2021-07-07T17:25:49.319Z"
   },
   {
    "duration": 28,
    "start_time": "2021-07-07T17:25:49.328Z"
   },
   {
    "duration": 44,
    "start_time": "2021-07-07T17:25:49.357Z"
   },
   {
    "duration": 22,
    "start_time": "2021-07-07T17:25:49.403Z"
   },
   {
    "duration": 7,
    "start_time": "2021-07-07T17:25:49.427Z"
   },
   {
    "duration": 3,
    "start_time": "2021-07-07T17:25:49.436Z"
   },
   {
    "duration": 44,
    "start_time": "2021-07-07T17:25:49.441Z"
   },
   {
    "duration": 12,
    "start_time": "2021-07-07T17:25:49.488Z"
   },
   {
    "duration": 13,
    "start_time": "2021-07-07T17:25:49.502Z"
   },
   {
    "duration": 10,
    "start_time": "2021-07-07T17:25:49.516Z"
   },
   {
    "duration": 62,
    "start_time": "2021-07-07T17:25:49.527Z"
   },
   {
    "duration": 26,
    "start_time": "2021-07-07T17:26:51.809Z"
   },
   {
    "duration": 26,
    "start_time": "2021-07-07T17:26:55.759Z"
   },
   {
    "duration": 26,
    "start_time": "2021-07-07T17:27:04.501Z"
   },
   {
    "duration": 25,
    "start_time": "2021-07-07T17:28:24.859Z"
   },
   {
    "duration": 21,
    "start_time": "2021-07-07T17:28:55.250Z"
   },
   {
    "duration": 21,
    "start_time": "2021-07-07T17:28:58.885Z"
   },
   {
    "duration": 7,
    "start_time": "2021-07-07T17:45:40.972Z"
   },
   {
    "duration": 13,
    "start_time": "2021-07-07T17:45:42.529Z"
   },
   {
    "duration": 27,
    "start_time": "2021-07-07T17:45:51.026Z"
   },
   {
    "duration": 518,
    "start_time": "2021-07-07T17:46:15.532Z"
   },
   {
    "duration": 235,
    "start_time": "2021-07-07T17:46:16.053Z"
   },
   {
    "duration": 80,
    "start_time": "2021-07-07T17:46:16.292Z"
   },
   {
    "duration": 5,
    "start_time": "2021-07-07T17:46:16.373Z"
   },
   {
    "duration": 26,
    "start_time": "2021-07-07T17:46:16.380Z"
   },
   {
    "duration": 7,
    "start_time": "2021-07-07T17:46:16.408Z"
   },
   {
    "duration": 16,
    "start_time": "2021-07-07T17:46:16.418Z"
   },
   {
    "duration": 5,
    "start_time": "2021-07-07T17:46:16.436Z"
   },
   {
    "duration": 13,
    "start_time": "2021-07-07T17:46:16.442Z"
   },
   {
    "duration": 35,
    "start_time": "2021-07-07T17:46:16.456Z"
   },
   {
    "duration": 8,
    "start_time": "2021-07-07T17:46:16.493Z"
   },
   {
    "duration": 28,
    "start_time": "2021-07-07T17:46:16.502Z"
   },
   {
    "duration": 17,
    "start_time": "2021-07-07T17:46:16.532Z"
   },
   {
    "duration": 44,
    "start_time": "2021-07-07T17:46:16.551Z"
   },
   {
    "duration": 6,
    "start_time": "2021-07-07T17:46:16.597Z"
   },
   {
    "duration": 4,
    "start_time": "2021-07-07T17:46:16.605Z"
   },
   {
    "duration": 9,
    "start_time": "2021-07-07T17:46:16.610Z"
   },
   {
    "duration": 9,
    "start_time": "2021-07-07T17:46:16.621Z"
   },
   {
    "duration": 10,
    "start_time": "2021-07-07T17:46:16.632Z"
   },
   {
    "duration": 43,
    "start_time": "2021-07-07T17:46:16.644Z"
   },
   {
    "duration": 26,
    "start_time": "2021-07-07T17:46:16.689Z"
   },
   {
    "duration": 19,
    "start_time": "2021-07-07T17:46:16.718Z"
   },
   {
    "duration": 8,
    "start_time": "2021-07-07T17:46:16.738Z"
   },
   {
    "duration": 43,
    "start_time": "2021-07-07T17:46:16.747Z"
   },
   {
    "duration": 19,
    "start_time": "2021-07-07T17:46:16.791Z"
   },
   {
    "duration": 9,
    "start_time": "2021-07-07T17:46:16.812Z"
   },
   {
    "duration": 60,
    "start_time": "2021-07-07T17:46:16.822Z"
   },
   {
    "duration": -8,
    "start_time": "2021-07-07T17:46:16.892Z"
   },
   {
    "duration": 12,
    "start_time": "2021-07-07T17:48:47.707Z"
   },
   {
    "duration": 553,
    "start_time": "2021-07-07T18:10:09.350Z"
   },
   {
    "duration": 230,
    "start_time": "2021-07-07T18:10:09.905Z"
   },
   {
    "duration": 97,
    "start_time": "2021-07-07T18:10:10.137Z"
   },
   {
    "duration": 5,
    "start_time": "2021-07-07T18:10:10.236Z"
   },
   {
    "duration": 29,
    "start_time": "2021-07-07T18:10:10.242Z"
   },
   {
    "duration": 7,
    "start_time": "2021-07-07T18:10:10.272Z"
   },
   {
    "duration": 15,
    "start_time": "2021-07-07T18:10:10.281Z"
   },
   {
    "duration": 4,
    "start_time": "2021-07-07T18:10:10.299Z"
   },
   {
    "duration": 14,
    "start_time": "2021-07-07T18:10:10.305Z"
   },
   {
    "duration": 8,
    "start_time": "2021-07-07T18:10:10.321Z"
   },
   {
    "duration": 8,
    "start_time": "2021-07-07T18:10:10.331Z"
   },
   {
    "duration": 56,
    "start_time": "2021-07-07T18:10:10.341Z"
   },
   {
    "duration": 19,
    "start_time": "2021-07-07T18:10:10.399Z"
   },
   {
    "duration": 23,
    "start_time": "2021-07-07T18:10:10.419Z"
   },
   {
    "duration": 6,
    "start_time": "2021-07-07T18:10:10.444Z"
   },
   {
    "duration": 9,
    "start_time": "2021-07-07T18:10:10.451Z"
   },
   {
    "duration": 30,
    "start_time": "2021-07-07T18:10:10.462Z"
   },
   {
    "duration": 9,
    "start_time": "2021-07-07T18:10:10.494Z"
   },
   {
    "duration": 14,
    "start_time": "2021-07-07T18:10:10.505Z"
   },
   {
    "duration": 7,
    "start_time": "2021-07-07T18:10:10.521Z"
   },
   {
    "duration": 26,
    "start_time": "2021-07-07T18:10:10.530Z"
   },
   {
    "duration": 44,
    "start_time": "2021-07-07T18:10:10.558Z"
   },
   {
    "duration": 7,
    "start_time": "2021-07-07T18:10:10.605Z"
   },
   {
    "duration": 11,
    "start_time": "2021-07-07T18:10:10.614Z"
   },
   {
    "duration": 19,
    "start_time": "2021-07-07T18:10:10.626Z"
   },
   {
    "duration": 44,
    "start_time": "2021-07-07T18:10:10.646Z"
   },
   {
    "duration": 516,
    "start_time": "2021-07-07T18:14:00.826Z"
   },
   {
    "duration": 230,
    "start_time": "2021-07-07T18:14:01.344Z"
   },
   {
    "duration": 105,
    "start_time": "2021-07-07T18:14:01.576Z"
   },
   {
    "duration": 5,
    "start_time": "2021-07-07T18:14:01.683Z"
   },
   {
    "duration": 46,
    "start_time": "2021-07-07T18:14:01.690Z"
   },
   {
    "duration": 7,
    "start_time": "2021-07-07T18:14:01.738Z"
   },
   {
    "duration": 20,
    "start_time": "2021-07-07T18:14:01.747Z"
   },
   {
    "duration": 16,
    "start_time": "2021-07-07T18:14:01.769Z"
   },
   {
    "duration": 14,
    "start_time": "2021-07-07T18:14:01.787Z"
   },
   {
    "duration": 15,
    "start_time": "2021-07-07T18:14:01.803Z"
   },
   {
    "duration": 12,
    "start_time": "2021-07-07T18:14:01.820Z"
   },
   {
    "duration": 35,
    "start_time": "2021-07-07T18:14:01.833Z"
   },
   {
    "duration": 31,
    "start_time": "2021-07-07T18:14:01.869Z"
   },
   {
    "duration": 37,
    "start_time": "2021-07-07T18:14:01.902Z"
   },
   {
    "duration": 8,
    "start_time": "2021-07-07T18:14:01.942Z"
   },
   {
    "duration": 16,
    "start_time": "2021-07-07T18:14:01.952Z"
   },
   {
    "duration": 13,
    "start_time": "2021-07-07T18:14:01.970Z"
   },
   {
    "duration": 32,
    "start_time": "2021-07-07T18:14:01.985Z"
   },
   {
    "duration": 11,
    "start_time": "2021-07-07T18:14:02.019Z"
   },
   {
    "duration": 22,
    "start_time": "2021-07-07T18:14:02.031Z"
   },
   {
    "duration": 27,
    "start_time": "2021-07-07T18:14:02.055Z"
   },
   {
    "duration": 18,
    "start_time": "2021-07-07T18:14:02.084Z"
   },
   {
    "duration": 18,
    "start_time": "2021-07-07T18:14:02.106Z"
   },
   {
    "duration": 11,
    "start_time": "2021-07-07T18:14:02.126Z"
   },
   {
    "duration": 21,
    "start_time": "2021-07-07T18:14:02.138Z"
   },
   {
    "duration": 32,
    "start_time": "2021-07-07T18:14:02.161Z"
   },
   {
    "duration": 28,
    "start_time": "2021-07-07T18:14:44.295Z"
   },
   {
    "duration": 6,
    "start_time": "2021-07-07T18:15:05.834Z"
   },
   {
    "duration": 511,
    "start_time": "2021-07-07T18:15:41.541Z"
   },
   {
    "duration": 183,
    "start_time": "2021-07-07T18:15:42.054Z"
   },
   {
    "duration": 50,
    "start_time": "2021-07-07T18:15:42.239Z"
   },
   {
    "duration": 5,
    "start_time": "2021-07-07T18:15:42.291Z"
   },
   {
    "duration": 48,
    "start_time": "2021-07-07T18:15:42.297Z"
   },
   {
    "duration": 8,
    "start_time": "2021-07-07T18:15:42.346Z"
   },
   {
    "duration": 17,
    "start_time": "2021-07-07T18:15:42.356Z"
   },
   {
    "duration": 15,
    "start_time": "2021-07-07T18:15:42.375Z"
   },
   {
    "duration": 12,
    "start_time": "2021-07-07T18:15:42.392Z"
   },
   {
    "duration": 7,
    "start_time": "2021-07-07T18:15:42.406Z"
   },
   {
    "duration": 7,
    "start_time": "2021-07-07T18:15:42.415Z"
   },
   {
    "duration": 29,
    "start_time": "2021-07-07T18:15:42.423Z"
   },
   {
    "duration": 43,
    "start_time": "2021-07-07T18:15:42.453Z"
   },
   {
    "duration": 18,
    "start_time": "2021-07-07T18:15:42.497Z"
   },
   {
    "duration": 6,
    "start_time": "2021-07-07T18:15:42.516Z"
   },
   {
    "duration": 3,
    "start_time": "2021-07-07T18:15:42.523Z"
   },
   {
    "duration": 18,
    "start_time": "2021-07-07T18:15:42.528Z"
   },
   {
    "duration": 10,
    "start_time": "2021-07-07T18:15:42.547Z"
   },
   {
    "duration": 36,
    "start_time": "2021-07-07T18:15:42.559Z"
   },
   {
    "duration": 8,
    "start_time": "2021-07-07T18:15:42.597Z"
   },
   {
    "duration": 28,
    "start_time": "2021-07-07T18:15:42.606Z"
   },
   {
    "duration": 52,
    "start_time": "2021-07-07T18:15:42.635Z"
   },
   {
    "duration": 7,
    "start_time": "2021-07-07T18:15:42.690Z"
   },
   {
    "duration": 10,
    "start_time": "2021-07-07T18:15:42.699Z"
   },
   {
    "duration": 19,
    "start_time": "2021-07-07T18:15:42.711Z"
   },
   {
    "duration": 9,
    "start_time": "2021-07-07T18:15:42.732Z"
   },
   {
    "duration": 5,
    "start_time": "2021-07-07T18:15:42.743Z"
   },
   {
    "duration": 1450,
    "start_time": "2021-07-07T18:15:51.984Z"
   },
   {
    "duration": 161,
    "start_time": "2021-07-07T18:15:53.435Z"
   },
   {
    "duration": 124,
    "start_time": "2021-07-07T18:15:53.598Z"
   },
   {
    "duration": 5,
    "start_time": "2021-07-07T18:15:53.724Z"
   },
   {
    "duration": 34,
    "start_time": "2021-07-07T18:15:53.730Z"
   },
   {
    "duration": 7,
    "start_time": "2021-07-07T18:15:53.765Z"
   },
   {
    "duration": 15,
    "start_time": "2021-07-07T18:15:53.773Z"
   },
   {
    "duration": 5,
    "start_time": "2021-07-07T18:15:53.791Z"
   },
   {
    "duration": 19,
    "start_time": "2021-07-07T18:15:53.798Z"
   },
   {
    "duration": 9,
    "start_time": "2021-07-07T18:15:53.818Z"
   },
   {
    "duration": 19,
    "start_time": "2021-07-07T18:15:53.828Z"
   },
   {
    "duration": 27,
    "start_time": "2021-07-07T18:15:53.848Z"
   },
   {
    "duration": 16,
    "start_time": "2021-07-07T18:15:53.884Z"
   },
   {
    "duration": 29,
    "start_time": "2021-07-07T18:15:53.901Z"
   },
   {
    "duration": 5,
    "start_time": "2021-07-07T18:15:53.932Z"
   },
   {
    "duration": 15,
    "start_time": "2021-07-07T18:15:53.939Z"
   },
   {
    "duration": 13,
    "start_time": "2021-07-07T18:15:53.956Z"
   },
   {
    "duration": 20,
    "start_time": "2021-07-07T18:15:53.971Z"
   },
   {
    "duration": 14,
    "start_time": "2021-07-07T18:15:53.992Z"
   },
   {
    "duration": 9,
    "start_time": "2021-07-07T18:15:54.009Z"
   },
   {
    "duration": 28,
    "start_time": "2021-07-07T18:15:54.020Z"
   },
   {
    "duration": 50,
    "start_time": "2021-07-07T18:15:54.051Z"
   },
   {
    "duration": 8,
    "start_time": "2021-07-07T18:15:54.105Z"
   },
   {
    "duration": 11,
    "start_time": "2021-07-07T18:15:54.115Z"
   },
   {
    "duration": 20,
    "start_time": "2021-07-07T18:15:54.128Z"
   },
   {
    "duration": 13,
    "start_time": "2021-07-07T18:15:54.184Z"
   },
   {
    "duration": 7,
    "start_time": "2021-07-07T18:15:54.199Z"
   },
   {
    "duration": 7,
    "start_time": "2021-07-07T18:17:08.042Z"
   },
   {
    "duration": 8,
    "start_time": "2021-07-07T18:17:21.008Z"
   },
   {
    "duration": 7,
    "start_time": "2021-07-07T18:17:29.003Z"
   },
   {
    "duration": 8,
    "start_time": "2021-07-07T18:17:32.492Z"
   },
   {
    "duration": 9,
    "start_time": "2021-07-07T18:17:41.758Z"
   },
   {
    "duration": 255,
    "start_time": "2021-07-07T18:20:20.897Z"
   },
   {
    "duration": 173,
    "start_time": "2021-07-07T18:20:26.636Z"
   },
   {
    "duration": 7,
    "start_time": "2021-07-07T18:21:47.164Z"
   },
   {
    "duration": 254,
    "start_time": "2021-07-07T18:23:08.703Z"
   },
   {
    "duration": 21,
    "start_time": "2021-07-07T18:23:22.506Z"
   },
   {
    "duration": 315,
    "start_time": "2021-07-07T18:25:54.801Z"
   },
   {
    "duration": 34,
    "start_time": "2021-07-07T18:26:51.817Z"
   },
   {
    "duration": 327,
    "start_time": "2021-07-07T18:26:56.147Z"
   },
   {
    "duration": 342,
    "start_time": "2021-07-07T18:27:15.887Z"
   },
   {
    "duration": 302,
    "start_time": "2021-07-07T18:28:18.569Z"
   },
   {
    "duration": 226,
    "start_time": "2021-07-07T18:29:20.879Z"
   },
   {
    "duration": 207,
    "start_time": "2021-07-07T18:29:58.114Z"
   },
   {
    "duration": 140,
    "start_time": "2021-07-07T18:32:04.372Z"
   },
   {
    "duration": 158,
    "start_time": "2021-07-07T18:32:32.508Z"
   },
   {
    "duration": 145,
    "start_time": "2021-07-07T18:32:41.365Z"
   },
   {
    "duration": 132,
    "start_time": "2021-07-07T18:32:45.199Z"
   },
   {
    "duration": 11,
    "start_time": "2021-07-07T18:35:24.679Z"
   },
   {
    "duration": 268,
    "start_time": "2021-07-07T18:36:16.145Z"
   },
   {
    "duration": 227,
    "start_time": "2021-07-07T18:37:04.918Z"
   },
   {
    "duration": 3,
    "start_time": "2021-07-07T18:37:33.012Z"
   },
   {
    "duration": 671,
    "start_time": "2021-07-07T18:37:38.295Z"
   },
   {
    "duration": 54,
    "start_time": "2021-07-07T18:37:53.406Z"
   },
   {
    "duration": 631,
    "start_time": "2021-07-07T18:37:56.463Z"
   },
   {
    "duration": 19,
    "start_time": "2021-07-07T18:39:40.535Z"
   },
   {
    "duration": 20,
    "start_time": "2021-07-07T18:40:12.236Z"
   },
   {
    "duration": 633,
    "start_time": "2021-07-07T18:42:00.398Z"
   },
   {
    "duration": 218,
    "start_time": "2021-07-07T18:42:01.033Z"
   },
   {
    "duration": 49,
    "start_time": "2021-07-07T18:42:01.253Z"
   },
   {
    "duration": 5,
    "start_time": "2021-07-07T18:42:01.303Z"
   },
   {
    "duration": 27,
    "start_time": "2021-07-07T18:42:01.310Z"
   },
   {
    "duration": 8,
    "start_time": "2021-07-07T18:42:01.339Z"
   },
   {
    "duration": 20,
    "start_time": "2021-07-07T18:42:01.348Z"
   },
   {
    "duration": 6,
    "start_time": "2021-07-07T18:42:01.386Z"
   },
   {
    "duration": 16,
    "start_time": "2021-07-07T18:42:01.394Z"
   },
   {
    "duration": 9,
    "start_time": "2021-07-07T18:42:01.411Z"
   },
   {
    "duration": 11,
    "start_time": "2021-07-07T18:42:01.421Z"
   },
   {
    "duration": 31,
    "start_time": "2021-07-07T18:42:01.434Z"
   },
   {
    "duration": 18,
    "start_time": "2021-07-07T18:42:01.485Z"
   },
   {
    "duration": 23,
    "start_time": "2021-07-07T18:42:01.505Z"
   },
   {
    "duration": 6,
    "start_time": "2021-07-07T18:42:01.530Z"
   },
   {
    "duration": 10,
    "start_time": "2021-07-07T18:42:01.538Z"
   },
   {
    "duration": 13,
    "start_time": "2021-07-07T18:42:01.550Z"
   },
   {
    "duration": 24,
    "start_time": "2021-07-07T18:42:01.564Z"
   },
   {
    "duration": 20,
    "start_time": "2021-07-07T18:42:01.590Z"
   },
   {
    "duration": 8,
    "start_time": "2021-07-07T18:42:01.611Z"
   },
   {
    "duration": 31,
    "start_time": "2021-07-07T18:42:01.620Z"
   },
   {
    "duration": 39,
    "start_time": "2021-07-07T18:42:01.653Z"
   },
   {
    "duration": 8,
    "start_time": "2021-07-07T18:42:01.696Z"
   },
   {
    "duration": 13,
    "start_time": "2021-07-07T18:42:01.705Z"
   },
   {
    "duration": 20,
    "start_time": "2021-07-07T18:42:01.720Z"
   },
   {
    "duration": 12,
    "start_time": "2021-07-07T18:42:01.741Z"
   },
   {
    "duration": 35,
    "start_time": "2021-07-07T18:42:01.755Z"
   },
   {
    "duration": 14,
    "start_time": "2021-07-07T18:42:01.792Z"
   },
   {
    "duration": 188,
    "start_time": "2021-07-07T18:42:01.808Z"
   },
   {
    "duration": 19,
    "start_time": "2021-07-07T18:42:01.998Z"
   },
   {
    "duration": 175,
    "start_time": "2021-07-07T18:42:02.019Z"
   },
   {
    "duration": 134,
    "start_time": "2021-07-07T18:42:02.196Z"
   },
   {
    "duration": 10,
    "start_time": "2021-07-07T18:42:02.331Z"
   },
   {
    "duration": 19,
    "start_time": "2021-07-07T18:42:02.343Z"
   },
   {
    "duration": 628,
    "start_time": "2021-07-07T18:46:30.701Z"
   },
   {
    "duration": 183,
    "start_time": "2021-07-07T18:46:31.331Z"
   },
   {
    "duration": 48,
    "start_time": "2021-07-07T18:46:31.516Z"
   },
   {
    "duration": 5,
    "start_time": "2021-07-07T18:46:31.566Z"
   },
   {
    "duration": 28,
    "start_time": "2021-07-07T18:46:31.572Z"
   },
   {
    "duration": 8,
    "start_time": "2021-07-07T18:46:31.602Z"
   },
   {
    "duration": 19,
    "start_time": "2021-07-07T18:46:31.611Z"
   },
   {
    "duration": 6,
    "start_time": "2021-07-07T18:46:31.633Z"
   },
   {
    "duration": 17,
    "start_time": "2021-07-07T18:46:31.642Z"
   },
   {
    "duration": 10,
    "start_time": "2021-07-07T18:46:31.684Z"
   },
   {
    "duration": 9,
    "start_time": "2021-07-07T18:46:31.695Z"
   },
   {
    "duration": 28,
    "start_time": "2021-07-07T18:46:31.705Z"
   },
   {
    "duration": 18,
    "start_time": "2021-07-07T18:46:31.735Z"
   },
   {
    "duration": 48,
    "start_time": "2021-07-07T18:46:31.755Z"
   },
   {
    "duration": 6,
    "start_time": "2021-07-07T18:46:31.804Z"
   },
   {
    "duration": 4,
    "start_time": "2021-07-07T18:46:31.812Z"
   },
   {
    "duration": 9,
    "start_time": "2021-07-07T18:46:31.817Z"
   },
   {
    "duration": 10,
    "start_time": "2021-07-07T18:46:31.827Z"
   },
   {
    "duration": 12,
    "start_time": "2021-07-07T18:46:31.838Z"
   },
   {
    "duration": 39,
    "start_time": "2021-07-07T18:46:31.851Z"
   },
   {
    "duration": 24,
    "start_time": "2021-07-07T18:46:31.892Z"
   },
   {
    "duration": 15,
    "start_time": "2021-07-07T18:46:31.918Z"
   },
   {
    "duration": 7,
    "start_time": "2021-07-07T18:46:31.936Z"
   },
   {
    "duration": 8,
    "start_time": "2021-07-07T18:46:31.944Z"
   },
   {
    "duration": 19,
    "start_time": "2021-07-07T18:46:31.984Z"
   },
   {
    "duration": 10,
    "start_time": "2021-07-07T18:46:32.004Z"
   },
   {
    "duration": 5,
    "start_time": "2021-07-07T18:46:32.016Z"
   },
   {
    "duration": 9,
    "start_time": "2021-07-07T18:46:32.023Z"
   },
   {
    "duration": 199,
    "start_time": "2021-07-07T18:46:32.033Z"
   },
   {
    "duration": 19,
    "start_time": "2021-07-07T18:46:32.234Z"
   },
   {
    "duration": 159,
    "start_time": "2021-07-07T18:46:32.255Z"
   },
   {
    "duration": 134,
    "start_time": "2021-07-07T18:46:32.416Z"
   },
   {
    "duration": 10,
    "start_time": "2021-07-07T18:46:32.552Z"
   },
   {
    "duration": 34,
    "start_time": "2021-07-07T18:46:32.563Z"
   },
   {
    "duration": 1039,
    "start_time": "2021-07-08T08:41:09.419Z"
   },
   {
    "duration": 333,
    "start_time": "2021-07-08T08:41:10.459Z"
   },
   {
    "duration": 173,
    "start_time": "2021-07-08T08:41:10.794Z"
   },
   {
    "duration": 5,
    "start_time": "2021-07-08T08:41:10.968Z"
   },
   {
    "duration": 25,
    "start_time": "2021-07-08T08:41:10.975Z"
   },
   {
    "duration": 9,
    "start_time": "2021-07-08T08:41:11.002Z"
   },
   {
    "duration": 18,
    "start_time": "2021-07-08T08:41:11.013Z"
   },
   {
    "duration": 6,
    "start_time": "2021-07-08T08:41:11.033Z"
   },
   {
    "duration": 44,
    "start_time": "2021-07-08T08:41:11.042Z"
   },
   {
    "duration": 10,
    "start_time": "2021-07-08T08:41:11.088Z"
   },
   {
    "duration": 9,
    "start_time": "2021-07-08T08:41:11.100Z"
   },
   {
    "duration": 27,
    "start_time": "2021-07-08T08:41:11.111Z"
   },
   {
    "duration": 46,
    "start_time": "2021-07-08T08:41:11.140Z"
   },
   {
    "duration": 17,
    "start_time": "2021-07-08T08:41:11.187Z"
   },
   {
    "duration": 6,
    "start_time": "2021-07-08T08:41:11.206Z"
   },
   {
    "duration": 5,
    "start_time": "2021-07-08T08:41:11.213Z"
   },
   {
    "duration": 10,
    "start_time": "2021-07-08T08:41:11.219Z"
   },
   {
    "duration": 9,
    "start_time": "2021-07-08T08:41:11.230Z"
   },
   {
    "duration": 45,
    "start_time": "2021-07-08T08:41:11.241Z"
   },
   {
    "duration": 7,
    "start_time": "2021-07-08T08:41:11.287Z"
   },
   {
    "duration": 24,
    "start_time": "2021-07-08T08:41:11.296Z"
   },
   {
    "duration": 16,
    "start_time": "2021-07-08T08:41:11.322Z"
   },
   {
    "duration": 7,
    "start_time": "2021-07-08T08:41:11.341Z"
   },
   {
    "duration": 41,
    "start_time": "2021-07-08T08:41:11.349Z"
   },
   {
    "duration": 17,
    "start_time": "2021-07-08T08:41:11.391Z"
   },
   {
    "duration": 9,
    "start_time": "2021-07-08T08:41:11.410Z"
   },
   {
    "duration": 5,
    "start_time": "2021-07-08T08:41:11.421Z"
   },
   {
    "duration": 6,
    "start_time": "2021-07-08T08:41:11.428Z"
   },
   {
    "duration": 198,
    "start_time": "2021-07-08T08:41:11.435Z"
   },
   {
    "duration": 18,
    "start_time": "2021-07-08T08:41:11.635Z"
   },
   {
    "duration": 155,
    "start_time": "2021-07-08T08:41:11.655Z"
   },
   {
    "duration": 138,
    "start_time": "2021-07-08T08:41:11.811Z"
   },
   {
    "duration": 10,
    "start_time": "2021-07-08T08:41:11.950Z"
   },
   {
    "duration": 29,
    "start_time": "2021-07-08T08:41:11.961Z"
   },
   {
    "duration": 171,
    "start_time": "2021-07-08T08:47:44.522Z"
   },
   {
    "duration": 124,
    "start_time": "2021-07-08T08:47:46.872Z"
   },
   {
    "duration": 191,
    "start_time": "2021-07-08T08:47:58.148Z"
   },
   {
    "duration": 191,
    "start_time": "2021-07-08T08:48:07.412Z"
   },
   {
    "duration": 261,
    "start_time": "2021-07-08T08:48:10.385Z"
   },
   {
    "duration": 255,
    "start_time": "2021-07-08T08:48:14.494Z"
   },
   {
    "duration": 219,
    "start_time": "2021-07-08T08:48:22.752Z"
   },
   {
    "duration": 173,
    "start_time": "2021-07-08T08:49:06.395Z"
   },
   {
    "duration": 180,
    "start_time": "2021-07-08T08:49:21.011Z"
   },
   {
    "duration": 6,
    "start_time": "2021-07-08T08:50:31.697Z"
   },
   {
    "duration": 10,
    "start_time": "2021-07-08T08:50:47.394Z"
   },
   {
    "duration": 11,
    "start_time": "2021-07-08T08:53:49.332Z"
   },
   {
    "duration": 171,
    "start_time": "2021-07-08T08:54:28.408Z"
   },
   {
    "duration": 636,
    "start_time": "2021-07-08T09:02:48.385Z"
   },
   {
    "duration": 227,
    "start_time": "2021-07-08T09:02:49.023Z"
   },
   {
    "duration": 104,
    "start_time": "2021-07-08T09:02:49.252Z"
   },
   {
    "duration": 5,
    "start_time": "2021-07-08T09:02:49.358Z"
   },
   {
    "duration": 27,
    "start_time": "2021-07-08T09:02:49.365Z"
   },
   {
    "duration": 8,
    "start_time": "2021-07-08T09:02:49.394Z"
   },
   {
    "duration": 18,
    "start_time": "2021-07-08T09:02:49.404Z"
   },
   {
    "duration": 6,
    "start_time": "2021-07-08T09:02:49.424Z"
   },
   {
    "duration": 11,
    "start_time": "2021-07-08T09:02:49.433Z"
   },
   {
    "duration": 13,
    "start_time": "2021-07-08T09:02:49.485Z"
   },
   {
    "duration": 9,
    "start_time": "2021-07-08T09:02:49.500Z"
   },
   {
    "duration": 38,
    "start_time": "2021-07-08T09:02:49.511Z"
   },
   {
    "duration": 42,
    "start_time": "2021-07-08T09:02:49.551Z"
   },
   {
    "duration": 21,
    "start_time": "2021-07-08T09:02:49.594Z"
   },
   {
    "duration": 6,
    "start_time": "2021-07-08T09:02:49.616Z"
   },
   {
    "duration": 3,
    "start_time": "2021-07-08T09:02:49.623Z"
   },
   {
    "duration": 9,
    "start_time": "2021-07-08T09:02:49.628Z"
   },
   {
    "duration": 52,
    "start_time": "2021-07-08T09:02:49.638Z"
   },
   {
    "duration": 11,
    "start_time": "2021-07-08T09:02:49.692Z"
   },
   {
    "duration": 8,
    "start_time": "2021-07-08T09:02:49.704Z"
   },
   {
    "duration": 27,
    "start_time": "2021-07-08T09:02:49.713Z"
   },
   {
    "duration": 59,
    "start_time": "2021-07-08T09:02:49.741Z"
   },
   {
    "duration": 8,
    "start_time": "2021-07-08T09:02:49.803Z"
   },
   {
    "duration": 14,
    "start_time": "2021-07-08T09:02:49.813Z"
   },
   {
    "duration": 20,
    "start_time": "2021-07-08T09:02:49.829Z"
   },
   {
    "duration": 44,
    "start_time": "2021-07-08T09:02:49.851Z"
   },
   {
    "duration": 14,
    "start_time": "2021-07-08T09:02:49.896Z"
   },
   {
    "duration": 221,
    "start_time": "2021-07-08T09:02:49.912Z"
   },
   {
    "duration": 6,
    "start_time": "2021-07-08T09:02:50.134Z"
   },
   {
    "duration": 206,
    "start_time": "2021-07-08T09:02:50.142Z"
   },
   {
    "duration": 19,
    "start_time": "2021-07-08T09:02:50.350Z"
   },
   {
    "duration": 21,
    "start_time": "2021-07-08T09:02:50.370Z"
   },
   {
    "duration": 20,
    "start_time": "2021-07-08T09:02:50.393Z"
   },
   {
    "duration": 5,
    "start_time": "2021-07-08T09:02:50.414Z"
   },
   {
    "duration": 5,
    "start_time": "2021-07-08T09:03:34.173Z"
   },
   {
    "duration": 6,
    "start_time": "2021-07-08T09:04:49.062Z"
   },
   {
    "duration": 9,
    "start_time": "2021-07-08T09:04:50.118Z"
   },
   {
    "duration": 14,
    "start_time": "2021-07-08T09:04:58.512Z"
   },
   {
    "duration": 9,
    "start_time": "2021-07-08T09:05:10.988Z"
   },
   {
    "duration": 11,
    "start_time": "2021-07-08T09:05:11.743Z"
   },
   {
    "duration": 7,
    "start_time": "2021-07-08T09:05:25.677Z"
   },
   {
    "duration": 13,
    "start_time": "2021-07-08T09:05:47.189Z"
   },
   {
    "duration": 13,
    "start_time": "2021-07-08T09:05:54.755Z"
   },
   {
    "duration": 4,
    "start_time": "2021-07-08T09:06:29.189Z"
   },
   {
    "duration": 244,
    "start_time": "2021-07-08T09:06:29.195Z"
   },
   {
    "duration": 91,
    "start_time": "2021-07-08T09:06:29.441Z"
   },
   {
    "duration": 4,
    "start_time": "2021-07-08T09:06:29.534Z"
   },
   {
    "duration": 28,
    "start_time": "2021-07-08T09:06:29.540Z"
   },
   {
    "duration": 6,
    "start_time": "2021-07-08T09:06:29.570Z"
   },
   {
    "duration": 18,
    "start_time": "2021-07-08T09:06:29.578Z"
   },
   {
    "duration": 5,
    "start_time": "2021-07-08T09:06:29.597Z"
   },
   {
    "duration": 13,
    "start_time": "2021-07-08T09:06:29.605Z"
   },
   {
    "duration": 8,
    "start_time": "2021-07-08T09:06:29.620Z"
   },
   {
    "duration": 7,
    "start_time": "2021-07-08T09:06:29.630Z"
   },
   {
    "duration": 63,
    "start_time": "2021-07-08T09:06:29.639Z"
   },
   {
    "duration": 17,
    "start_time": "2021-07-08T09:06:29.704Z"
   },
   {
    "duration": 20,
    "start_time": "2021-07-08T09:06:29.723Z"
   },
   {
    "duration": 6,
    "start_time": "2021-07-08T09:06:29.745Z"
   },
   {
    "duration": 3,
    "start_time": "2021-07-08T09:06:29.752Z"
   },
   {
    "duration": 7,
    "start_time": "2021-07-08T09:06:29.785Z"
   },
   {
    "duration": 11,
    "start_time": "2021-07-08T09:06:29.794Z"
   },
   {
    "duration": 15,
    "start_time": "2021-07-08T09:06:29.807Z"
   },
   {
    "duration": 8,
    "start_time": "2021-07-08T09:06:29.823Z"
   },
   {
    "duration": 70,
    "start_time": "2021-07-08T09:06:29.832Z"
   },
   {
    "duration": 17,
    "start_time": "2021-07-08T09:06:29.903Z"
   },
   {
    "duration": 9,
    "start_time": "2021-07-08T09:06:29.921Z"
   },
   {
    "duration": 9,
    "start_time": "2021-07-08T09:06:29.932Z"
   },
   {
    "duration": 57,
    "start_time": "2021-07-08T09:06:29.942Z"
   },
   {
    "duration": 11,
    "start_time": "2021-07-08T09:06:30.001Z"
   },
   {
    "duration": 19,
    "start_time": "2021-07-08T09:06:30.016Z"
   },
   {
    "duration": 217,
    "start_time": "2021-07-08T09:06:30.037Z"
   },
   {
    "duration": 6,
    "start_time": "2021-07-08T09:06:30.255Z"
   },
   {
    "duration": 205,
    "start_time": "2021-07-08T09:06:30.263Z"
   },
   {
    "duration": 27,
    "start_time": "2021-07-08T09:06:30.470Z"
   },
   {
    "duration": 11,
    "start_time": "2021-07-08T09:06:30.500Z"
   },
   {
    "duration": 31,
    "start_time": "2021-07-08T09:06:30.513Z"
   },
   {
    "duration": 18,
    "start_time": "2021-07-08T09:06:30.546Z"
   },
   {
    "duration": 11,
    "start_time": "2021-07-08T09:06:30.566Z"
   },
   {
    "duration": 19,
    "start_time": "2021-07-08T09:06:30.579Z"
   },
   {
    "duration": 20,
    "start_time": "2021-07-08T09:06:49.466Z"
   },
   {
    "duration": 9,
    "start_time": "2021-07-08T09:06:51.994Z"
   },
   {
    "duration": 20,
    "start_time": "2021-07-08T09:06:52.273Z"
   },
   {
    "duration": 246,
    "start_time": "2021-07-08T09:10:21.272Z"
   },
   {
    "duration": 84,
    "start_time": "2021-07-08T09:10:21.436Z"
   },
   {
    "duration": 7,
    "start_time": "2021-07-08T09:10:37.608Z"
   },
   {
    "duration": 189,
    "start_time": "2021-07-08T09:10:38.573Z"
   },
   {
    "duration": 185,
    "start_time": "2021-07-08T09:10:53.181Z"
   },
   {
    "duration": 11,
    "start_time": "2021-07-08T09:10:59.549Z"
   },
   {
    "duration": 42,
    "start_time": "2021-07-08T09:10:59.709Z"
   },
   {
    "duration": 12,
    "start_time": "2021-07-08T09:11:02.857Z"
   },
   {
    "duration": 28,
    "start_time": "2021-07-08T09:11:10.062Z"
   },
   {
    "duration": 249,
    "start_time": "2021-07-08T09:11:37.388Z"
   },
   {
    "duration": 232,
    "start_time": "2021-07-08T09:11:49.485Z"
   },
   {
    "duration": 453,
    "start_time": "2021-07-08T09:12:01.546Z"
   },
   {
    "duration": 440,
    "start_time": "2021-07-08T09:12:12.347Z"
   },
   {
    "duration": 213,
    "start_time": "2021-07-08T09:13:32.196Z"
   },
   {
    "duration": 172,
    "start_time": "2021-07-08T09:14:07.400Z"
   },
   {
    "duration": 185,
    "start_time": "2021-07-08T09:14:14.905Z"
   },
   {
    "duration": 209,
    "start_time": "2021-07-08T09:14:40.109Z"
   },
   {
    "duration": 201,
    "start_time": "2021-07-08T09:14:54.506Z"
   },
   {
    "duration": 622,
    "start_time": "2021-07-08T09:18:14.497Z"
   },
   {
    "duration": 220,
    "start_time": "2021-07-08T09:18:15.121Z"
   },
   {
    "duration": 79,
    "start_time": "2021-07-08T09:18:15.343Z"
   },
   {
    "duration": 4,
    "start_time": "2021-07-08T09:18:15.425Z"
   },
   {
    "duration": 24,
    "start_time": "2021-07-08T09:18:15.431Z"
   },
   {
    "duration": 8,
    "start_time": "2021-07-08T09:18:15.457Z"
   },
   {
    "duration": 16,
    "start_time": "2021-07-08T09:18:15.466Z"
   },
   {
    "duration": 5,
    "start_time": "2021-07-08T09:18:15.484Z"
   },
   {
    "duration": 10,
    "start_time": "2021-07-08T09:18:15.493Z"
   },
   {
    "duration": 8,
    "start_time": "2021-07-08T09:18:15.504Z"
   },
   {
    "duration": 7,
    "start_time": "2021-07-08T09:18:15.513Z"
   },
   {
    "duration": 26,
    "start_time": "2021-07-08T09:18:15.522Z"
   },
   {
    "duration": 49,
    "start_time": "2021-07-08T09:18:15.550Z"
   },
   {
    "duration": 21,
    "start_time": "2021-07-08T09:18:15.601Z"
   },
   {
    "duration": 8,
    "start_time": "2021-07-08T09:18:15.624Z"
   },
   {
    "duration": 3,
    "start_time": "2021-07-08T09:18:15.634Z"
   },
   {
    "duration": 8,
    "start_time": "2021-07-08T09:18:15.639Z"
   },
   {
    "duration": 45,
    "start_time": "2021-07-08T09:18:15.649Z"
   },
   {
    "duration": 13,
    "start_time": "2021-07-08T09:18:15.696Z"
   },
   {
    "duration": 10,
    "start_time": "2021-07-08T09:18:15.711Z"
   },
   {
    "duration": 64,
    "start_time": "2021-07-08T09:18:15.722Z"
   },
   {
    "duration": 19,
    "start_time": "2021-07-08T09:18:15.788Z"
   },
   {
    "duration": 9,
    "start_time": "2021-07-08T09:18:15.809Z"
   },
   {
    "duration": 9,
    "start_time": "2021-07-08T09:18:15.820Z"
   },
   {
    "duration": 18,
    "start_time": "2021-07-08T09:18:15.831Z"
   },
   {
    "duration": 43,
    "start_time": "2021-07-08T09:18:15.851Z"
   },
   {
    "duration": 12,
    "start_time": "2021-07-08T09:18:15.897Z"
   },
   {
    "duration": 219,
    "start_time": "2021-07-08T09:18:15.911Z"
   },
   {
    "duration": 8,
    "start_time": "2021-07-08T09:18:16.132Z"
   },
   {
    "duration": 199,
    "start_time": "2021-07-08T09:18:16.141Z"
   },
   {
    "duration": 18,
    "start_time": "2021-07-08T09:18:16.341Z"
   },
   {
    "duration": 24,
    "start_time": "2021-07-08T09:18:16.361Z"
   },
   {
    "duration": 24,
    "start_time": "2021-07-08T09:18:16.387Z"
   },
   {
    "duration": 211,
    "start_time": "2021-07-08T09:18:16.413Z"
   },
   {
    "duration": 18,
    "start_time": "2021-07-08T09:18:16.626Z"
   },
   {
    "duration": 596,
    "start_time": "2021-07-08T10:06:33.623Z"
   },
   {
    "duration": 181,
    "start_time": "2021-07-08T10:06:34.221Z"
   },
   {
    "duration": 176,
    "start_time": "2021-07-08T10:06:34.635Z"
   },
   {
    "duration": 239,
    "start_time": "2021-07-08T10:06:55.572Z"
   },
   {
    "duration": 6,
    "start_time": "2021-07-08T10:06:57.687Z"
   },
   {
    "duration": 4,
    "start_time": "2021-07-08T10:07:03.956Z"
   },
   {
    "duration": 4,
    "start_time": "2021-07-08T10:07:10.376Z"
   },
   {
    "duration": 4,
    "start_time": "2021-07-08T10:17:19.889Z"
   },
   {
    "duration": 3,
    "start_time": "2021-07-08T10:19:19.407Z"
   },
   {
    "duration": 197,
    "start_time": "2021-07-08T10:19:19.412Z"
   },
   {
    "duration": 127,
    "start_time": "2021-07-08T10:19:19.611Z"
   },
   {
    "duration": 4,
    "start_time": "2021-07-08T10:19:19.740Z"
   },
   {
    "duration": 27,
    "start_time": "2021-07-08T10:19:19.746Z"
   },
   {
    "duration": 7,
    "start_time": "2021-07-08T10:19:19.775Z"
   },
   {
    "duration": 30,
    "start_time": "2021-07-08T10:19:19.784Z"
   },
   {
    "duration": 7,
    "start_time": "2021-07-08T10:19:19.817Z"
   },
   {
    "duration": 26,
    "start_time": "2021-07-08T10:19:19.826Z"
   },
   {
    "duration": 18,
    "start_time": "2021-07-08T10:19:19.854Z"
   },
   {
    "duration": 14,
    "start_time": "2021-07-08T10:19:19.874Z"
   },
   {
    "duration": 48,
    "start_time": "2021-07-08T10:19:19.890Z"
   },
   {
    "duration": 17,
    "start_time": "2021-07-08T10:19:19.940Z"
   },
   {
    "duration": 38,
    "start_time": "2021-07-08T10:19:19.959Z"
   },
   {
    "duration": 8,
    "start_time": "2021-07-08T10:19:19.999Z"
   },
   {
    "duration": 15,
    "start_time": "2021-07-08T10:19:20.009Z"
   },
   {
    "duration": 22,
    "start_time": "2021-07-08T10:19:20.026Z"
   },
   {
    "duration": 10,
    "start_time": "2021-07-08T10:19:20.050Z"
   },
   {
    "duration": 10,
    "start_time": "2021-07-08T10:19:20.062Z"
   },
   {
    "duration": 20,
    "start_time": "2021-07-08T10:19:20.073Z"
   },
   {
    "duration": 29,
    "start_time": "2021-07-08T10:19:20.095Z"
   },
   {
    "duration": 17,
    "start_time": "2021-07-08T10:19:20.126Z"
   },
   {
    "duration": 40,
    "start_time": "2021-07-08T10:19:20.146Z"
   },
   {
    "duration": 15,
    "start_time": "2021-07-08T10:19:20.189Z"
   },
   {
    "duration": 19,
    "start_time": "2021-07-08T10:19:20.206Z"
   },
   {
    "duration": 10,
    "start_time": "2021-07-08T10:19:20.226Z"
   },
   {
    "duration": 11,
    "start_time": "2021-07-08T10:19:20.238Z"
   },
   {
    "duration": 297,
    "start_time": "2021-07-08T10:19:20.250Z"
   },
   {
    "duration": 6,
    "start_time": "2021-07-08T10:19:20.549Z"
   },
   {
    "duration": 191,
    "start_time": "2021-07-08T10:19:20.557Z"
   },
   {
    "duration": 19,
    "start_time": "2021-07-08T10:19:20.750Z"
   },
   {
    "duration": 20,
    "start_time": "2021-07-08T10:19:20.771Z"
   },
   {
    "duration": 15,
    "start_time": "2021-07-08T10:19:20.793Z"
   },
   {
    "duration": 222,
    "start_time": "2021-07-08T10:19:20.809Z"
   },
   {
    "duration": 20,
    "start_time": "2021-07-08T10:19:21.033Z"
   },
   {
    "duration": 27,
    "start_time": "2021-07-08T10:45:04.055Z"
   },
   {
    "duration": 8,
    "start_time": "2021-07-08T10:45:08.478Z"
   },
   {
    "duration": 8,
    "start_time": "2021-07-08T10:45:31.982Z"
   },
   {
    "duration": 10,
    "start_time": "2021-07-08T10:46:01.221Z"
   },
   {
    "duration": 17,
    "start_time": "2021-07-08T10:46:40.011Z"
   },
   {
    "duration": 193,
    "start_time": "2021-07-08T10:48:19.471Z"
   },
   {
    "duration": 225,
    "start_time": "2021-07-08T10:49:26.480Z"
   },
   {
    "duration": 204,
    "start_time": "2021-07-08T10:49:59.992Z"
   },
   {
    "duration": 435,
    "start_time": "2021-07-08T10:50:06.779Z"
   },
   {
    "duration": 199,
    "start_time": "2021-07-08T10:50:14.891Z"
   },
   {
    "duration": 204,
    "start_time": "2021-07-08T10:50:18.501Z"
   },
   {
    "duration": 244,
    "start_time": "2021-07-08T10:50:23.359Z"
   },
   {
    "duration": 192,
    "start_time": "2021-07-08T10:50:29.135Z"
   },
   {
    "duration": 218,
    "start_time": "2021-07-08T10:50:33.092Z"
   },
   {
    "duration": 207,
    "start_time": "2021-07-08T10:52:45.381Z"
   },
   {
    "duration": 5,
    "start_time": "2021-07-08T10:53:34.641Z"
   },
   {
    "duration": 196,
    "start_time": "2021-07-08T10:53:41.478Z"
   },
   {
    "duration": 43,
    "start_time": "2021-07-08T10:53:50.335Z"
   },
   {
    "duration": 32,
    "start_time": "2021-07-08T10:53:55.294Z"
   },
   {
    "duration": 55,
    "start_time": "2021-07-08T10:54:09.675Z"
   },
   {
    "duration": 16,
    "start_time": "2021-07-08T10:54:12.260Z"
   },
   {
    "duration": 15,
    "start_time": "2021-07-08T10:54:49.150Z"
   },
   {
    "duration": 20,
    "start_time": "2021-07-08T10:56:07.596Z"
   },
   {
    "duration": 16,
    "start_time": "2021-07-08T10:58:26.276Z"
   },
   {
    "duration": 22,
    "start_time": "2021-07-08T10:59:00.486Z"
   },
   {
    "duration": 18,
    "start_time": "2021-07-08T11:02:09.653Z"
   },
   {
    "duration": 10,
    "start_time": "2021-07-08T11:03:44.331Z"
   },
   {
    "duration": 10,
    "start_time": "2021-07-08T11:03:54.055Z"
   },
   {
    "duration": 12,
    "start_time": "2021-07-08T11:04:41.967Z"
   },
   {
    "duration": 24,
    "start_time": "2021-07-08T11:07:30.732Z"
   },
   {
    "duration": 6,
    "start_time": "2021-07-08T11:07:37.364Z"
   },
   {
    "duration": 16,
    "start_time": "2021-07-08T11:08:01.819Z"
   },
   {
    "duration": 17,
    "start_time": "2021-07-08T11:09:47.488Z"
   },
   {
    "duration": 246,
    "start_time": "2021-07-08T11:10:00.830Z"
   },
   {
    "duration": 18,
    "start_time": "2021-07-08T11:13:55.195Z"
   },
   {
    "duration": 204,
    "start_time": "2021-07-08T11:14:04.951Z"
   },
   {
    "duration": 19,
    "start_time": "2021-07-08T11:15:10.613Z"
   },
   {
    "duration": 680,
    "start_time": "2021-07-08T11:16:25.793Z"
   },
   {
    "duration": 451,
    "start_time": "2021-07-08T11:16:40.313Z"
   },
   {
    "duration": 469,
    "start_time": "2021-07-08T11:17:21.286Z"
   },
   {
    "duration": 20,
    "start_time": "2021-07-08T11:19:12.554Z"
   },
   {
    "duration": 35,
    "start_time": "2021-07-08T11:20:05.484Z"
   },
   {
    "duration": 53,
    "start_time": "2021-07-08T11:21:40.050Z"
   },
   {
    "duration": 13,
    "start_time": "2021-07-08T11:22:26.059Z"
   },
   {
    "duration": 19,
    "start_time": "2021-07-08T11:22:47.419Z"
   },
   {
    "duration": 25,
    "start_time": "2021-07-08T11:23:19.958Z"
   },
   {
    "duration": 29,
    "start_time": "2021-07-08T11:23:25.415Z"
   },
   {
    "duration": 10,
    "start_time": "2021-07-08T11:24:45.138Z"
   },
   {
    "duration": 19,
    "start_time": "2021-07-08T11:24:54.498Z"
   },
   {
    "duration": 12,
    "start_time": "2021-07-08T11:25:32.225Z"
   },
   {
    "duration": 19,
    "start_time": "2021-07-08T11:25:37.092Z"
   },
   {
    "duration": 17,
    "start_time": "2021-07-08T11:25:58.116Z"
   },
   {
    "duration": 15,
    "start_time": "2021-07-08T11:26:02.258Z"
   },
   {
    "duration": 8,
    "start_time": "2021-07-08T11:26:59.682Z"
   },
   {
    "duration": 184,
    "start_time": "2021-07-08T11:27:21.894Z"
   },
   {
    "duration": 8,
    "start_time": "2021-07-08T11:27:23.824Z"
   },
   {
    "duration": 202,
    "start_time": "2021-07-08T11:27:23.962Z"
   },
   {
    "duration": 360,
    "start_time": "2021-07-08T11:28:33.215Z"
   },
   {
    "duration": 231,
    "start_time": "2021-07-08T11:32:05.542Z"
   },
   {
    "duration": 607,
    "start_time": "2021-07-08T11:36:27.854Z"
   },
   {
    "duration": 241,
    "start_time": "2021-07-08T11:36:28.463Z"
   },
   {
    "duration": 67,
    "start_time": "2021-07-08T11:36:28.709Z"
   },
   {
    "duration": 5,
    "start_time": "2021-07-08T11:36:28.778Z"
   },
   {
    "duration": 32,
    "start_time": "2021-07-08T11:36:28.784Z"
   },
   {
    "duration": 11,
    "start_time": "2021-07-08T11:36:28.819Z"
   },
   {
    "duration": 20,
    "start_time": "2021-07-08T11:36:28.834Z"
   },
   {
    "duration": 36,
    "start_time": "2021-07-08T11:36:28.857Z"
   },
   {
    "duration": 16,
    "start_time": "2021-07-08T11:36:28.895Z"
   },
   {
    "duration": 14,
    "start_time": "2021-07-08T11:36:28.913Z"
   },
   {
    "duration": 9,
    "start_time": "2021-07-08T11:36:28.930Z"
   },
   {
    "duration": 55,
    "start_time": "2021-07-08T11:36:28.941Z"
   },
   {
    "duration": 27,
    "start_time": "2021-07-08T11:36:28.999Z"
   },
   {
    "duration": 30,
    "start_time": "2021-07-08T11:36:29.028Z"
   },
   {
    "duration": 31,
    "start_time": "2021-07-08T11:36:29.060Z"
   },
   {
    "duration": 3,
    "start_time": "2021-07-08T11:36:29.093Z"
   },
   {
    "duration": 12,
    "start_time": "2021-07-08T11:36:29.099Z"
   },
   {
    "duration": 11,
    "start_time": "2021-07-08T11:36:29.112Z"
   },
   {
    "duration": 12,
    "start_time": "2021-07-08T11:36:29.125Z"
   },
   {
    "duration": 9,
    "start_time": "2021-07-08T11:36:29.139Z"
   },
   {
    "duration": 31,
    "start_time": "2021-07-08T11:36:29.191Z"
   },
   {
    "duration": 17,
    "start_time": "2021-07-08T11:36:29.226Z"
   },
   {
    "duration": 7,
    "start_time": "2021-07-08T11:36:29.245Z"
   },
   {
    "duration": 10,
    "start_time": "2021-07-08T11:36:29.254Z"
   },
   {
    "duration": 30,
    "start_time": "2021-07-08T11:36:29.292Z"
   },
   {
    "duration": 11,
    "start_time": "2021-07-08T11:36:29.324Z"
   },
   {
    "duration": 11,
    "start_time": "2021-07-08T11:36:29.337Z"
   },
   {
    "duration": 230,
    "start_time": "2021-07-08T11:36:29.349Z"
   },
   {
    "duration": 13,
    "start_time": "2021-07-08T11:36:29.588Z"
   },
   {
    "duration": 205,
    "start_time": "2021-07-08T11:36:29.603Z"
   },
   {
    "duration": 20,
    "start_time": "2021-07-08T11:36:29.810Z"
   },
   {
    "duration": 9,
    "start_time": "2021-07-08T11:36:29.832Z"
   },
   {
    "duration": 16,
    "start_time": "2021-07-08T11:36:29.843Z"
   },
   {
    "duration": 283,
    "start_time": "2021-07-08T11:36:29.861Z"
   },
   {
    "duration": 50,
    "start_time": "2021-07-08T11:36:30.146Z"
   },
   {
    "duration": 14,
    "start_time": "2021-07-08T11:36:30.198Z"
   },
   {
    "duration": 11,
    "start_time": "2021-07-08T11:36:30.214Z"
   },
   {
    "duration": 245,
    "start_time": "2021-07-08T11:36:30.227Z"
   },
   {
    "duration": 439,
    "start_time": "2021-07-08T11:36:30.474Z"
   },
   {
    "duration": 210,
    "start_time": "2021-07-08T11:36:30.915Z"
   },
   {
    "duration": 15,
    "start_time": "2021-07-08T11:36:31.127Z"
   },
   {
    "duration": 17,
    "start_time": "2021-07-08T11:38:20.451Z"
   },
   {
    "duration": 642,
    "start_time": "2021-07-08T11:46:17.881Z"
   },
   {
    "duration": 210,
    "start_time": "2021-07-08T11:46:18.525Z"
   },
   {
    "duration": 104,
    "start_time": "2021-07-08T11:46:18.741Z"
   },
   {
    "duration": 8,
    "start_time": "2021-07-08T11:46:18.847Z"
   },
   {
    "duration": 25,
    "start_time": "2021-07-08T11:46:18.857Z"
   },
   {
    "duration": 14,
    "start_time": "2021-07-08T11:46:18.884Z"
   },
   {
    "duration": 22,
    "start_time": "2021-07-08T11:46:18.900Z"
   },
   {
    "duration": 5,
    "start_time": "2021-07-08T11:46:18.924Z"
   },
   {
    "duration": 13,
    "start_time": "2021-07-08T11:46:18.931Z"
   },
   {
    "duration": 45,
    "start_time": "2021-07-08T11:46:18.946Z"
   },
   {
    "duration": 12,
    "start_time": "2021-07-08T11:46:18.993Z"
   },
   {
    "duration": 38,
    "start_time": "2021-07-08T11:46:19.006Z"
   },
   {
    "duration": 50,
    "start_time": "2021-07-08T11:46:19.046Z"
   },
   {
    "duration": 29,
    "start_time": "2021-07-08T11:46:19.099Z"
   },
   {
    "duration": 7,
    "start_time": "2021-07-08T11:46:19.130Z"
   },
   {
    "duration": 3,
    "start_time": "2021-07-08T11:46:19.139Z"
   },
   {
    "duration": 11,
    "start_time": "2021-07-08T11:46:19.144Z"
   },
   {
    "duration": 40,
    "start_time": "2021-07-08T11:46:19.157Z"
   },
   {
    "duration": 15,
    "start_time": "2021-07-08T11:46:19.199Z"
   },
   {
    "duration": 10,
    "start_time": "2021-07-08T11:46:19.217Z"
   },
   {
    "duration": 68,
    "start_time": "2021-07-08T11:46:19.230Z"
   },
   {
    "duration": 17,
    "start_time": "2021-07-08T11:46:19.301Z"
   },
   {
    "duration": 7,
    "start_time": "2021-07-08T11:46:19.321Z"
   },
   {
    "duration": 11,
    "start_time": "2021-07-08T11:46:19.330Z"
   },
   {
    "duration": 59,
    "start_time": "2021-07-08T11:46:19.343Z"
   },
   {
    "duration": 17,
    "start_time": "2021-07-08T11:46:19.405Z"
   },
   {
    "duration": 16,
    "start_time": "2021-07-08T11:46:19.424Z"
   },
   {
    "duration": 252,
    "start_time": "2021-07-08T11:46:19.443Z"
   },
   {
    "duration": 9,
    "start_time": "2021-07-08T11:46:19.697Z"
   },
   {
    "duration": 224,
    "start_time": "2021-07-08T11:46:19.708Z"
   },
   {
    "duration": 21,
    "start_time": "2021-07-08T11:46:19.934Z"
   },
   {
    "duration": 9,
    "start_time": "2021-07-08T11:46:19.956Z"
   },
   {
    "duration": 32,
    "start_time": "2021-07-08T11:46:19.967Z"
   },
   {
    "duration": 288,
    "start_time": "2021-07-08T11:46:20.004Z"
   },
   {
    "duration": 23,
    "start_time": "2021-07-08T11:46:20.300Z"
   },
   {
    "duration": 11,
    "start_time": "2021-07-08T11:46:20.325Z"
   },
   {
    "duration": 11,
    "start_time": "2021-07-08T11:46:20.339Z"
   },
   {
    "duration": 259,
    "start_time": "2021-07-08T11:46:20.352Z"
   },
   {
    "duration": 438,
    "start_time": "2021-07-08T11:46:20.613Z"
   },
   {
    "duration": 207,
    "start_time": "2021-07-08T11:46:21.054Z"
   },
   {
    "duration": 27,
    "start_time": "2021-07-08T11:46:21.262Z"
   },
   {
    "duration": 19,
    "start_time": "2021-07-08T11:46:21.291Z"
   },
   {
    "duration": 820,
    "start_time": "2021-07-08T11:49:01.655Z"
   },
   {
    "duration": 372,
    "start_time": "2021-07-08T11:49:02.478Z"
   },
   {
    "duration": 98,
    "start_time": "2021-07-08T11:49:02.853Z"
   },
   {
    "duration": 6,
    "start_time": "2021-07-08T11:49:02.953Z"
   },
   {
    "duration": 39,
    "start_time": "2021-07-08T11:49:02.960Z"
   },
   {
    "duration": 9,
    "start_time": "2021-07-08T11:49:03.003Z"
   },
   {
    "duration": 23,
    "start_time": "2021-07-08T11:49:03.014Z"
   },
   {
    "duration": 6,
    "start_time": "2021-07-08T11:49:03.041Z"
   },
   {
    "duration": 20,
    "start_time": "2021-07-08T11:49:03.049Z"
   },
   {
    "duration": 18,
    "start_time": "2021-07-08T11:49:03.084Z"
   },
   {
    "duration": 14,
    "start_time": "2021-07-08T11:49:03.104Z"
   },
   {
    "duration": 39,
    "start_time": "2021-07-08T11:49:03.119Z"
   },
   {
    "duration": 38,
    "start_time": "2021-07-08T11:49:03.160Z"
   },
   {
    "duration": 26,
    "start_time": "2021-07-08T11:49:03.200Z"
   },
   {
    "duration": 7,
    "start_time": "2021-07-08T11:49:03.227Z"
   },
   {
    "duration": 4,
    "start_time": "2021-07-08T11:49:03.236Z"
   },
   {
    "duration": 15,
    "start_time": "2021-07-08T11:49:03.243Z"
   },
   {
    "duration": 21,
    "start_time": "2021-07-08T11:49:03.285Z"
   },
   {
    "duration": 17,
    "start_time": "2021-07-08T11:49:03.309Z"
   },
   {
    "duration": 10,
    "start_time": "2021-07-08T11:49:03.328Z"
   },
   {
    "duration": 65,
    "start_time": "2021-07-08T11:49:03.340Z"
   },
   {
    "duration": 18,
    "start_time": "2021-07-08T11:49:03.407Z"
   },
   {
    "duration": 8,
    "start_time": "2021-07-08T11:49:03.428Z"
   },
   {
    "duration": 15,
    "start_time": "2021-07-08T11:49:03.438Z"
   },
   {
    "duration": 40,
    "start_time": "2021-07-08T11:49:03.455Z"
   },
   {
    "duration": 12,
    "start_time": "2021-07-08T11:49:03.497Z"
   },
   {
    "duration": 29,
    "start_time": "2021-07-08T11:49:03.511Z"
   },
   {
    "duration": 285,
    "start_time": "2021-07-08T11:49:03.542Z"
   },
   {
    "duration": 8,
    "start_time": "2021-07-08T11:49:03.829Z"
   },
   {
    "duration": 227,
    "start_time": "2021-07-08T11:49:03.838Z"
   },
   {
    "duration": 40,
    "start_time": "2021-07-08T11:49:04.066Z"
   },
   {
    "duration": 10,
    "start_time": "2021-07-08T11:49:04.108Z"
   },
   {
    "duration": 26,
    "start_time": "2021-07-08T11:49:04.121Z"
   },
   {
    "duration": 290,
    "start_time": "2021-07-08T11:49:04.149Z"
   },
   {
    "duration": 26,
    "start_time": "2021-07-08T11:49:04.441Z"
   },
   {
    "duration": 31,
    "start_time": "2021-07-08T11:49:04.470Z"
   },
   {
    "duration": 14,
    "start_time": "2021-07-08T11:49:04.503Z"
   },
   {
    "duration": 259,
    "start_time": "2021-07-08T11:49:04.521Z"
   },
   {
    "duration": 480,
    "start_time": "2021-07-08T11:49:04.782Z"
   },
   {
    "duration": 225,
    "start_time": "2021-07-08T11:49:05.264Z"
   },
   {
    "duration": 22,
    "start_time": "2021-07-08T11:49:05.491Z"
   },
   {
    "duration": 24,
    "start_time": "2021-07-08T11:49:05.515Z"
   },
   {
    "duration": 634,
    "start_time": "2021-07-08T11:52:24.960Z"
   },
   {
    "duration": 199,
    "start_time": "2021-07-08T11:52:25.599Z"
   },
   {
    "duration": 106,
    "start_time": "2021-07-08T11:52:25.803Z"
   },
   {
    "duration": 7,
    "start_time": "2021-07-08T11:52:25.911Z"
   },
   {
    "duration": 29,
    "start_time": "2021-07-08T11:52:25.920Z"
   },
   {
    "duration": 7,
    "start_time": "2021-07-08T11:52:25.951Z"
   },
   {
    "duration": 26,
    "start_time": "2021-07-08T11:52:25.961Z"
   },
   {
    "duration": 11,
    "start_time": "2021-07-08T11:52:25.990Z"
   },
   {
    "duration": 29,
    "start_time": "2021-07-08T11:52:26.005Z"
   },
   {
    "duration": 9,
    "start_time": "2021-07-08T11:52:26.036Z"
   },
   {
    "duration": 8,
    "start_time": "2021-07-08T11:52:26.047Z"
   },
   {
    "duration": 63,
    "start_time": "2021-07-08T11:52:26.057Z"
   },
   {
    "duration": 17,
    "start_time": "2021-07-08T11:52:26.122Z"
   },
   {
    "duration": 43,
    "start_time": "2021-07-08T11:52:26.142Z"
   },
   {
    "duration": 17,
    "start_time": "2021-07-08T11:52:26.187Z"
   },
   {
    "duration": 5,
    "start_time": "2021-07-08T11:52:26.206Z"
   },
   {
    "duration": 12,
    "start_time": "2021-07-08T11:52:26.212Z"
   },
   {
    "duration": 11,
    "start_time": "2021-07-08T11:52:26.226Z"
   },
   {
    "duration": 12,
    "start_time": "2021-07-08T11:52:26.238Z"
   },
   {
    "duration": 38,
    "start_time": "2021-07-08T11:52:26.252Z"
   },
   {
    "duration": 40,
    "start_time": "2021-07-08T11:52:26.292Z"
   },
   {
    "duration": 17,
    "start_time": "2021-07-08T11:52:26.336Z"
   },
   {
    "duration": 39,
    "start_time": "2021-07-08T11:52:26.355Z"
   },
   {
    "duration": 11,
    "start_time": "2021-07-08T11:52:26.395Z"
   },
   {
    "duration": 23,
    "start_time": "2021-07-08T11:52:26.408Z"
   },
   {
    "duration": 12,
    "start_time": "2021-07-08T11:52:26.432Z"
   },
   {
    "duration": 41,
    "start_time": "2021-07-08T11:52:26.446Z"
   },
   {
    "duration": 215,
    "start_time": "2021-07-08T11:52:26.493Z"
   },
   {
    "duration": 8,
    "start_time": "2021-07-08T11:52:26.710Z"
   },
   {
    "duration": 228,
    "start_time": "2021-07-08T11:52:26.720Z"
   },
   {
    "duration": 18,
    "start_time": "2021-07-08T11:52:26.950Z"
   },
   {
    "duration": 35,
    "start_time": "2021-07-08T11:52:26.969Z"
   },
   {
    "duration": 23,
    "start_time": "2021-07-08T11:52:27.006Z"
   },
   {
    "duration": 258,
    "start_time": "2021-07-08T11:52:27.030Z"
   },
   {
    "duration": 24,
    "start_time": "2021-07-08T11:52:27.290Z"
   },
   {
    "duration": 12,
    "start_time": "2021-07-08T11:52:27.316Z"
   },
   {
    "duration": 10,
    "start_time": "2021-07-08T11:52:27.329Z"
   },
   {
    "duration": 298,
    "start_time": "2021-07-08T11:52:27.341Z"
   },
   {
    "duration": 436,
    "start_time": "2021-07-08T11:52:27.641Z"
   },
   {
    "duration": 216,
    "start_time": "2021-07-08T11:52:28.079Z"
   },
   {
    "duration": 20,
    "start_time": "2021-07-08T11:52:28.297Z"
   },
   {
    "duration": 17,
    "start_time": "2021-07-08T11:52:28.319Z"
   },
   {
    "duration": 795,
    "start_time": "2024-01-14T14:59:39.100Z"
   },
   {
    "duration": 3,
    "start_time": "2024-01-14T14:59:41.945Z"
   },
   {
    "duration": 267,
    "start_time": "2024-01-14T15:00:01.797Z"
   },
   {
    "duration": 16,
    "start_time": "2024-01-14T15:00:09.192Z"
   },
   {
    "duration": 10,
    "start_time": "2024-01-14T15:00:20.982Z"
   },
   {
    "duration": 9,
    "start_time": "2024-01-14T15:01:09.619Z"
   },
   {
    "duration": 5,
    "start_time": "2024-01-14T15:02:18.554Z"
   },
   {
    "duration": 4,
    "start_time": "2024-01-14T15:02:49.656Z"
   },
   {
    "duration": 6,
    "start_time": "2024-01-14T15:03:06.941Z"
   },
   {
    "duration": 13,
    "start_time": "2024-01-14T15:03:27.520Z"
   },
   {
    "duration": 18,
    "start_time": "2024-01-14T15:03:29.812Z"
   },
   {
    "duration": 15,
    "start_time": "2024-01-14T15:03:46.047Z"
   },
   {
    "duration": 19,
    "start_time": "2024-01-14T15:57:54.275Z"
   },
   {
    "duration": 4,
    "start_time": "2024-01-14T15:58:03.052Z"
   },
   {
    "duration": 5,
    "start_time": "2024-01-14T15:58:23.887Z"
   },
   {
    "duration": 5,
    "start_time": "2024-01-14T15:59:05.346Z"
   },
   {
    "duration": 7,
    "start_time": "2024-01-14T15:59:23.107Z"
   },
   {
    "duration": 6,
    "start_time": "2024-01-14T16:00:20.271Z"
   },
   {
    "duration": 7,
    "start_time": "2024-01-14T16:00:30.345Z"
   },
   {
    "duration": 32,
    "start_time": "2024-01-14T16:02:50.273Z"
   },
   {
    "duration": 29,
    "start_time": "2024-01-14T16:03:00.498Z"
   },
   {
    "duration": 27,
    "start_time": "2024-01-14T16:03:17.835Z"
   },
   {
    "duration": 7,
    "start_time": "2024-01-14T16:19:19.139Z"
   },
   {
    "duration": 1234,
    "start_time": "2024-01-14T16:19:23.205Z"
   },
   {
    "duration": 7,
    "start_time": "2024-01-14T16:19:33.823Z"
   },
   {
    "duration": 8,
    "start_time": "2024-01-14T16:20:05.435Z"
   },
   {
    "duration": 7,
    "start_time": "2024-01-14T16:20:21.003Z"
   },
   {
    "duration": 7,
    "start_time": "2024-01-14T16:20:31.506Z"
   },
   {
    "duration": 5,
    "start_time": "2024-01-14T16:20:35.093Z"
   },
   {
    "duration": 10,
    "start_time": "2024-01-14T16:21:19.397Z"
   },
   {
    "duration": 4,
    "start_time": "2024-01-14T16:23:25.269Z"
   },
   {
    "duration": 15,
    "start_time": "2024-01-14T16:27:05.465Z"
   },
   {
    "duration": 17,
    "start_time": "2024-01-14T16:27:21.318Z"
   },
   {
    "duration": 3,
    "start_time": "2024-01-14T16:33:26.879Z"
   },
   {
    "duration": 5,
    "start_time": "2024-01-14T16:33:45.181Z"
   },
   {
    "duration": 17,
    "start_time": "2024-01-14T16:34:28.058Z"
   },
   {
    "duration": 4,
    "start_time": "2024-01-14T16:36:06.497Z"
   },
   {
    "duration": 4,
    "start_time": "2024-01-14T16:59:35.414Z"
   },
   {
    "duration": 5,
    "start_time": "2024-01-14T16:59:45.759Z"
   },
   {
    "duration": 6,
    "start_time": "2024-01-14T17:02:10.267Z"
   },
   {
    "duration": 4,
    "start_time": "2024-01-14T17:02:23.690Z"
   },
   {
    "duration": 6,
    "start_time": "2024-01-14T17:02:49.288Z"
   },
   {
    "duration": 7,
    "start_time": "2024-01-14T17:03:07.987Z"
   },
   {
    "duration": 3,
    "start_time": "2024-01-14T17:04:13.320Z"
   },
   {
    "duration": 6,
    "start_time": "2024-01-14T17:05:33.117Z"
   },
   {
    "duration": 5,
    "start_time": "2024-01-14T17:05:42.843Z"
   },
   {
    "duration": 7,
    "start_time": "2024-01-14T17:06:59.560Z"
   },
   {
    "duration": 2,
    "start_time": "2024-01-14T17:07:29.339Z"
   },
   {
    "duration": 18,
    "start_time": "2024-01-14T17:09:00.620Z"
   },
   {
    "duration": 39,
    "start_time": "2024-01-14T17:14:12.372Z"
   },
   {
    "duration": 17,
    "start_time": "2024-01-14T17:14:18.879Z"
   },
   {
    "duration": 11,
    "start_time": "2024-01-14T17:14:47.589Z"
   },
   {
    "duration": 8,
    "start_time": "2024-01-14T17:15:20.976Z"
   },
   {
    "duration": 7,
    "start_time": "2024-01-14T17:15:29.933Z"
   },
   {
    "duration": 6,
    "start_time": "2024-01-14T17:15:36.846Z"
   },
   {
    "duration": 7,
    "start_time": "2024-01-14T17:15:50.536Z"
   },
   {
    "duration": 7,
    "start_time": "2024-01-14T17:15:57.791Z"
   },
   {
    "duration": 7,
    "start_time": "2024-01-14T17:16:51.391Z"
   },
   {
    "duration": 11,
    "start_time": "2024-01-14T17:16:56.961Z"
   },
   {
    "duration": 7,
    "start_time": "2024-01-14T17:17:01.325Z"
   },
   {
    "duration": 7,
    "start_time": "2024-01-14T17:18:04.234Z"
   },
   {
    "duration": 7,
    "start_time": "2024-01-14T17:18:08.998Z"
   },
   {
    "duration": 629,
    "start_time": "2024-01-14T17:19:45.423Z"
   },
   {
    "duration": 123,
    "start_time": "2024-01-14T17:19:46.054Z"
   },
   {
    "duration": 15,
    "start_time": "2024-01-14T17:19:46.179Z"
   },
   {
    "duration": 25,
    "start_time": "2024-01-14T17:19:46.195Z"
   },
   {
    "duration": 9,
    "start_time": "2024-01-14T17:19:46.223Z"
   },
   {
    "duration": 10,
    "start_time": "2024-01-14T17:19:46.233Z"
   },
   {
    "duration": 3,
    "start_time": "2024-01-14T17:19:46.245Z"
   },
   {
    "duration": 6,
    "start_time": "2024-01-14T17:19:46.250Z"
   },
   {
    "duration": 13,
    "start_time": "2024-01-14T17:19:46.258Z"
   },
   {
    "duration": 16,
    "start_time": "2024-01-14T17:19:46.273Z"
   },
   {
    "duration": 36,
    "start_time": "2024-01-14T17:19:46.290Z"
   },
   {
    "duration": 4,
    "start_time": "2024-01-14T17:19:46.327Z"
   },
   {
    "duration": 22,
    "start_time": "2024-01-14T17:19:46.332Z"
   },
   {
    "duration": 14,
    "start_time": "2024-01-14T17:19:46.358Z"
   },
   {
    "duration": 4,
    "start_time": "2024-01-14T17:19:46.374Z"
   },
   {
    "duration": 32,
    "start_time": "2024-01-14T17:19:46.379Z"
   },
   {
    "duration": 19,
    "start_time": "2024-01-14T17:19:46.413Z"
   },
   {
    "duration": 4,
    "start_time": "2024-01-14T17:19:46.434Z"
   },
   {
    "duration": 3,
    "start_time": "2024-01-14T17:19:46.440Z"
   },
   {
    "duration": 7,
    "start_time": "2024-01-14T17:19:46.444Z"
   },
   {
    "duration": 7,
    "start_time": "2024-01-14T17:19:46.453Z"
   },
   {
    "duration": 7,
    "start_time": "2024-01-14T17:19:46.461Z"
   },
   {
    "duration": 42,
    "start_time": "2024-01-14T17:19:46.469Z"
   },
   {
    "duration": 16,
    "start_time": "2024-01-14T17:19:46.513Z"
   },
   {
    "duration": 6,
    "start_time": "2024-01-14T17:19:46.530Z"
   },
   {
    "duration": 5,
    "start_time": "2024-01-14T17:19:46.538Z"
   },
   {
    "duration": 3,
    "start_time": "2024-01-14T17:19:46.545Z"
   },
   {
    "duration": 6,
    "start_time": "2024-01-14T17:19:46.550Z"
   },
   {
    "duration": 54,
    "start_time": "2024-01-14T17:19:46.557Z"
   },
   {
    "duration": 7,
    "start_time": "2024-01-14T17:19:46.613Z"
   },
   {
    "duration": 9,
    "start_time": "2024-01-14T17:19:46.622Z"
   },
   {
    "duration": 16,
    "start_time": "2024-01-14T17:19:46.633Z"
   },
   {
    "duration": 4,
    "start_time": "2024-01-14T17:42:30.300Z"
   },
   {
    "duration": 9,
    "start_time": "2024-01-14T17:43:35.913Z"
   },
   {
    "duration": 9,
    "start_time": "2024-01-14T17:49:57.673Z"
   },
   {
    "duration": 13,
    "start_time": "2024-01-14T17:57:22.582Z"
   },
   {
    "duration": 8,
    "start_time": "2024-01-14T17:57:47.652Z"
   },
   {
    "duration": 5,
    "start_time": "2024-01-14T17:58:01.729Z"
   },
   {
    "duration": 3,
    "start_time": "2024-01-14T17:58:09.575Z"
   },
   {
    "duration": 28,
    "start_time": "2024-01-14T18:05:45.807Z"
   },
   {
    "duration": 144,
    "start_time": "2024-01-14T18:07:27.762Z"
   },
   {
    "duration": 145,
    "start_time": "2024-01-14T18:07:38.746Z"
   },
   {
    "duration": 102,
    "start_time": "2024-01-14T18:09:16.684Z"
   },
   {
    "duration": 134,
    "start_time": "2024-01-14T18:14:14.207Z"
   },
   {
    "duration": 40,
    "start_time": "2024-01-14T18:18:36.593Z"
   },
   {
    "duration": 21,
    "start_time": "2024-01-14T18:18:41.544Z"
   },
   {
    "duration": 2,
    "start_time": "2024-01-14T18:49:03.933Z"
   },
   {
    "duration": 4,
    "start_time": "2024-01-14T18:49:40.709Z"
   },
   {
    "duration": 4,
    "start_time": "2024-01-14T18:50:33.509Z"
   },
   {
    "duration": 4,
    "start_time": "2024-01-14T18:50:36.576Z"
   },
   {
    "duration": 6,
    "start_time": "2024-01-14T18:52:12.691Z"
   },
   {
    "duration": 35,
    "start_time": "2024-01-14T18:53:52.169Z"
   },
   {
    "duration": 22,
    "start_time": "2024-01-14T18:54:14.835Z"
   },
   {
    "duration": 25,
    "start_time": "2024-01-14T18:54:42.583Z"
   },
   {
    "duration": 10,
    "start_time": "2024-01-14T18:54:46.446Z"
   },
   {
    "duration": 7,
    "start_time": "2024-01-14T18:55:20.597Z"
   },
   {
    "duration": 7,
    "start_time": "2024-01-14T18:55:21.834Z"
   },
   {
    "duration": 8,
    "start_time": "2024-01-14T18:55:23.272Z"
   },
   {
    "duration": 12,
    "start_time": "2024-01-14T19:03:29.657Z"
   },
   {
    "duration": 72,
    "start_time": "2024-01-14T19:03:38.099Z"
   },
   {
    "duration": 68,
    "start_time": "2024-01-14T19:03:42.238Z"
   },
   {
    "duration": 66,
    "start_time": "2024-01-14T19:03:46.612Z"
   },
   {
    "duration": 57,
    "start_time": "2024-01-14T19:03:52.540Z"
   },
   {
    "duration": 9,
    "start_time": "2024-01-14T19:03:56.440Z"
   },
   {
    "duration": 12,
    "start_time": "2024-01-14T19:03:59.589Z"
   },
   {
    "duration": 11,
    "start_time": "2024-01-14T19:27:20.002Z"
   },
   {
    "duration": 25,
    "start_time": "2024-01-14T19:29:04.802Z"
   },
   {
    "duration": 6,
    "start_time": "2024-01-14T19:29:20.633Z"
   },
   {
    "duration": 7,
    "start_time": "2024-01-14T19:30:30.634Z"
   },
   {
    "duration": 9,
    "start_time": "2024-01-14T19:31:20.320Z"
   },
   {
    "duration": 7,
    "start_time": "2024-01-14T19:31:22.222Z"
   },
   {
    "duration": 8,
    "start_time": "2024-01-14T19:31:54.634Z"
   },
   {
    "duration": 7,
    "start_time": "2024-01-14T19:31:58.042Z"
   },
   {
    "duration": 7,
    "start_time": "2024-01-14T19:32:08.037Z"
   },
   {
    "duration": 611,
    "start_time": "2024-01-14T19:32:20.426Z"
   },
   {
    "duration": 123,
    "start_time": "2024-01-14T19:32:21.039Z"
   },
   {
    "duration": 23,
    "start_time": "2024-01-14T19:32:21.164Z"
   },
   {
    "duration": 10,
    "start_time": "2024-01-14T19:32:21.189Z"
   },
   {
    "duration": 8,
    "start_time": "2024-01-14T19:32:21.202Z"
   },
   {
    "duration": 8,
    "start_time": "2024-01-14T19:32:21.212Z"
   },
   {
    "duration": 5,
    "start_time": "2024-01-14T19:32:21.222Z"
   },
   {
    "duration": 13,
    "start_time": "2024-01-14T19:32:21.229Z"
   },
   {
    "duration": 19,
    "start_time": "2024-01-14T19:32:21.244Z"
   },
   {
    "duration": 21,
    "start_time": "2024-01-14T19:32:21.266Z"
   },
   {
    "duration": 16,
    "start_time": "2024-01-14T19:32:21.310Z"
   },
   {
    "duration": 4,
    "start_time": "2024-01-14T19:32:21.328Z"
   },
   {
    "duration": 21,
    "start_time": "2024-01-14T19:32:21.333Z"
   },
   {
    "duration": 16,
    "start_time": "2024-01-14T19:32:21.357Z"
   },
   {
    "duration": 2,
    "start_time": "2024-01-14T19:32:21.375Z"
   },
   {
    "duration": 5,
    "start_time": "2024-01-14T19:32:21.412Z"
   },
   {
    "duration": 26,
    "start_time": "2024-01-14T19:32:21.419Z"
   },
   {
    "duration": 5,
    "start_time": "2024-01-14T19:32:21.447Z"
   },
   {
    "duration": 22,
    "start_time": "2024-01-14T19:32:21.454Z"
   },
   {
    "duration": 32,
    "start_time": "2024-01-14T19:32:21.478Z"
   },
   {
    "duration": 12,
    "start_time": "2024-01-14T19:32:21.511Z"
   },
   {
    "duration": 9,
    "start_time": "2024-01-14T19:32:21.524Z"
   },
   {
    "duration": 8,
    "start_time": "2024-01-14T19:32:21.535Z"
   },
   {
    "duration": 15,
    "start_time": "2024-01-14T19:32:21.545Z"
   },
   {
    "duration": 7,
    "start_time": "2024-01-14T19:32:21.562Z"
   },
   {
    "duration": 20,
    "start_time": "2024-01-14T19:32:21.571Z"
   },
   {
    "duration": 10,
    "start_time": "2024-01-14T19:32:21.593Z"
   },
   {
    "duration": 7,
    "start_time": "2024-01-14T19:32:21.612Z"
   },
   {
    "duration": 9,
    "start_time": "2024-01-14T19:32:21.621Z"
   },
   {
    "duration": 11,
    "start_time": "2024-01-14T19:32:21.631Z"
   },
   {
    "duration": 28,
    "start_time": "2024-01-14T19:32:21.644Z"
   },
   {
    "duration": 13,
    "start_time": "2024-01-14T19:32:21.673Z"
   },
   {
    "duration": 6,
    "start_time": "2024-01-14T19:32:21.687Z"
   },
   {
    "duration": 8,
    "start_time": "2024-01-14T19:32:21.695Z"
   },
   {
    "duration": 11,
    "start_time": "2024-01-14T19:32:21.711Z"
   },
   {
    "duration": 9,
    "start_time": "2024-01-14T19:32:21.723Z"
   },
   {
    "duration": 2,
    "start_time": "2024-01-14T19:32:21.733Z"
   },
   {
    "duration": 9,
    "start_time": "2024-01-14T19:32:21.736Z"
   },
   {
    "duration": 5,
    "start_time": "2024-01-14T19:32:21.747Z"
   },
   {
    "duration": 10,
    "start_time": "2024-01-14T19:32:21.754Z"
   },
   {
    "duration": 8,
    "start_time": "2024-01-14T20:02:08.217Z"
   },
   {
    "duration": 66,
    "start_time": "2024-01-14T21:17:13.530Z"
   },
   {
    "duration": 11,
    "start_time": "2024-01-14T21:17:28.341Z"
   },
   {
    "duration": 13,
    "start_time": "2024-01-14T21:17:35.161Z"
   },
   {
    "duration": 14,
    "start_time": "2024-01-14T21:23:42.180Z"
   },
   {
    "duration": 5,
    "start_time": "2024-01-14T21:23:51.388Z"
   },
   {
    "duration": 4,
    "start_time": "2024-01-14T21:23:56.488Z"
   },
   {
    "duration": 3,
    "start_time": "2024-01-14T21:27:49.343Z"
   },
   {
    "duration": 4,
    "start_time": "2024-01-14T21:27:52.345Z"
   },
   {
    "duration": 18,
    "start_time": "2024-01-14T22:22:48.550Z"
   },
   {
    "duration": 11,
    "start_time": "2024-01-14T22:31:24.525Z"
   },
   {
    "duration": 4,
    "start_time": "2024-01-14T22:31:59.518Z"
   },
   {
    "duration": 17,
    "start_time": "2024-01-14T22:32:15.938Z"
   },
   {
    "duration": 11,
    "start_time": "2024-01-14T22:39:10.561Z"
   },
   {
    "duration": 7,
    "start_time": "2024-01-14T22:39:51.080Z"
   },
   {
    "duration": 9,
    "start_time": "2024-01-14T22:40:02.734Z"
   },
   {
    "duration": 11,
    "start_time": "2024-01-14T22:40:18.698Z"
   },
   {
    "duration": 15,
    "start_time": "2024-01-14T22:40:29.286Z"
   },
   {
    "duration": 172,
    "start_time": "2024-01-14T22:42:36.235Z"
   },
   {
    "duration": 141,
    "start_time": "2024-01-14T22:42:45.978Z"
   },
   {
    "duration": 12,
    "start_time": "2024-01-14T22:43:23.973Z"
   },
   {
    "duration": 12,
    "start_time": "2024-01-14T22:43:32.262Z"
   },
   {
    "duration": 131,
    "start_time": "2024-01-14T22:44:16.484Z"
   },
   {
    "duration": 16,
    "start_time": "2024-01-14T22:46:19.603Z"
   },
   {
    "duration": 14,
    "start_time": "2024-01-14T22:46:58.115Z"
   },
   {
    "duration": 14,
    "start_time": "2024-01-14T22:51:05.808Z"
   },
   {
    "duration": 13,
    "start_time": "2024-01-14T22:51:30.390Z"
   },
   {
    "duration": 133,
    "start_time": "2024-01-14T22:52:44.420Z"
   },
   {
    "duration": 3,
    "start_time": "2024-01-14T22:59:20.094Z"
   },
   {
    "duration": 12,
    "start_time": "2024-01-14T23:00:11.774Z"
   },
   {
    "duration": 13,
    "start_time": "2024-01-14T23:00:13.913Z"
   },
   {
    "duration": 14,
    "start_time": "2024-01-14T23:00:45.641Z"
   },
   {
    "duration": 188,
    "start_time": "2024-01-14T23:00:48.726Z"
   },
   {
    "duration": 14,
    "start_time": "2024-01-14T23:01:04.452Z"
   },
   {
    "duration": 14,
    "start_time": "2024-01-14T23:01:35.783Z"
   },
   {
    "duration": 13,
    "start_time": "2024-01-14T23:09:18.600Z"
   },
   {
    "duration": 128,
    "start_time": "2024-01-14T23:09:22.401Z"
   },
   {
    "duration": 7,
    "start_time": "2024-01-14T23:29:17.266Z"
   },
   {
    "duration": 6,
    "start_time": "2024-01-14T23:29:19.094Z"
   },
   {
    "duration": 19,
    "start_time": "2024-01-14T23:30:36.218Z"
   },
   {
    "duration": 18,
    "start_time": "2024-01-14T23:31:07.690Z"
   },
   {
    "duration": 19,
    "start_time": "2024-01-15T00:19:05.144Z"
   },
   {
    "duration": 26,
    "start_time": "2024-01-15T00:29:43.589Z"
   },
   {
    "duration": 3,
    "start_time": "2024-01-15T00:32:16.826Z"
   },
   {
    "duration": 7,
    "start_time": "2024-01-15T00:32:34.679Z"
   },
   {
    "duration": 603,
    "start_time": "2024-01-15T00:34:30.472Z"
   },
   {
    "duration": 123,
    "start_time": "2024-01-15T00:34:31.077Z"
   },
   {
    "duration": 15,
    "start_time": "2024-01-15T00:34:31.201Z"
   },
   {
    "duration": 45,
    "start_time": "2024-01-15T00:34:31.218Z"
   },
   {
    "duration": 51,
    "start_time": "2024-01-15T00:34:31.266Z"
   },
   {
    "duration": 25,
    "start_time": "2024-01-15T00:34:31.319Z"
   },
   {
    "duration": 24,
    "start_time": "2024-01-15T00:34:31.345Z"
   },
   {
    "duration": 48,
    "start_time": "2024-01-15T00:34:31.371Z"
   },
   {
    "duration": 70,
    "start_time": "2024-01-15T00:34:31.420Z"
   },
   {
    "duration": 53,
    "start_time": "2024-01-15T00:34:31.492Z"
   },
   {
    "duration": 44,
    "start_time": "2024-01-15T00:34:31.547Z"
   },
   {
    "duration": 38,
    "start_time": "2024-01-15T00:34:31.593Z"
   },
   {
    "duration": 59,
    "start_time": "2024-01-15T00:34:31.633Z"
   },
   {
    "duration": 58,
    "start_time": "2024-01-15T00:34:31.695Z"
   },
   {
    "duration": 17,
    "start_time": "2024-01-15T00:34:31.755Z"
   },
   {
    "duration": 14,
    "start_time": "2024-01-15T00:34:31.773Z"
   },
   {
    "duration": 22,
    "start_time": "2024-01-15T00:34:31.788Z"
   },
   {
    "duration": 4,
    "start_time": "2024-01-15T00:34:31.811Z"
   },
   {
    "duration": 29,
    "start_time": "2024-01-15T00:34:31.816Z"
   },
   {
    "duration": 21,
    "start_time": "2024-01-15T00:34:31.846Z"
   },
   {
    "duration": 24,
    "start_time": "2024-01-15T00:34:31.868Z"
   },
   {
    "duration": 17,
    "start_time": "2024-01-15T00:34:31.894Z"
   },
   {
    "duration": 55,
    "start_time": "2024-01-15T00:34:31.913Z"
   },
   {
    "duration": 44,
    "start_time": "2024-01-15T00:34:31.970Z"
   },
   {
    "duration": 19,
    "start_time": "2024-01-15T00:34:32.016Z"
   },
   {
    "duration": 25,
    "start_time": "2024-01-15T00:34:32.037Z"
   },
   {
    "duration": 2,
    "start_time": "2024-01-15T00:34:32.064Z"
   },
   {
    "duration": 15,
    "start_time": "2024-01-15T00:34:32.067Z"
   },
   {
    "duration": 10,
    "start_time": "2024-01-15T00:34:32.083Z"
   },
   {
    "duration": 10,
    "start_time": "2024-01-15T00:34:32.095Z"
   },
   {
    "duration": 8,
    "start_time": "2024-01-15T00:34:32.107Z"
   },
   {
    "duration": 11,
    "start_time": "2024-01-15T00:34:32.116Z"
   },
   {
    "duration": 5,
    "start_time": "2024-01-15T00:34:32.128Z"
   },
   {
    "duration": 8,
    "start_time": "2024-01-15T00:34:32.134Z"
   },
   {
    "duration": 14,
    "start_time": "2024-01-15T00:34:32.144Z"
   },
   {
    "duration": 8,
    "start_time": "2024-01-15T00:34:32.159Z"
   },
   {
    "duration": 2,
    "start_time": "2024-01-15T00:34:32.168Z"
   },
   {
    "duration": 6,
    "start_time": "2024-01-15T00:34:32.171Z"
   },
   {
    "duration": 39,
    "start_time": "2024-01-15T00:34:32.178Z"
   },
   {
    "duration": 14,
    "start_time": "2024-01-15T00:34:32.219Z"
   },
   {
    "duration": 168,
    "start_time": "2024-01-15T00:34:32.238Z"
   },
   {
    "duration": 17,
    "start_time": "2024-01-15T00:34:32.407Z"
   },
   {
    "duration": 168,
    "start_time": "2024-01-15T00:34:32.426Z"
   },
   {
    "duration": 21,
    "start_time": "2024-01-15T00:34:32.595Z"
   },
   {
    "duration": 142,
    "start_time": "2024-01-15T00:34:32.618Z"
   },
   {
    "duration": 11,
    "start_time": "2024-01-15T00:34:32.762Z"
   },
   {
    "duration": 10,
    "start_time": "2024-01-15T00:34:32.775Z"
   },
   {
    "duration": 24,
    "start_time": "2024-01-15T00:34:32.787Z"
   },
   {
    "duration": 17,
    "start_time": "2024-01-15T00:34:32.812Z"
   },
   {
    "duration": 15,
    "start_time": "2024-01-15T00:34:32.831Z"
   },
   {
    "duration": 45,
    "start_time": "2024-01-15T16:42:02.085Z"
   },
   {
    "duration": 785,
    "start_time": "2024-01-15T16:42:12.025Z"
   },
   {
    "duration": 257,
    "start_time": "2024-01-15T16:42:12.812Z"
   },
   {
    "duration": 16,
    "start_time": "2024-01-15T16:42:13.071Z"
   },
   {
    "duration": 10,
    "start_time": "2024-01-15T16:42:13.089Z"
   },
   {
    "duration": 11,
    "start_time": "2024-01-15T16:42:13.101Z"
   },
   {
    "duration": 5,
    "start_time": "2024-01-15T16:42:13.114Z"
   },
   {
    "duration": 8,
    "start_time": "2024-01-15T16:42:13.120Z"
   },
   {
    "duration": 4,
    "start_time": "2024-01-15T16:42:13.129Z"
   },
   {
    "duration": 11,
    "start_time": "2024-01-15T16:42:13.135Z"
   },
   {
    "duration": 16,
    "start_time": "2024-01-15T16:42:13.148Z"
   },
   {
    "duration": 16,
    "start_time": "2024-01-15T16:42:13.165Z"
   },
   {
    "duration": 4,
    "start_time": "2024-01-15T16:42:13.183Z"
   },
   {
    "duration": 18,
    "start_time": "2024-01-15T16:42:13.189Z"
   },
   {
    "duration": 34,
    "start_time": "2024-01-15T16:42:13.210Z"
   },
   {
    "duration": 3,
    "start_time": "2024-01-15T16:42:13.245Z"
   },
   {
    "duration": 18,
    "start_time": "2024-01-15T16:42:13.249Z"
   },
   {
    "duration": 21,
    "start_time": "2024-01-15T16:42:13.269Z"
   },
   {
    "duration": 4,
    "start_time": "2024-01-15T16:42:13.291Z"
   },
   {
    "duration": 13,
    "start_time": "2024-01-15T16:42:13.296Z"
   },
   {
    "duration": 5,
    "start_time": "2024-01-15T16:42:13.310Z"
   },
   {
    "duration": 6,
    "start_time": "2024-01-15T16:42:13.316Z"
   },
   {
    "duration": 23,
    "start_time": "2024-01-15T16:42:13.323Z"
   },
   {
    "duration": 8,
    "start_time": "2024-01-15T16:42:13.347Z"
   },
   {
    "duration": 26,
    "start_time": "2024-01-15T16:42:13.356Z"
   },
   {
    "duration": 5,
    "start_time": "2024-01-15T16:42:13.383Z"
   },
   {
    "duration": 4,
    "start_time": "2024-01-15T16:42:13.390Z"
   },
   {
    "duration": 2,
    "start_time": "2024-01-15T16:42:13.396Z"
   },
   {
    "duration": 9,
    "start_time": "2024-01-15T16:42:13.399Z"
   },
   {
    "duration": 33,
    "start_time": "2024-01-15T16:42:13.409Z"
   },
   {
    "duration": 4,
    "start_time": "2024-01-15T16:42:13.444Z"
   },
   {
    "duration": 13,
    "start_time": "2024-01-15T16:42:13.449Z"
   },
   {
    "duration": 9,
    "start_time": "2024-01-15T16:42:13.463Z"
   },
   {
    "duration": 4,
    "start_time": "2024-01-15T16:42:13.474Z"
   },
   {
    "duration": 18,
    "start_time": "2024-01-15T16:42:13.479Z"
   },
   {
    "duration": 10,
    "start_time": "2024-01-15T16:42:13.498Z"
   },
   {
    "duration": 7,
    "start_time": "2024-01-15T16:42:13.509Z"
   },
   {
    "duration": 25,
    "start_time": "2024-01-15T16:42:13.517Z"
   },
   {
    "duration": 4,
    "start_time": "2024-01-15T16:42:13.544Z"
   },
   {
    "duration": 3,
    "start_time": "2024-01-15T16:42:13.550Z"
   },
   {
    "duration": 17,
    "start_time": "2024-01-15T16:42:13.554Z"
   },
   {
    "duration": 153,
    "start_time": "2024-01-15T16:42:13.574Z"
   },
   {
    "duration": 20,
    "start_time": "2024-01-15T16:42:13.729Z"
   },
   {
    "duration": 160,
    "start_time": "2024-01-15T16:42:13.750Z"
   },
   {
    "duration": 13,
    "start_time": "2024-01-15T16:42:13.912Z"
   },
   {
    "duration": 160,
    "start_time": "2024-01-15T16:42:13.926Z"
   },
   {
    "duration": 12,
    "start_time": "2024-01-15T16:42:14.087Z"
   },
   {
    "duration": 20,
    "start_time": "2024-01-15T16:42:14.100Z"
   },
   {
    "duration": 6,
    "start_time": "2024-01-15T16:42:14.121Z"
   },
   {
    "duration": 75,
    "start_time": "2024-01-15T16:42:14.128Z"
   },
   {
    "duration": 1316,
    "start_time": "2024-01-15T16:42:14.205Z"
   },
   {
    "duration": 3,
    "start_time": "2024-01-15T16:42:20.711Z"
   },
   {
    "duration": 12,
    "start_time": "2024-01-15T16:43:36.409Z"
   },
   {
    "duration": 20,
    "start_time": "2024-01-15T16:44:12.802Z"
   },
   {
    "duration": 15,
    "start_time": "2024-01-15T16:45:40.336Z"
   },
   {
    "duration": 145,
    "start_time": "2024-01-15T16:45:46.192Z"
   },
   {
    "duration": 5,
    "start_time": "2024-01-15T16:59:15.468Z"
   },
   {
    "duration": 15,
    "start_time": "2024-01-15T17:01:58.812Z"
   },
   {
    "duration": 14,
    "start_time": "2024-01-15T17:02:12.987Z"
   },
   {
    "duration": 13,
    "start_time": "2024-01-15T17:02:19.243Z"
   },
   {
    "duration": 13,
    "start_time": "2024-01-15T17:02:45.375Z"
   },
   {
    "duration": 13,
    "start_time": "2024-01-15T17:02:49.558Z"
   },
   {
    "duration": 13,
    "start_time": "2024-01-15T17:04:36.069Z"
   },
   {
    "duration": 12,
    "start_time": "2024-01-15T17:05:24.659Z"
   },
   {
    "duration": 11,
    "start_time": "2024-01-15T17:07:39.004Z"
   },
   {
    "duration": 16,
    "start_time": "2024-01-15T17:07:57.641Z"
   },
   {
    "duration": 12,
    "start_time": "2024-01-15T17:08:17.081Z"
   },
   {
    "duration": 13,
    "start_time": "2024-01-15T17:08:20.826Z"
   },
   {
    "duration": 5,
    "start_time": "2024-01-15T17:23:50.950Z"
   },
   {
    "duration": 79,
    "start_time": "2024-01-15T17:31:59.967Z"
   },
   {
    "duration": 38,
    "start_time": "2024-01-15T17:32:05.447Z"
   },
   {
    "duration": 25,
    "start_time": "2024-01-15T17:33:27.572Z"
   },
   {
    "duration": 19,
    "start_time": "2024-01-15T17:33:36.964Z"
   },
   {
    "duration": 20,
    "start_time": "2024-01-15T17:34:39.026Z"
   },
   {
    "duration": 11,
    "start_time": "2024-01-15T17:35:11.641Z"
   },
   {
    "duration": 17,
    "start_time": "2024-01-15T17:35:26.587Z"
   },
   {
    "duration": 21,
    "start_time": "2024-01-15T17:36:08.324Z"
   },
   {
    "duration": 21,
    "start_time": "2024-01-15T17:36:13.561Z"
   },
   {
    "duration": 20,
    "start_time": "2024-01-15T17:38:50.034Z"
   },
   {
    "duration": 12,
    "start_time": "2024-01-15T17:41:26.985Z"
   },
   {
    "duration": 19,
    "start_time": "2024-01-15T17:41:50.032Z"
   },
   {
    "duration": 19,
    "start_time": "2024-01-15T17:42:47.160Z"
   },
   {
    "duration": 14,
    "start_time": "2024-01-15T17:43:06.329Z"
   },
   {
    "duration": 20,
    "start_time": "2024-01-15T17:43:13.337Z"
   },
   {
    "duration": 71,
    "start_time": "2024-01-15T17:44:41.379Z"
   },
   {
    "duration": 20,
    "start_time": "2024-01-15T17:55:35.150Z"
   },
   {
    "duration": 38,
    "start_time": "2024-01-15T17:56:57.173Z"
   },
   {
    "duration": 22,
    "start_time": "2024-01-15T17:57:36.675Z"
   },
   {
    "duration": 21,
    "start_time": "2024-01-15T17:57:48.106Z"
   },
   {
    "duration": 14,
    "start_time": "2024-01-15T17:58:51.066Z"
   },
   {
    "duration": 14,
    "start_time": "2024-01-15T17:59:24.696Z"
   },
   {
    "duration": 14,
    "start_time": "2024-01-15T18:01:44.868Z"
   },
   {
    "duration": 8,
    "start_time": "2024-01-15T18:22:32.063Z"
   },
   {
    "duration": 11,
    "start_time": "2024-01-15T18:24:33.212Z"
   },
   {
    "duration": 12,
    "start_time": "2024-01-15T18:26:07.076Z"
   },
   {
    "duration": 11,
    "start_time": "2024-01-15T18:27:20.647Z"
   },
   {
    "duration": 34,
    "start_time": "2024-01-15T18:28:22.167Z"
   },
   {
    "duration": 38,
    "start_time": "2024-01-15T18:29:56.132Z"
   },
   {
    "duration": 1217,
    "start_time": "2024-01-15T18:35:26.368Z"
   },
   {
    "duration": 306,
    "start_time": "2024-01-15T18:41:02.352Z"
   },
   {
    "duration": 586,
    "start_time": "2024-01-15T18:41:15.286Z"
   },
   {
    "duration": 118,
    "start_time": "2024-01-15T18:41:15.873Z"
   },
   {
    "duration": 14,
    "start_time": "2024-01-15T18:41:15.993Z"
   },
   {
    "duration": 16,
    "start_time": "2024-01-15T18:41:16.009Z"
   },
   {
    "duration": 23,
    "start_time": "2024-01-15T18:41:16.027Z"
   },
   {
    "duration": 19,
    "start_time": "2024-01-15T18:41:16.052Z"
   },
   {
    "duration": 19,
    "start_time": "2024-01-15T18:41:16.072Z"
   },
   {
    "duration": 26,
    "start_time": "2024-01-15T18:41:16.093Z"
   },
   {
    "duration": 29,
    "start_time": "2024-01-15T18:41:16.120Z"
   },
   {
    "duration": 27,
    "start_time": "2024-01-15T18:41:16.151Z"
   },
   {
    "duration": 14,
    "start_time": "2024-01-15T18:41:16.179Z"
   },
   {
    "duration": 23,
    "start_time": "2024-01-15T18:41:16.194Z"
   },
   {
    "duration": 43,
    "start_time": "2024-01-15T18:41:16.218Z"
   },
   {
    "duration": 20,
    "start_time": "2024-01-15T18:41:16.262Z"
   },
   {
    "duration": 24,
    "start_time": "2024-01-15T18:41:16.283Z"
   },
   {
    "duration": 42,
    "start_time": "2024-01-15T18:41:16.309Z"
   },
   {
    "duration": 37,
    "start_time": "2024-01-15T18:41:16.352Z"
   },
   {
    "duration": 21,
    "start_time": "2024-01-15T18:41:16.391Z"
   },
   {
    "duration": 24,
    "start_time": "2024-01-15T18:41:16.414Z"
   },
   {
    "duration": 34,
    "start_time": "2024-01-15T18:41:16.439Z"
   },
   {
    "duration": 22,
    "start_time": "2024-01-15T18:41:16.474Z"
   },
   {
    "duration": 28,
    "start_time": "2024-01-15T18:41:16.497Z"
   },
   {
    "duration": 51,
    "start_time": "2024-01-15T18:41:16.526Z"
   },
   {
    "duration": 33,
    "start_time": "2024-01-15T18:41:16.579Z"
   },
   {
    "duration": 42,
    "start_time": "2024-01-15T18:41:16.614Z"
   },
   {
    "duration": 26,
    "start_time": "2024-01-15T18:41:16.658Z"
   },
   {
    "duration": 30,
    "start_time": "2024-01-15T18:41:16.685Z"
   },
   {
    "duration": 24,
    "start_time": "2024-01-15T18:41:16.719Z"
   },
   {
    "duration": 28,
    "start_time": "2024-01-15T18:41:16.744Z"
   },
   {
    "duration": 25,
    "start_time": "2024-01-15T18:41:16.773Z"
   },
   {
    "duration": 30,
    "start_time": "2024-01-15T18:41:16.800Z"
   },
   {
    "duration": 29,
    "start_time": "2024-01-15T18:41:16.832Z"
   },
   {
    "duration": 55,
    "start_time": "2024-01-15T18:41:16.863Z"
   },
   {
    "duration": 28,
    "start_time": "2024-01-15T18:41:16.919Z"
   },
   {
    "duration": 25,
    "start_time": "2024-01-15T18:41:16.949Z"
   },
   {
    "duration": 21,
    "start_time": "2024-01-15T18:41:16.976Z"
   },
   {
    "duration": 25,
    "start_time": "2024-01-15T18:41:16.998Z"
   },
   {
    "duration": 24,
    "start_time": "2024-01-15T18:41:17.024Z"
   },
   {
    "duration": 369,
    "start_time": "2024-01-15T18:41:17.050Z"
   },
   {
    "duration": 0,
    "start_time": "2024-01-15T18:41:17.421Z"
   },
   {
    "duration": 0,
    "start_time": "2024-01-15T18:41:17.422Z"
   },
   {
    "duration": 0,
    "start_time": "2024-01-15T18:41:17.423Z"
   },
   {
    "duration": 0,
    "start_time": "2024-01-15T18:41:17.424Z"
   },
   {
    "duration": 0,
    "start_time": "2024-01-15T18:41:17.425Z"
   },
   {
    "duration": 0,
    "start_time": "2024-01-15T18:41:17.426Z"
   },
   {
    "duration": 0,
    "start_time": "2024-01-15T18:41:17.427Z"
   },
   {
    "duration": 0,
    "start_time": "2024-01-15T18:41:17.428Z"
   },
   {
    "duration": 0,
    "start_time": "2024-01-15T18:41:17.429Z"
   },
   {
    "duration": 0,
    "start_time": "2024-01-15T18:41:17.430Z"
   },
   {
    "duration": 0,
    "start_time": "2024-01-15T18:41:17.430Z"
   },
   {
    "duration": 0,
    "start_time": "2024-01-15T18:41:17.432Z"
   },
   {
    "duration": 0,
    "start_time": "2024-01-15T18:41:17.433Z"
   },
   {
    "duration": 0,
    "start_time": "2024-01-15T18:41:17.434Z"
   },
   {
    "duration": 0,
    "start_time": "2024-01-15T18:41:17.435Z"
   },
   {
    "duration": 0,
    "start_time": "2024-01-15T18:41:17.436Z"
   },
   {
    "duration": 0,
    "start_time": "2024-01-15T18:41:17.437Z"
   },
   {
    "duration": 293,
    "start_time": "2024-01-15T18:43:02.757Z"
   },
   {
    "duration": 307,
    "start_time": "2024-01-15T18:43:13.818Z"
   },
   {
    "duration": 88,
    "start_time": "2024-01-15T18:43:28.891Z"
   },
   {
    "duration": 12,
    "start_time": "2024-01-15T18:43:32.468Z"
   },
   {
    "duration": 19,
    "start_time": "2024-01-15T18:43:41.184Z"
   },
   {
    "duration": 14,
    "start_time": "2024-01-15T18:46:25.153Z"
   },
   {
    "duration": 4,
    "start_time": "2024-01-15T18:47:27.504Z"
   },
   {
    "duration": 628,
    "start_time": "2024-01-15T18:47:35.850Z"
   },
   {
    "duration": 121,
    "start_time": "2024-01-15T18:47:36.480Z"
   },
   {
    "duration": 15,
    "start_time": "2024-01-15T18:47:36.603Z"
   },
   {
    "duration": 15,
    "start_time": "2024-01-15T18:47:36.619Z"
   },
   {
    "duration": 9,
    "start_time": "2024-01-15T18:47:36.636Z"
   },
   {
    "duration": 14,
    "start_time": "2024-01-15T18:47:36.646Z"
   },
   {
    "duration": 8,
    "start_time": "2024-01-15T18:47:36.662Z"
   },
   {
    "duration": 12,
    "start_time": "2024-01-15T18:47:36.672Z"
   },
   {
    "duration": 23,
    "start_time": "2024-01-15T18:47:36.685Z"
   },
   {
    "duration": 25,
    "start_time": "2024-01-15T18:47:36.710Z"
   },
   {
    "duration": 19,
    "start_time": "2024-01-15T18:47:36.737Z"
   },
   {
    "duration": 4,
    "start_time": "2024-01-15T18:47:36.758Z"
   },
   {
    "duration": 25,
    "start_time": "2024-01-15T18:47:36.764Z"
   },
   {
    "duration": 14,
    "start_time": "2024-01-15T18:47:36.792Z"
   },
   {
    "duration": 3,
    "start_time": "2024-01-15T18:47:36.807Z"
   },
   {
    "duration": 7,
    "start_time": "2024-01-15T18:47:36.812Z"
   },
   {
    "duration": 40,
    "start_time": "2024-01-15T18:47:36.821Z"
   },
   {
    "duration": 5,
    "start_time": "2024-01-15T18:47:36.862Z"
   },
   {
    "duration": 23,
    "start_time": "2024-01-15T18:47:36.868Z"
   },
   {
    "duration": 41,
    "start_time": "2024-01-15T18:47:36.892Z"
   },
   {
    "duration": 19,
    "start_time": "2024-01-15T18:47:36.935Z"
   },
   {
    "duration": 21,
    "start_time": "2024-01-15T18:47:36.956Z"
   },
   {
    "duration": 25,
    "start_time": "2024-01-15T18:47:36.979Z"
   },
   {
    "duration": 16,
    "start_time": "2024-01-15T18:47:37.005Z"
   },
   {
    "duration": 9,
    "start_time": "2024-01-15T18:47:37.022Z"
   },
   {
    "duration": 8,
    "start_time": "2024-01-15T18:47:37.033Z"
   },
   {
    "duration": 15,
    "start_time": "2024-01-15T18:47:37.042Z"
   },
   {
    "duration": 12,
    "start_time": "2024-01-15T18:47:37.059Z"
   },
   {
    "duration": 8,
    "start_time": "2024-01-15T18:47:37.073Z"
   },
   {
    "duration": 15,
    "start_time": "2024-01-15T18:47:37.084Z"
   },
   {
    "duration": 14,
    "start_time": "2024-01-15T18:47:37.100Z"
   },
   {
    "duration": 14,
    "start_time": "2024-01-15T18:47:37.115Z"
   },
   {
    "duration": 10,
    "start_time": "2024-01-15T18:47:37.131Z"
   },
   {
    "duration": 12,
    "start_time": "2024-01-15T18:47:37.142Z"
   },
   {
    "duration": 23,
    "start_time": "2024-01-15T18:47:37.156Z"
   },
   {
    "duration": 18,
    "start_time": "2024-01-15T18:47:37.180Z"
   },
   {
    "duration": 3,
    "start_time": "2024-01-15T18:47:37.199Z"
   },
   {
    "duration": 17,
    "start_time": "2024-01-15T18:47:37.204Z"
   },
   {
    "duration": 14,
    "start_time": "2024-01-15T18:47:37.222Z"
   },
   {
    "duration": 13,
    "start_time": "2024-01-15T18:47:37.238Z"
   },
   {
    "duration": 33,
    "start_time": "2024-01-15T18:47:37.254Z"
   },
   {
    "duration": 16,
    "start_time": "2024-01-15T18:47:37.289Z"
   },
   {
    "duration": 6,
    "start_time": "2024-01-15T18:47:37.307Z"
   },
   {
    "duration": 31,
    "start_time": "2024-01-15T18:47:37.314Z"
   },
   {
    "duration": 182,
    "start_time": "2024-01-15T18:47:37.347Z"
   },
   {
    "duration": 21,
    "start_time": "2024-01-15T18:47:37.531Z"
   },
   {
    "duration": 157,
    "start_time": "2024-01-15T18:47:37.554Z"
   },
   {
    "duration": 30,
    "start_time": "2024-01-15T18:47:37.713Z"
   },
   {
    "duration": 168,
    "start_time": "2024-01-15T18:47:37.745Z"
   },
   {
    "duration": 16,
    "start_time": "2024-01-15T18:47:37.914Z"
   },
   {
    "duration": 22,
    "start_time": "2024-01-15T18:47:37.932Z"
   },
   {
    "duration": 9,
    "start_time": "2024-01-15T18:47:37.956Z"
   },
   {
    "duration": 26,
    "start_time": "2024-01-15T18:47:37.966Z"
   },
   {
    "duration": 19,
    "start_time": "2024-01-15T18:47:37.993Z"
   },
   {
    "duration": 162,
    "start_time": "2024-01-15T18:47:38.014Z"
   },
   {
    "duration": 15,
    "start_time": "2024-01-15T18:47:38.178Z"
   },
   {
    "duration": 160,
    "start_time": "2024-01-15T18:47:38.195Z"
   },
   {
    "duration": 24,
    "start_time": "2024-01-15T18:47:38.356Z"
   },
   {
    "duration": 16,
    "start_time": "2024-01-15T18:47:38.382Z"
   },
   {
    "duration": 715,
    "start_time": "2024-01-15T20:35:34.307Z"
   },
   {
    "duration": 333,
    "start_time": "2024-01-15T20:35:35.024Z"
   },
   {
    "duration": 16,
    "start_time": "2024-01-15T20:35:35.359Z"
   },
   {
    "duration": 9,
    "start_time": "2024-01-15T20:35:35.377Z"
   },
   {
    "duration": 9,
    "start_time": "2024-01-15T20:35:35.387Z"
   },
   {
    "duration": 6,
    "start_time": "2024-01-15T20:35:35.397Z"
   },
   {
    "duration": 5,
    "start_time": "2024-01-15T20:35:35.404Z"
   },
   {
    "duration": 4,
    "start_time": "2024-01-15T20:35:35.411Z"
   },
   {
    "duration": 41,
    "start_time": "2024-01-15T20:35:35.416Z"
   },
   {
    "duration": 18,
    "start_time": "2024-01-15T20:35:35.461Z"
   },
   {
    "duration": 16,
    "start_time": "2024-01-15T20:35:35.480Z"
   },
   {
    "duration": 3,
    "start_time": "2024-01-15T20:35:35.498Z"
   },
   {
    "duration": 14,
    "start_time": "2024-01-15T20:35:35.502Z"
   },
   {
    "duration": 41,
    "start_time": "2024-01-15T20:35:35.518Z"
   },
   {
    "duration": 2,
    "start_time": "2024-01-15T20:35:35.561Z"
   },
   {
    "duration": 5,
    "start_time": "2024-01-15T20:35:35.565Z"
   },
   {
    "duration": 19,
    "start_time": "2024-01-15T20:35:35.571Z"
   },
   {
    "duration": 4,
    "start_time": "2024-01-15T20:35:35.591Z"
   },
   {
    "duration": 4,
    "start_time": "2024-01-15T20:35:35.596Z"
   },
   {
    "duration": 4,
    "start_time": "2024-01-15T20:35:35.601Z"
   },
   {
    "duration": 5,
    "start_time": "2024-01-15T20:35:35.606Z"
   },
   {
    "duration": 5,
    "start_time": "2024-01-15T20:35:35.612Z"
   },
   {
    "duration": 7,
    "start_time": "2024-01-15T20:35:35.656Z"
   },
   {
    "duration": 11,
    "start_time": "2024-01-15T20:35:35.665Z"
   },
   {
    "duration": 7,
    "start_time": "2024-01-15T20:35:35.678Z"
   },
   {
    "duration": 5,
    "start_time": "2024-01-15T20:35:35.687Z"
   },
   {
    "duration": 2,
    "start_time": "2024-01-15T20:35:35.693Z"
   },
   {
    "duration": 4,
    "start_time": "2024-01-15T20:35:35.699Z"
   },
   {
    "duration": 6,
    "start_time": "2024-01-15T20:35:35.705Z"
   },
   {
    "duration": 45,
    "start_time": "2024-01-15T20:35:35.712Z"
   },
   {
    "duration": 9,
    "start_time": "2024-01-15T20:35:35.758Z"
   },
   {
    "duration": 12,
    "start_time": "2024-01-15T20:35:35.768Z"
   },
   {
    "duration": 5,
    "start_time": "2024-01-15T20:35:35.781Z"
   },
   {
    "duration": 7,
    "start_time": "2024-01-15T20:35:35.787Z"
   },
   {
    "duration": 10,
    "start_time": "2024-01-15T20:35:35.795Z"
   },
   {
    "duration": 8,
    "start_time": "2024-01-15T20:35:35.806Z"
   },
   {
    "duration": 2,
    "start_time": "2024-01-15T20:35:35.815Z"
   },
   {
    "duration": 40,
    "start_time": "2024-01-15T20:35:35.818Z"
   },
   {
    "duration": 12,
    "start_time": "2024-01-15T20:35:35.859Z"
   },
   {
    "duration": 16,
    "start_time": "2024-01-15T20:35:35.872Z"
   },
   {
    "duration": 4,
    "start_time": "2024-01-15T20:35:35.890Z"
   },
   {
    "duration": 14,
    "start_time": "2024-01-15T20:35:35.895Z"
   },
   {
    "duration": 176,
    "start_time": "2024-01-15T20:35:35.910Z"
   },
   {
    "duration": 16,
    "start_time": "2024-01-15T20:35:36.087Z"
   },
   {
    "duration": 158,
    "start_time": "2024-01-15T20:35:36.104Z"
   },
   {
    "duration": 13,
    "start_time": "2024-01-15T20:35:36.264Z"
   },
   {
    "duration": 143,
    "start_time": "2024-01-15T20:35:36.279Z"
   },
   {
    "duration": 12,
    "start_time": "2024-01-15T20:35:36.423Z"
   },
   {
    "duration": 31,
    "start_time": "2024-01-15T20:35:36.437Z"
   },
   {
    "duration": 30,
    "start_time": "2024-01-15T20:35:36.469Z"
   },
   {
    "duration": 42,
    "start_time": "2024-01-15T20:35:36.501Z"
   },
   {
    "duration": 32,
    "start_time": "2024-01-15T20:35:36.545Z"
   },
   {
    "duration": 154,
    "start_time": "2024-01-15T20:35:36.579Z"
   },
   {
    "duration": 12,
    "start_time": "2024-01-15T20:35:36.735Z"
   },
   {
    "duration": 130,
    "start_time": "2024-01-15T20:35:36.748Z"
   },
   {
    "duration": 15,
    "start_time": "2024-01-15T20:35:36.879Z"
   },
   {
    "duration": 21,
    "start_time": "2024-01-15T20:35:36.895Z"
   },
   {
    "duration": 11,
    "start_time": "2024-01-15T20:46:52.893Z"
   },
   {
    "duration": 22,
    "start_time": "2024-01-15T20:46:55.177Z"
   },
   {
    "duration": 637,
    "start_time": "2024-01-15T21:05:18.717Z"
   },
   {
    "duration": 119,
    "start_time": "2024-01-15T21:05:19.356Z"
   },
   {
    "duration": 17,
    "start_time": "2024-01-15T21:05:19.477Z"
   },
   {
    "duration": 10,
    "start_time": "2024-01-15T21:05:19.495Z"
   },
   {
    "duration": 14,
    "start_time": "2024-01-15T21:05:19.507Z"
   },
   {
    "duration": 8,
    "start_time": "2024-01-15T21:05:19.522Z"
   },
   {
    "duration": 14,
    "start_time": "2024-01-15T21:05:19.531Z"
   },
   {
    "duration": 5,
    "start_time": "2024-01-15T21:05:19.547Z"
   },
   {
    "duration": 14,
    "start_time": "2024-01-15T21:05:19.554Z"
   },
   {
    "duration": 17,
    "start_time": "2024-01-15T21:05:19.569Z"
   },
   {
    "duration": 15,
    "start_time": "2024-01-15T21:05:19.588Z"
   },
   {
    "duration": 3,
    "start_time": "2024-01-15T21:05:19.605Z"
   },
   {
    "duration": 18,
    "start_time": "2024-01-15T21:05:19.610Z"
   },
   {
    "duration": 34,
    "start_time": "2024-01-15T21:05:19.631Z"
   },
   {
    "duration": 2,
    "start_time": "2024-01-15T21:05:19.667Z"
   },
   {
    "duration": 5,
    "start_time": "2024-01-15T21:05:19.671Z"
   },
   {
    "duration": 19,
    "start_time": "2024-01-15T21:05:19.677Z"
   },
   {
    "duration": 5,
    "start_time": "2024-01-15T21:05:19.697Z"
   },
   {
    "duration": 5,
    "start_time": "2024-01-15T21:05:19.703Z"
   },
   {
    "duration": 8,
    "start_time": "2024-01-15T21:05:19.710Z"
   },
   {
    "duration": 6,
    "start_time": "2024-01-15T21:05:19.719Z"
   },
   {
    "duration": 6,
    "start_time": "2024-01-15T21:05:19.755Z"
   },
   {
    "duration": 9,
    "start_time": "2024-01-15T21:05:19.762Z"
   },
   {
    "duration": 22,
    "start_time": "2024-01-15T21:05:19.772Z"
   },
   {
    "duration": 5,
    "start_time": "2024-01-15T21:05:19.795Z"
   },
   {
    "duration": 5,
    "start_time": "2024-01-15T21:05:19.802Z"
   },
   {
    "duration": 2,
    "start_time": "2024-01-15T21:05:19.809Z"
   },
   {
    "duration": 6,
    "start_time": "2024-01-15T21:05:19.812Z"
   },
   {
    "duration": 38,
    "start_time": "2024-01-15T21:05:19.819Z"
   },
   {
    "duration": 12,
    "start_time": "2024-01-15T21:05:19.859Z"
   },
   {
    "duration": 9,
    "start_time": "2024-01-15T21:05:19.872Z"
   },
   {
    "duration": 10,
    "start_time": "2024-01-15T21:05:19.882Z"
   },
   {
    "duration": 5,
    "start_time": "2024-01-15T21:05:19.893Z"
   },
   {
    "duration": 6,
    "start_time": "2024-01-15T21:05:19.899Z"
   },
   {
    "duration": 21,
    "start_time": "2024-01-15T21:05:19.907Z"
   },
   {
    "duration": 8,
    "start_time": "2024-01-15T21:05:19.930Z"
   },
   {
    "duration": 2,
    "start_time": "2024-01-15T21:05:19.956Z"
   },
   {
    "duration": 12,
    "start_time": "2024-01-15T21:05:19.959Z"
   },
   {
    "duration": 11,
    "start_time": "2024-01-15T21:05:19.973Z"
   },
   {
    "duration": 17,
    "start_time": "2024-01-15T21:05:19.986Z"
   },
   {
    "duration": 23,
    "start_time": "2024-01-15T21:05:20.007Z"
   },
   {
    "duration": 31,
    "start_time": "2024-01-15T21:05:20.032Z"
   },
   {
    "duration": 158,
    "start_time": "2024-01-15T21:05:20.065Z"
   },
   {
    "duration": 17,
    "start_time": "2024-01-15T21:05:20.224Z"
   },
   {
    "duration": 174,
    "start_time": "2024-01-15T21:05:20.255Z"
   },
   {
    "duration": 26,
    "start_time": "2024-01-15T21:05:20.431Z"
   },
   {
    "duration": 149,
    "start_time": "2024-01-15T21:05:20.458Z"
   },
   {
    "duration": 12,
    "start_time": "2024-01-15T21:05:20.609Z"
   },
   {
    "duration": 11,
    "start_time": "2024-01-15T21:05:20.623Z"
   },
   {
    "duration": 26,
    "start_time": "2024-01-15T21:05:20.635Z"
   },
   {
    "duration": 18,
    "start_time": "2024-01-15T21:05:20.663Z"
   },
   {
    "duration": 14,
    "start_time": "2024-01-15T21:05:20.683Z"
   },
   {
    "duration": 144,
    "start_time": "2024-01-15T21:05:20.698Z"
   },
   {
    "duration": 19,
    "start_time": "2024-01-15T21:05:20.843Z"
   },
   {
    "duration": 153,
    "start_time": "2024-01-15T21:05:20.863Z"
   },
   {
    "duration": 16,
    "start_time": "2024-01-15T21:05:21.018Z"
   },
   {
    "duration": 21,
    "start_time": "2024-01-15T21:05:21.035Z"
   },
   {
    "duration": 824,
    "start_time": "2024-01-16T09:44:52.029Z"
   },
   {
    "duration": 273,
    "start_time": "2024-01-16T09:44:52.855Z"
   },
   {
    "duration": 16,
    "start_time": "2024-01-16T09:44:53.130Z"
   },
   {
    "duration": 39,
    "start_time": "2024-01-16T09:44:53.148Z"
   },
   {
    "duration": 52,
    "start_time": "2024-01-16T09:44:53.189Z"
   },
   {
    "duration": 14,
    "start_time": "2024-01-16T09:44:53.242Z"
   },
   {
    "duration": 6,
    "start_time": "2024-01-16T09:44:53.257Z"
   },
   {
    "duration": 7,
    "start_time": "2024-01-16T09:44:53.265Z"
   },
   {
    "duration": 12,
    "start_time": "2024-01-16T09:44:53.274Z"
   },
   {
    "duration": 31,
    "start_time": "2024-01-16T09:44:53.288Z"
   },
   {
    "duration": 22,
    "start_time": "2024-01-16T09:44:53.320Z"
   },
   {
    "duration": 4,
    "start_time": "2024-01-16T09:44:53.343Z"
   },
   {
    "duration": 15,
    "start_time": "2024-01-16T09:44:53.348Z"
   },
   {
    "duration": 15,
    "start_time": "2024-01-16T09:44:53.364Z"
   },
   {
    "duration": 3,
    "start_time": "2024-01-16T09:44:53.387Z"
   },
   {
    "duration": 33,
    "start_time": "2024-01-16T09:44:53.391Z"
   },
   {
    "duration": 27,
    "start_time": "2024-01-16T09:44:53.426Z"
   },
   {
    "duration": 5,
    "start_time": "2024-01-16T09:44:53.455Z"
   },
   {
    "duration": 7,
    "start_time": "2024-01-16T09:44:53.462Z"
   },
   {
    "duration": 25,
    "start_time": "2024-01-16T09:44:53.470Z"
   },
   {
    "duration": 27,
    "start_time": "2024-01-16T09:44:53.497Z"
   },
   {
    "duration": 26,
    "start_time": "2024-01-16T09:44:53.526Z"
   },
   {
    "duration": 18,
    "start_time": "2024-01-16T09:44:53.554Z"
   },
   {
    "duration": 21,
    "start_time": "2024-01-16T09:44:53.574Z"
   },
   {
    "duration": 39,
    "start_time": "2024-01-16T09:44:53.597Z"
   },
   {
    "duration": 10,
    "start_time": "2024-01-16T09:44:53.638Z"
   },
   {
    "duration": 12,
    "start_time": "2024-01-16T09:44:53.649Z"
   },
   {
    "duration": 13,
    "start_time": "2024-01-16T09:44:53.665Z"
   },
   {
    "duration": 9,
    "start_time": "2024-01-16T09:44:53.679Z"
   },
   {
    "duration": 17,
    "start_time": "2024-01-16T09:44:53.690Z"
   },
   {
    "duration": 11,
    "start_time": "2024-01-16T09:44:53.708Z"
   },
   {
    "duration": 16,
    "start_time": "2024-01-16T09:44:53.720Z"
   },
   {
    "duration": 6,
    "start_time": "2024-01-16T09:44:53.738Z"
   },
   {
    "duration": 27,
    "start_time": "2024-01-16T09:44:53.745Z"
   },
   {
    "duration": 24,
    "start_time": "2024-01-16T09:44:53.773Z"
   },
   {
    "duration": 9,
    "start_time": "2024-01-16T09:44:53.799Z"
   },
   {
    "duration": 2,
    "start_time": "2024-01-16T09:44:53.810Z"
   },
   {
    "duration": 8,
    "start_time": "2024-01-16T09:44:53.814Z"
   },
   {
    "duration": 13,
    "start_time": "2024-01-16T09:44:53.823Z"
   },
   {
    "duration": 35,
    "start_time": "2024-01-16T09:44:53.837Z"
   },
   {
    "duration": 14,
    "start_time": "2024-01-16T09:44:53.874Z"
   },
   {
    "duration": 33,
    "start_time": "2024-01-16T09:44:53.889Z"
   },
   {
    "duration": 165,
    "start_time": "2024-01-16T09:44:53.923Z"
   },
   {
    "duration": 16,
    "start_time": "2024-01-16T09:44:54.090Z"
   },
   {
    "duration": 173,
    "start_time": "2024-01-16T09:44:54.108Z"
   },
   {
    "duration": 16,
    "start_time": "2024-01-16T09:44:54.282Z"
   },
   {
    "duration": 156,
    "start_time": "2024-01-16T09:44:54.299Z"
   },
   {
    "duration": 13,
    "start_time": "2024-01-16T09:44:54.456Z"
   },
   {
    "duration": 45,
    "start_time": "2024-01-16T09:44:54.470Z"
   },
   {
    "duration": 29,
    "start_time": "2024-01-16T09:44:54.517Z"
   },
   {
    "duration": 24,
    "start_time": "2024-01-16T09:44:54.547Z"
   },
   {
    "duration": 22,
    "start_time": "2024-01-16T09:44:54.573Z"
   },
   {
    "duration": 181,
    "start_time": "2024-01-16T09:44:54.597Z"
   },
   {
    "duration": 21,
    "start_time": "2024-01-16T09:44:54.779Z"
   },
   {
    "duration": 148,
    "start_time": "2024-01-16T09:44:54.802Z"
   },
   {
    "duration": 18,
    "start_time": "2024-01-16T09:44:54.951Z"
   },
   {
    "duration": 26,
    "start_time": "2024-01-16T09:44:54.971Z"
   },
   {
    "duration": 4,
    "start_time": "2024-01-16T10:08:27.619Z"
   },
   {
    "duration": 15,
    "start_time": "2024-01-16T10:08:33.475Z"
   },
   {
    "duration": 41,
    "start_time": "2024-01-19T16:08:19.848Z"
   },
   {
    "duration": 6,
    "start_time": "2024-01-19T16:26:26.658Z"
   },
   {
    "duration": 798,
    "start_time": "2024-01-19T16:26:32.022Z"
   },
   {
    "duration": 264,
    "start_time": "2024-01-19T16:26:32.823Z"
   },
   {
    "duration": 96,
    "start_time": "2024-01-19T16:26:33.088Z"
   },
   {
    "duration": 341,
    "start_time": "2024-01-19T16:26:33.186Z"
   },
   {
    "duration": 82,
    "start_time": "2024-01-19T16:26:33.529Z"
   },
   {
    "duration": 18,
    "start_time": "2024-01-19T16:26:33.612Z"
   },
   {
    "duration": 5,
    "start_time": "2024-01-19T16:26:33.631Z"
   },
   {
    "duration": 5,
    "start_time": "2024-01-19T16:26:33.638Z"
   },
   {
    "duration": 14,
    "start_time": "2024-01-19T16:26:33.644Z"
   },
   {
    "duration": 29,
    "start_time": "2024-01-19T16:26:33.660Z"
   },
   {
    "duration": 14,
    "start_time": "2024-01-19T16:26:33.691Z"
   },
   {
    "duration": 12,
    "start_time": "2024-01-19T16:26:33.706Z"
   },
   {
    "duration": 9,
    "start_time": "2024-01-19T16:26:33.719Z"
   },
   {
    "duration": 27,
    "start_time": "2024-01-19T16:26:33.729Z"
   },
   {
    "duration": 13,
    "start_time": "2024-01-19T16:26:33.758Z"
   },
   {
    "duration": 19,
    "start_time": "2024-01-19T16:26:33.773Z"
   },
   {
    "duration": 24,
    "start_time": "2024-01-19T16:26:33.793Z"
   },
   {
    "duration": 28,
    "start_time": "2024-01-19T16:26:33.819Z"
   },
   {
    "duration": 24,
    "start_time": "2024-01-19T16:26:33.849Z"
   },
   {
    "duration": 32,
    "start_time": "2024-01-19T16:26:33.874Z"
   },
   {
    "duration": 18,
    "start_time": "2024-01-19T16:26:33.908Z"
   },
   {
    "duration": 14,
    "start_time": "2024-01-19T16:26:33.928Z"
   },
   {
    "duration": 22,
    "start_time": "2024-01-19T16:26:33.943Z"
   },
   {
    "duration": 9,
    "start_time": "2024-01-19T16:26:33.967Z"
   },
   {
    "duration": 23,
    "start_time": "2024-01-19T16:26:33.978Z"
   },
   {
    "duration": 22,
    "start_time": "2024-01-19T16:26:34.003Z"
   },
   {
    "duration": 10,
    "start_time": "2024-01-19T16:26:34.026Z"
   },
   {
    "duration": 2,
    "start_time": "2024-01-19T16:26:34.040Z"
   },
   {
    "duration": 8,
    "start_time": "2024-01-19T16:26:34.043Z"
   },
   {
    "duration": 10,
    "start_time": "2024-01-19T16:26:34.052Z"
   },
   {
    "duration": 16,
    "start_time": "2024-01-19T16:26:34.063Z"
   },
   {
    "duration": 37,
    "start_time": "2024-01-19T16:26:34.081Z"
   },
   {
    "duration": 18,
    "start_time": "2024-01-19T16:26:34.119Z"
   },
   {
    "duration": 5,
    "start_time": "2024-01-19T16:26:34.139Z"
   },
   {
    "duration": 12,
    "start_time": "2024-01-19T16:26:34.145Z"
   },
   {
    "duration": 15,
    "start_time": "2024-01-19T16:26:34.158Z"
   },
   {
    "duration": 8,
    "start_time": "2024-01-19T16:26:34.174Z"
   },
   {
    "duration": 5,
    "start_time": "2024-01-19T16:26:34.183Z"
   },
   {
    "duration": 20,
    "start_time": "2024-01-19T16:26:34.189Z"
   },
   {
    "duration": 11,
    "start_time": "2024-01-19T16:26:34.211Z"
   },
   {
    "duration": 26,
    "start_time": "2024-01-19T16:26:34.223Z"
   },
   {
    "duration": 20,
    "start_time": "2024-01-19T16:26:34.250Z"
   },
   {
    "duration": 23,
    "start_time": "2024-01-19T16:26:34.272Z"
   },
   {
    "duration": 148,
    "start_time": "2024-01-19T16:26:34.297Z"
   },
   {
    "duration": 15,
    "start_time": "2024-01-19T16:26:34.446Z"
   },
   {
    "duration": 162,
    "start_time": "2024-01-19T16:26:34.462Z"
   },
   {
    "duration": 24,
    "start_time": "2024-01-19T16:26:34.625Z"
   },
   {
    "duration": 137,
    "start_time": "2024-01-19T16:26:34.651Z"
   },
   {
    "duration": 11,
    "start_time": "2024-01-19T16:26:34.790Z"
   },
   {
    "duration": 28,
    "start_time": "2024-01-19T16:26:34.802Z"
   },
   {
    "duration": 7,
    "start_time": "2024-01-19T16:26:34.831Z"
   },
   {
    "duration": 17,
    "start_time": "2024-01-19T16:26:34.845Z"
   },
   {
    "duration": 13,
    "start_time": "2024-01-19T16:26:34.863Z"
   },
   {
    "duration": 154,
    "start_time": "2024-01-19T16:26:34.878Z"
   },
   {
    "duration": 17,
    "start_time": "2024-01-19T16:26:35.034Z"
   },
   {
    "duration": 127,
    "start_time": "2024-01-19T16:26:35.052Z"
   },
   {
    "duration": 15,
    "start_time": "2024-01-19T16:26:35.180Z"
   },
   {
    "duration": 12,
    "start_time": "2024-01-19T16:26:35.196Z"
   },
   {
    "duration": 29,
    "start_time": "2024-01-19T17:46:47.664Z"
   },
   {
    "duration": 619,
    "start_time": "2024-01-19T17:46:57.306Z"
   },
   {
    "duration": 122,
    "start_time": "2024-01-19T17:46:57.927Z"
   },
   {
    "duration": 16,
    "start_time": "2024-01-19T17:46:58.051Z"
   },
   {
    "duration": 9,
    "start_time": "2024-01-19T17:46:58.069Z"
   },
   {
    "duration": 25,
    "start_time": "2024-01-19T17:46:58.079Z"
   },
   {
    "duration": 14,
    "start_time": "2024-01-19T17:46:58.106Z"
   },
   {
    "duration": 9,
    "start_time": "2024-01-19T17:46:58.121Z"
   },
   {
    "duration": 5,
    "start_time": "2024-01-19T17:46:58.131Z"
   },
   {
    "duration": 23,
    "start_time": "2024-01-19T17:46:58.137Z"
   },
   {
    "duration": 16,
    "start_time": "2024-01-19T17:46:58.165Z"
   },
   {
    "duration": 14,
    "start_time": "2024-01-19T17:46:58.182Z"
   },
   {
    "duration": 24,
    "start_time": "2024-01-19T17:46:58.197Z"
   },
   {
    "duration": 23,
    "start_time": "2024-01-19T17:46:58.223Z"
   },
   {
    "duration": 26,
    "start_time": "2024-01-19T17:46:58.247Z"
   },
   {
    "duration": 15,
    "start_time": "2024-01-19T17:46:58.274Z"
   },
   {
    "duration": 3,
    "start_time": "2024-01-19T17:46:58.290Z"
   },
   {
    "duration": 25,
    "start_time": "2024-01-19T17:46:58.295Z"
   },
   {
    "duration": 19,
    "start_time": "2024-01-19T17:46:58.321Z"
   },
   {
    "duration": 13,
    "start_time": "2024-01-19T17:46:58.342Z"
   },
   {
    "duration": 4,
    "start_time": "2024-01-19T17:46:58.357Z"
   },
   {
    "duration": 6,
    "start_time": "2024-01-19T17:46:58.362Z"
   },
   {
    "duration": 9,
    "start_time": "2024-01-19T17:46:58.369Z"
   },
   {
    "duration": 20,
    "start_time": "2024-01-19T17:46:58.380Z"
   },
   {
    "duration": 9,
    "start_time": "2024-01-19T17:46:58.402Z"
   },
   {
    "duration": 16,
    "start_time": "2024-01-19T17:46:58.412Z"
   },
   {
    "duration": 20,
    "start_time": "2024-01-19T17:46:58.429Z"
   },
   {
    "duration": 8,
    "start_time": "2024-01-19T17:46:58.451Z"
   },
   {
    "duration": 3,
    "start_time": "2024-01-19T17:46:58.462Z"
   },
   {
    "duration": 14,
    "start_time": "2024-01-19T17:46:58.466Z"
   },
   {
    "duration": 7,
    "start_time": "2024-01-19T17:46:58.482Z"
   },
   {
    "duration": 7,
    "start_time": "2024-01-19T17:46:58.490Z"
   },
   {
    "duration": 8,
    "start_time": "2024-01-19T17:46:58.499Z"
   },
   {
    "duration": 8,
    "start_time": "2024-01-19T17:46:58.508Z"
   },
   {
    "duration": 31,
    "start_time": "2024-01-19T17:46:58.518Z"
   },
   {
    "duration": 11,
    "start_time": "2024-01-19T17:46:58.551Z"
   },
   {
    "duration": 10,
    "start_time": "2024-01-19T17:46:58.563Z"
   },
   {
    "duration": 8,
    "start_time": "2024-01-19T17:46:58.575Z"
   },
   {
    "duration": 3,
    "start_time": "2024-01-19T17:46:58.584Z"
   },
   {
    "duration": 6,
    "start_time": "2024-01-19T17:46:58.588Z"
   },
   {
    "duration": 14,
    "start_time": "2024-01-19T17:46:58.595Z"
   },
   {
    "duration": 49,
    "start_time": "2024-01-19T17:46:58.611Z"
   },
   {
    "duration": 4,
    "start_time": "2024-01-19T17:46:58.661Z"
   },
   {
    "duration": 15,
    "start_time": "2024-01-19T17:46:58.666Z"
   },
   {
    "duration": 166,
    "start_time": "2024-01-19T17:46:58.683Z"
   },
   {
    "duration": 15,
    "start_time": "2024-01-19T17:46:58.851Z"
   },
   {
    "duration": 167,
    "start_time": "2024-01-19T17:46:58.867Z"
   },
   {
    "duration": 12,
    "start_time": "2024-01-19T17:46:59.037Z"
   },
   {
    "duration": 134,
    "start_time": "2024-01-19T17:46:59.051Z"
   },
   {
    "duration": 12,
    "start_time": "2024-01-19T17:46:59.186Z"
   },
   {
    "duration": 14,
    "start_time": "2024-01-19T17:46:59.199Z"
   },
   {
    "duration": 7,
    "start_time": "2024-01-19T17:46:59.215Z"
   },
   {
    "duration": 35,
    "start_time": "2024-01-19T17:46:59.223Z"
   },
   {
    "duration": 14,
    "start_time": "2024-01-19T17:46:59.259Z"
   },
   {
    "duration": 183,
    "start_time": "2024-01-19T17:46:59.274Z"
   },
   {
    "duration": 17,
    "start_time": "2024-01-19T17:46:59.459Z"
   },
   {
    "duration": 137,
    "start_time": "2024-01-19T17:46:59.477Z"
   },
   {
    "duration": 30,
    "start_time": "2024-01-19T17:46:59.615Z"
   },
   {
    "duration": 13,
    "start_time": "2024-01-19T17:46:59.647Z"
   },
   {
    "duration": 63,
    "start_time": "2024-01-19T17:47:44.168Z"
   },
   {
    "duration": 5,
    "start_time": "2024-01-19T17:47:51.614Z"
   },
   {
    "duration": 655,
    "start_time": "2024-01-19T17:53:23.812Z"
   },
   {
    "duration": 126,
    "start_time": "2024-01-19T17:53:24.469Z"
   },
   {
    "duration": 15,
    "start_time": "2024-01-19T17:53:24.597Z"
   },
   {
    "duration": 24,
    "start_time": "2024-01-19T17:53:24.614Z"
   },
   {
    "duration": 25,
    "start_time": "2024-01-19T17:53:24.640Z"
   },
   {
    "duration": 16,
    "start_time": "2024-01-19T17:53:24.666Z"
   },
   {
    "duration": 40,
    "start_time": "2024-01-19T17:53:24.683Z"
   },
   {
    "duration": 56,
    "start_time": "2024-01-19T17:53:24.724Z"
   },
   {
    "duration": 53,
    "start_time": "2024-01-19T17:53:24.781Z"
   },
   {
    "duration": 23,
    "start_time": "2024-01-19T17:53:24.837Z"
   },
   {
    "duration": 29,
    "start_time": "2024-01-19T17:53:24.861Z"
   },
   {
    "duration": 50,
    "start_time": "2024-01-19T17:53:24.891Z"
   },
   {
    "duration": 23,
    "start_time": "2024-01-19T17:53:24.943Z"
   },
   {
    "duration": 77,
    "start_time": "2024-01-19T17:53:24.967Z"
   },
   {
    "duration": 93,
    "start_time": "2024-01-19T17:53:25.045Z"
   },
   {
    "duration": 6,
    "start_time": "2024-01-19T17:53:25.140Z"
   },
   {
    "duration": 24,
    "start_time": "2024-01-19T17:53:25.148Z"
   },
   {
    "duration": 19,
    "start_time": "2024-01-19T17:53:25.174Z"
   },
   {
    "duration": 14,
    "start_time": "2024-01-19T17:53:25.194Z"
   },
   {
    "duration": 19,
    "start_time": "2024-01-19T17:53:25.209Z"
   },
   {
    "duration": 33,
    "start_time": "2024-01-19T17:53:25.229Z"
   },
   {
    "duration": 29,
    "start_time": "2024-01-19T17:53:25.264Z"
   },
   {
    "duration": 35,
    "start_time": "2024-01-19T17:53:25.295Z"
   },
   {
    "duration": 53,
    "start_time": "2024-01-19T17:53:25.331Z"
   },
   {
    "duration": 41,
    "start_time": "2024-01-19T17:53:25.386Z"
   },
   {
    "duration": 33,
    "start_time": "2024-01-19T17:53:25.429Z"
   },
   {
    "duration": 30,
    "start_time": "2024-01-19T17:53:25.463Z"
   },
   {
    "duration": 38,
    "start_time": "2024-01-19T17:53:25.497Z"
   },
   {
    "duration": 19,
    "start_time": "2024-01-19T17:53:25.537Z"
   },
   {
    "duration": 28,
    "start_time": "2024-01-19T17:53:25.557Z"
   },
   {
    "duration": 14,
    "start_time": "2024-01-19T17:53:25.586Z"
   },
   {
    "duration": 29,
    "start_time": "2024-01-19T17:53:25.601Z"
   },
   {
    "duration": 29,
    "start_time": "2024-01-19T17:53:25.631Z"
   },
   {
    "duration": 24,
    "start_time": "2024-01-19T17:53:25.662Z"
   },
   {
    "duration": 28,
    "start_time": "2024-01-19T17:53:25.687Z"
   },
   {
    "duration": 39,
    "start_time": "2024-01-19T17:53:25.717Z"
   },
   {
    "duration": 64,
    "start_time": "2024-01-19T17:53:25.757Z"
   },
   {
    "duration": 55,
    "start_time": "2024-01-19T17:53:25.823Z"
   },
   {
    "duration": 54,
    "start_time": "2024-01-19T17:53:25.879Z"
   },
   {
    "duration": 49,
    "start_time": "2024-01-19T17:53:25.935Z"
   },
   {
    "duration": 38,
    "start_time": "2024-01-19T17:53:25.985Z"
   },
   {
    "duration": 38,
    "start_time": "2024-01-19T17:53:26.025Z"
   },
   {
    "duration": 44,
    "start_time": "2024-01-19T17:53:26.064Z"
   },
   {
    "duration": 162,
    "start_time": "2024-01-19T17:53:26.110Z"
   },
   {
    "duration": 16,
    "start_time": "2024-01-19T17:53:26.273Z"
   },
   {
    "duration": 159,
    "start_time": "2024-01-19T17:53:26.290Z"
   },
   {
    "duration": 16,
    "start_time": "2024-01-19T17:53:26.450Z"
   },
   {
    "duration": 163,
    "start_time": "2024-01-19T17:53:26.468Z"
   },
   {
    "duration": 16,
    "start_time": "2024-01-19T17:53:26.633Z"
   },
   {
    "duration": 18,
    "start_time": "2024-01-19T17:53:26.650Z"
   },
   {
    "duration": 35,
    "start_time": "2024-01-19T17:53:26.669Z"
   },
   {
    "duration": 21,
    "start_time": "2024-01-19T17:53:26.705Z"
   },
   {
    "duration": 36,
    "start_time": "2024-01-19T17:53:26.728Z"
   },
   {
    "duration": 143,
    "start_time": "2024-01-19T17:53:26.766Z"
   },
   {
    "duration": 14,
    "start_time": "2024-01-19T17:53:26.911Z"
   },
   {
    "duration": 141,
    "start_time": "2024-01-19T17:53:26.926Z"
   },
   {
    "duration": 15,
    "start_time": "2024-01-19T17:53:27.069Z"
   },
   {
    "duration": 13,
    "start_time": "2024-01-19T17:53:27.086Z"
   },
   {
    "duration": 827,
    "start_time": "2024-01-19T21:12:11.935Z"
   },
   {
    "duration": 344,
    "start_time": "2024-01-19T21:12:12.764Z"
   },
   {
    "duration": 18,
    "start_time": "2024-01-19T21:12:13.110Z"
   },
   {
    "duration": 17,
    "start_time": "2024-01-19T21:12:13.130Z"
   },
   {
    "duration": 13,
    "start_time": "2024-01-19T21:12:13.149Z"
   },
   {
    "duration": 32,
    "start_time": "2024-01-19T21:12:13.164Z"
   },
   {
    "duration": 26,
    "start_time": "2024-01-19T21:12:13.197Z"
   },
   {
    "duration": 36,
    "start_time": "2024-01-19T21:12:13.224Z"
   },
   {
    "duration": 60,
    "start_time": "2024-01-19T21:12:13.262Z"
   },
   {
    "duration": 20,
    "start_time": "2024-01-19T21:12:13.325Z"
   },
   {
    "duration": 71,
    "start_time": "2024-01-19T21:12:13.347Z"
   },
   {
    "duration": 51,
    "start_time": "2024-01-19T21:12:13.420Z"
   },
   {
    "duration": 12,
    "start_time": "2024-01-19T21:12:13.473Z"
   },
   {
    "duration": 36,
    "start_time": "2024-01-19T21:12:13.487Z"
   },
   {
    "duration": 42,
    "start_time": "2024-01-19T21:12:13.525Z"
   },
   {
    "duration": 15,
    "start_time": "2024-01-19T21:12:13.569Z"
   },
   {
    "duration": 29,
    "start_time": "2024-01-19T21:12:13.586Z"
   },
   {
    "duration": 52,
    "start_time": "2024-01-19T21:12:13.617Z"
   },
   {
    "duration": 10,
    "start_time": "2024-01-19T21:12:13.671Z"
   },
   {
    "duration": 36,
    "start_time": "2024-01-19T21:12:13.682Z"
   },
   {
    "duration": 20,
    "start_time": "2024-01-19T21:12:13.720Z"
   },
   {
    "duration": 30,
    "start_time": "2024-01-19T21:12:13.742Z"
   },
   {
    "duration": 27,
    "start_time": "2024-01-19T21:12:13.773Z"
   },
   {
    "duration": 30,
    "start_time": "2024-01-19T21:12:13.802Z"
   },
   {
    "duration": 48,
    "start_time": "2024-01-19T21:12:13.834Z"
   },
   {
    "duration": 48,
    "start_time": "2024-01-19T21:12:13.884Z"
   },
   {
    "duration": 24,
    "start_time": "2024-01-19T21:12:13.934Z"
   },
   {
    "duration": 18,
    "start_time": "2024-01-19T21:12:13.962Z"
   },
   {
    "duration": 39,
    "start_time": "2024-01-19T21:12:13.981Z"
   },
   {
    "duration": 13,
    "start_time": "2024-01-19T21:12:14.022Z"
   },
   {
    "duration": 55,
    "start_time": "2024-01-19T21:12:14.036Z"
   },
   {
    "duration": 37,
    "start_time": "2024-01-19T21:12:14.092Z"
   },
   {
    "duration": 8,
    "start_time": "2024-01-19T21:12:14.131Z"
   },
   {
    "duration": 17,
    "start_time": "2024-01-19T21:12:14.141Z"
   },
   {
    "duration": 40,
    "start_time": "2024-01-19T21:12:14.160Z"
   },
   {
    "duration": 32,
    "start_time": "2024-01-19T21:12:14.202Z"
   },
   {
    "duration": 25,
    "start_time": "2024-01-19T21:12:14.236Z"
   },
   {
    "duration": 31,
    "start_time": "2024-01-19T21:12:14.263Z"
   },
   {
    "duration": 13,
    "start_time": "2024-01-19T21:12:14.296Z"
   },
   {
    "duration": 57,
    "start_time": "2024-01-19T21:12:14.310Z"
   },
   {
    "duration": 41,
    "start_time": "2024-01-19T21:12:14.368Z"
   },
   {
    "duration": 19,
    "start_time": "2024-01-19T21:12:14.410Z"
   },
   {
    "duration": 35,
    "start_time": "2024-01-19T21:12:14.431Z"
   },
   {
    "duration": 177,
    "start_time": "2024-01-19T21:12:14.467Z"
   },
   {
    "duration": 18,
    "start_time": "2024-01-19T21:12:14.646Z"
   },
   {
    "duration": 192,
    "start_time": "2024-01-19T21:12:14.665Z"
   },
   {
    "duration": 15,
    "start_time": "2024-01-19T21:12:14.859Z"
   },
   {
    "duration": 164,
    "start_time": "2024-01-19T21:12:14.875Z"
   },
   {
    "duration": 13,
    "start_time": "2024-01-19T21:12:15.041Z"
   },
   {
    "duration": 49,
    "start_time": "2024-01-19T21:12:15.056Z"
   },
   {
    "duration": 54,
    "start_time": "2024-01-19T21:12:15.107Z"
   },
   {
    "duration": 54,
    "start_time": "2024-01-19T21:12:15.162Z"
   },
   {
    "duration": 25,
    "start_time": "2024-01-19T21:12:15.218Z"
   },
   {
    "duration": 176,
    "start_time": "2024-01-19T21:12:15.244Z"
   },
   {
    "duration": 15,
    "start_time": "2024-01-19T21:12:15.421Z"
   },
   {
    "duration": 155,
    "start_time": "2024-01-19T21:12:15.438Z"
   },
   {
    "duration": 17,
    "start_time": "2024-01-19T21:12:15.594Z"
   },
   {
    "duration": 19,
    "start_time": "2024-01-19T21:12:15.613Z"
   },
   {
    "duration": 3,
    "start_time": "2024-01-19T21:12:39.689Z"
   },
   {
    "duration": 13,
    "start_time": "2024-01-19T21:12:49.692Z"
   },
   {
    "duration": 13,
    "start_time": "2024-01-19T21:14:10.672Z"
   },
   {
    "duration": 17,
    "start_time": "2024-01-19T21:14:39.072Z"
   },
   {
    "duration": 693,
    "start_time": "2024-01-19T21:15:31.674Z"
   },
   {
    "duration": 128,
    "start_time": "2024-01-19T21:15:32.369Z"
   },
   {
    "duration": 17,
    "start_time": "2024-01-19T21:15:32.498Z"
   },
   {
    "duration": 10,
    "start_time": "2024-01-19T21:15:32.516Z"
   },
   {
    "duration": 10,
    "start_time": "2024-01-19T21:15:32.528Z"
   },
   {
    "duration": 6,
    "start_time": "2024-01-19T21:15:32.540Z"
   },
   {
    "duration": 5,
    "start_time": "2024-01-19T21:15:32.547Z"
   },
   {
    "duration": 8,
    "start_time": "2024-01-19T21:15:32.553Z"
   },
   {
    "duration": 50,
    "start_time": "2024-01-19T21:15:32.562Z"
   },
   {
    "duration": 19,
    "start_time": "2024-01-19T21:15:32.614Z"
   },
   {
    "duration": 5,
    "start_time": "2024-01-19T21:15:32.635Z"
   },
   {
    "duration": 24,
    "start_time": "2024-01-19T21:15:32.641Z"
   },
   {
    "duration": 4,
    "start_time": "2024-01-19T21:15:32.666Z"
   },
   {
    "duration": 40,
    "start_time": "2024-01-19T21:15:32.673Z"
   },
   {
    "duration": 16,
    "start_time": "2024-01-19T21:15:32.715Z"
   },
   {
    "duration": 10,
    "start_time": "2024-01-19T21:15:32.732Z"
   },
   {
    "duration": 3,
    "start_time": "2024-01-19T21:15:32.743Z"
   },
   {
    "duration": 6,
    "start_time": "2024-01-19T21:15:32.747Z"
   },
   {
    "duration": 47,
    "start_time": "2024-01-19T21:15:32.755Z"
   },
   {
    "duration": 5,
    "start_time": "2024-01-19T21:15:32.804Z"
   },
   {
    "duration": 5,
    "start_time": "2024-01-19T21:15:32.810Z"
   },
   {
    "duration": 8,
    "start_time": "2024-01-19T21:15:32.817Z"
   },
   {
    "duration": 15,
    "start_time": "2024-01-19T21:15:32.826Z"
   },
   {
    "duration": 10,
    "start_time": "2024-01-19T21:15:32.843Z"
   },
   {
    "duration": 15,
    "start_time": "2024-01-19T21:15:32.855Z"
   },
   {
    "duration": 24,
    "start_time": "2024-01-19T21:15:32.871Z"
   },
   {
    "duration": 5,
    "start_time": "2024-01-19T21:15:32.897Z"
   },
   {
    "duration": 10,
    "start_time": "2024-01-19T21:15:32.903Z"
   },
   {
    "duration": 6,
    "start_time": "2024-01-19T21:15:32.915Z"
   },
   {
    "duration": 6,
    "start_time": "2024-01-19T21:15:32.923Z"
   },
   {
    "duration": 10,
    "start_time": "2024-01-19T21:15:32.931Z"
   },
   {
    "duration": 14,
    "start_time": "2024-01-19T21:15:32.943Z"
   },
   {
    "duration": 20,
    "start_time": "2024-01-19T21:15:32.958Z"
   },
   {
    "duration": 18,
    "start_time": "2024-01-19T21:15:32.980Z"
   },
   {
    "duration": 7,
    "start_time": "2024-01-19T21:15:33.000Z"
   },
   {
    "duration": 9,
    "start_time": "2024-01-19T21:15:33.008Z"
   },
   {
    "duration": 11,
    "start_time": "2024-01-19T21:15:33.018Z"
   },
   {
    "duration": 9,
    "start_time": "2024-01-19T21:15:33.030Z"
   },
   {
    "duration": 2,
    "start_time": "2024-01-19T21:15:33.041Z"
   },
   {
    "duration": 6,
    "start_time": "2024-01-19T21:15:33.044Z"
   },
   {
    "duration": 14,
    "start_time": "2024-01-19T21:15:33.091Z"
   },
   {
    "duration": 72,
    "start_time": "2024-01-19T21:15:33.107Z"
   },
   {
    "duration": 5,
    "start_time": "2024-01-19T21:15:33.181Z"
   },
   {
    "duration": 26,
    "start_time": "2024-01-19T21:15:33.188Z"
   },
   {
    "duration": 172,
    "start_time": "2024-01-19T21:15:33.216Z"
   },
   {
    "duration": 18,
    "start_time": "2024-01-19T21:15:33.390Z"
   },
   {
    "duration": 183,
    "start_time": "2024-01-19T21:15:33.410Z"
   },
   {
    "duration": 15,
    "start_time": "2024-01-19T21:15:33.595Z"
   },
   {
    "duration": 169,
    "start_time": "2024-01-19T21:15:33.612Z"
   },
   {
    "duration": 19,
    "start_time": "2024-01-19T21:15:33.783Z"
   },
   {
    "duration": 13,
    "start_time": "2024-01-19T21:15:33.803Z"
   },
   {
    "duration": 7,
    "start_time": "2024-01-19T21:15:33.818Z"
   },
   {
    "duration": 20,
    "start_time": "2024-01-19T21:15:33.827Z"
   },
   {
    "duration": 46,
    "start_time": "2024-01-19T21:15:33.848Z"
   },
   {
    "duration": 157,
    "start_time": "2024-01-19T21:15:33.896Z"
   },
   {
    "duration": 16,
    "start_time": "2024-01-19T21:15:34.054Z"
   },
   {
    "duration": 150,
    "start_time": "2024-01-19T21:15:34.071Z"
   },
   {
    "duration": 17,
    "start_time": "2024-01-19T21:15:34.222Z"
   },
   {
    "duration": 14,
    "start_time": "2024-01-19T21:15:34.241Z"
   },
   {
    "duration": 7,
    "start_time": "2024-01-19T22:29:09.763Z"
   },
   {
    "duration": 24,
    "start_time": "2024-01-19T22:29:24.286Z"
   },
   {
    "duration": 74,
    "start_time": "2024-01-19T22:36:24.107Z"
   },
   {
    "duration": 7,
    "start_time": "2024-01-19T22:46:31.378Z"
   },
   {
    "duration": 25,
    "start_time": "2024-01-19T22:46:34.901Z"
   },
   {
    "duration": 45,
    "start_time": "2024-01-19T22:46:41.319Z"
   },
   {
    "duration": 7,
    "start_time": "2024-01-19T23:21:42.003Z"
   },
   {
    "duration": 24,
    "start_time": "2024-01-19T23:21:46.685Z"
   },
   {
    "duration": 42,
    "start_time": "2024-01-19T23:22:51.655Z"
   },
   {
    "duration": 25,
    "start_time": "2024-01-19T23:23:11.176Z"
   },
   {
    "duration": 29,
    "start_time": "2024-01-19T23:23:41.878Z"
   },
   {
    "duration": 10,
    "start_time": "2024-01-19T23:50:12.997Z"
   },
   {
    "duration": 8,
    "start_time": "2024-01-19T23:50:32.701Z"
   },
   {
    "duration": 8,
    "start_time": "2024-01-19T23:50:37.138Z"
   },
   {
    "duration": 8,
    "start_time": "2024-01-19T23:51:06.120Z"
   },
   {
    "duration": 14,
    "start_time": "2024-01-20T00:23:53.673Z"
   },
   {
    "duration": 7,
    "start_time": "2024-01-20T00:24:27.586Z"
   },
   {
    "duration": 26,
    "start_time": "2024-01-20T00:25:38.999Z"
   },
   {
    "duration": 703,
    "start_time": "2024-01-20T00:25:49.058Z"
   },
   {
    "duration": 159,
    "start_time": "2024-01-20T00:25:49.763Z"
   },
   {
    "duration": 17,
    "start_time": "2024-01-20T00:25:49.924Z"
   },
   {
    "duration": 12,
    "start_time": "2024-01-20T00:25:49.943Z"
   },
   {
    "duration": 12,
    "start_time": "2024-01-20T00:25:49.956Z"
   },
   {
    "duration": 9,
    "start_time": "2024-01-20T00:25:49.970Z"
   },
   {
    "duration": 10,
    "start_time": "2024-01-20T00:25:49.981Z"
   },
   {
    "duration": 6,
    "start_time": "2024-01-20T00:25:49.993Z"
   },
   {
    "duration": 35,
    "start_time": "2024-01-20T00:25:50.001Z"
   },
   {
    "duration": 22,
    "start_time": "2024-01-20T00:25:50.039Z"
   },
   {
    "duration": 6,
    "start_time": "2024-01-20T00:25:50.062Z"
   },
   {
    "duration": 37,
    "start_time": "2024-01-20T00:25:50.070Z"
   },
   {
    "duration": 4,
    "start_time": "2024-01-20T00:25:50.109Z"
   },
   {
    "duration": 23,
    "start_time": "2024-01-20T00:25:50.115Z"
   },
   {
    "duration": 18,
    "start_time": "2024-01-20T00:25:50.140Z"
   },
   {
    "duration": 33,
    "start_time": "2024-01-20T00:25:50.159Z"
   },
   {
    "duration": 5,
    "start_time": "2024-01-20T00:25:50.194Z"
   },
   {
    "duration": 20,
    "start_time": "2024-01-20T00:25:50.200Z"
   },
   {
    "duration": 8,
    "start_time": "2024-01-20T00:25:50.222Z"
   },
   {
    "duration": 4,
    "start_time": "2024-01-20T00:25:50.232Z"
   },
   {
    "duration": 4,
    "start_time": "2024-01-20T00:25:50.237Z"
   },
   {
    "duration": 8,
    "start_time": "2024-01-20T00:25:50.242Z"
   },
   {
    "duration": 7,
    "start_time": "2024-01-20T00:25:50.252Z"
   },
   {
    "duration": 19,
    "start_time": "2024-01-20T00:25:50.291Z"
   },
   {
    "duration": 7,
    "start_time": "2024-01-20T00:25:50.311Z"
   },
   {
    "duration": 9,
    "start_time": "2024-01-20T00:25:50.319Z"
   },
   {
    "duration": 19,
    "start_time": "2024-01-20T00:25:50.329Z"
   },
   {
    "duration": 6,
    "start_time": "2024-01-20T00:25:50.352Z"
   },
   {
    "duration": 37,
    "start_time": "2024-01-20T00:25:50.359Z"
   },
   {
    "duration": 3,
    "start_time": "2024-01-20T00:25:50.398Z"
   },
   {
    "duration": 8,
    "start_time": "2024-01-20T00:25:50.403Z"
   },
   {
    "duration": 5,
    "start_time": "2024-01-20T00:25:50.413Z"
   },
   {
    "duration": 16,
    "start_time": "2024-01-20T00:25:50.420Z"
   },
   {
    "duration": 10,
    "start_time": "2024-01-20T00:25:50.438Z"
   },
   {
    "duration": 43,
    "start_time": "2024-01-20T00:25:50.450Z"
   },
   {
    "duration": 8,
    "start_time": "2024-01-20T00:25:50.495Z"
   },
   {
    "duration": 10,
    "start_time": "2024-01-20T00:25:50.505Z"
   },
   {
    "duration": 13,
    "start_time": "2024-01-20T00:25:50.517Z"
   },
   {
    "duration": 11,
    "start_time": "2024-01-20T00:25:50.533Z"
   },
   {
    "duration": 2,
    "start_time": "2024-01-20T00:25:50.546Z"
   },
   {
    "duration": 42,
    "start_time": "2024-01-20T00:25:50.550Z"
   },
   {
    "duration": 13,
    "start_time": "2024-01-20T00:25:50.594Z"
   },
   {
    "duration": 23,
    "start_time": "2024-01-20T00:25:50.609Z"
   },
   {
    "duration": 4,
    "start_time": "2024-01-20T00:25:50.634Z"
   },
   {
    "duration": 21,
    "start_time": "2024-01-20T00:25:50.640Z"
   },
   {
    "duration": 195,
    "start_time": "2024-01-20T00:25:50.662Z"
   },
   {
    "duration": 17,
    "start_time": "2024-01-20T00:25:50.859Z"
   },
   {
    "duration": 193,
    "start_time": "2024-01-20T00:25:50.878Z"
   },
   {
    "duration": 19,
    "start_time": "2024-01-20T00:25:51.073Z"
   },
   {
    "duration": 199,
    "start_time": "2024-01-20T00:25:51.094Z"
   },
   {
    "duration": 13,
    "start_time": "2024-01-20T00:25:51.295Z"
   },
   {
    "duration": 17,
    "start_time": "2024-01-20T00:25:51.310Z"
   },
   {
    "duration": 8,
    "start_time": "2024-01-20T00:25:51.329Z"
   },
   {
    "duration": 23,
    "start_time": "2024-01-20T00:25:51.339Z"
   },
   {
    "duration": 37,
    "start_time": "2024-01-20T00:25:51.364Z"
   },
   {
    "duration": 172,
    "start_time": "2024-01-20T00:25:51.402Z"
   },
   {
    "duration": 20,
    "start_time": "2024-01-20T00:25:51.576Z"
   },
   {
    "duration": 147,
    "start_time": "2024-01-20T00:25:51.598Z"
   },
   {
    "duration": 18,
    "start_time": "2024-01-20T00:25:51.747Z"
   },
   {
    "duration": 29,
    "start_time": "2024-01-20T00:25:51.767Z"
   },
   {
    "duration": 105,
    "start_time": "2024-01-20T00:43:00.894Z"
   },
   {
    "duration": 12,
    "start_time": "2024-01-20T00:43:44.155Z"
   },
   {
    "duration": 678,
    "start_time": "2024-01-20T00:43:51.608Z"
   },
   {
    "duration": 130,
    "start_time": "2024-01-20T00:43:52.288Z"
   },
   {
    "duration": 18,
    "start_time": "2024-01-20T00:43:52.419Z"
   },
   {
    "duration": 10,
    "start_time": "2024-01-20T00:43:52.438Z"
   },
   {
    "duration": 26,
    "start_time": "2024-01-20T00:43:52.450Z"
   },
   {
    "duration": 10,
    "start_time": "2024-01-20T00:43:52.478Z"
   },
   {
    "duration": 4,
    "start_time": "2024-01-20T00:43:52.490Z"
   },
   {
    "duration": 11,
    "start_time": "2024-01-20T00:43:52.495Z"
   },
   {
    "duration": 34,
    "start_time": "2024-01-20T00:43:52.508Z"
   },
   {
    "duration": 18,
    "start_time": "2024-01-20T00:43:52.545Z"
   },
   {
    "duration": 5,
    "start_time": "2024-01-20T00:43:52.565Z"
   },
   {
    "duration": 24,
    "start_time": "2024-01-20T00:43:52.571Z"
   },
   {
    "duration": 5,
    "start_time": "2024-01-20T00:43:52.597Z"
   },
   {
    "duration": 15,
    "start_time": "2024-01-20T00:43:52.603Z"
   },
   {
    "duration": 14,
    "start_time": "2024-01-20T00:43:52.620Z"
   },
   {
    "duration": 9,
    "start_time": "2024-01-20T00:43:52.636Z"
   },
   {
    "duration": 5,
    "start_time": "2024-01-20T00:43:52.647Z"
   },
   {
    "duration": 55,
    "start_time": "2024-01-20T00:43:52.653Z"
   },
   {
    "duration": 8,
    "start_time": "2024-01-20T00:43:52.709Z"
   },
   {
    "duration": 10,
    "start_time": "2024-01-20T00:43:52.718Z"
   },
   {
    "duration": 3,
    "start_time": "2024-01-20T00:43:52.729Z"
   },
   {
    "duration": 7,
    "start_time": "2024-01-20T00:43:52.733Z"
   },
   {
    "duration": 8,
    "start_time": "2024-01-20T00:43:52.742Z"
   },
   {
    "duration": 45,
    "start_time": "2024-01-20T00:43:52.752Z"
   },
   {
    "duration": 37,
    "start_time": "2024-01-20T00:43:52.798Z"
   },
   {
    "duration": 32,
    "start_time": "2024-01-20T00:43:52.836Z"
   },
   {
    "duration": 21,
    "start_time": "2024-01-20T00:43:52.869Z"
   },
   {
    "duration": 21,
    "start_time": "2024-01-20T00:43:52.896Z"
   },
   {
    "duration": 24,
    "start_time": "2024-01-20T00:43:52.918Z"
   },
   {
    "duration": 4,
    "start_time": "2024-01-20T00:43:52.943Z"
   },
   {
    "duration": 15,
    "start_time": "2024-01-20T00:43:52.949Z"
   },
   {
    "duration": 8,
    "start_time": "2024-01-20T00:43:52.965Z"
   },
   {
    "duration": 34,
    "start_time": "2024-01-20T00:43:52.974Z"
   },
   {
    "duration": 18,
    "start_time": "2024-01-20T00:43:53.009Z"
   },
   {
    "duration": 8,
    "start_time": "2024-01-20T00:43:53.029Z"
   },
   {
    "duration": 21,
    "start_time": "2024-01-20T00:43:53.039Z"
   },
   {
    "duration": 9,
    "start_time": "2024-01-20T00:43:53.061Z"
   },
   {
    "duration": 12,
    "start_time": "2024-01-20T00:43:53.071Z"
   },
   {
    "duration": 8,
    "start_time": "2024-01-20T00:43:53.085Z"
   },
   {
    "duration": 4,
    "start_time": "2024-01-20T00:43:53.094Z"
   },
   {
    "duration": 15,
    "start_time": "2024-01-20T00:43:53.099Z"
   },
   {
    "duration": 22,
    "start_time": "2024-01-20T00:43:53.116Z"
   },
   {
    "duration": 20,
    "start_time": "2024-01-20T00:43:53.140Z"
   },
   {
    "duration": 18,
    "start_time": "2024-01-20T00:43:53.162Z"
   },
   {
    "duration": 17,
    "start_time": "2024-01-20T00:43:53.182Z"
   },
   {
    "duration": 173,
    "start_time": "2024-01-20T00:43:53.201Z"
   },
   {
    "duration": 18,
    "start_time": "2024-01-20T00:43:53.376Z"
   },
   {
    "duration": 258,
    "start_time": "2024-01-20T00:43:53.396Z"
   },
   {
    "duration": 15,
    "start_time": "2024-01-20T00:43:53.691Z"
   },
   {
    "duration": 231,
    "start_time": "2024-01-20T00:43:53.708Z"
   },
   {
    "duration": 14,
    "start_time": "2024-01-20T00:43:53.940Z"
   },
   {
    "duration": 20,
    "start_time": "2024-01-20T00:43:53.955Z"
   },
   {
    "duration": 17,
    "start_time": "2024-01-20T00:43:53.977Z"
   },
   {
    "duration": 21,
    "start_time": "2024-01-20T00:43:53.996Z"
   },
   {
    "duration": 14,
    "start_time": "2024-01-20T00:43:54.019Z"
   },
   {
    "duration": 171,
    "start_time": "2024-01-20T00:43:54.035Z"
   },
   {
    "duration": 16,
    "start_time": "2024-01-20T00:43:54.207Z"
   },
   {
    "duration": 151,
    "start_time": "2024-01-20T00:43:54.225Z"
   },
   {
    "duration": 23,
    "start_time": "2024-01-20T00:43:54.378Z"
   },
   {
    "duration": 15,
    "start_time": "2024-01-20T00:43:54.403Z"
   },
   {
    "duration": 73,
    "start_time": "2024-01-20T00:45:16.857Z"
   },
   {
    "duration": 20,
    "start_time": "2024-01-20T01:22:34.375Z"
   },
   {
    "duration": 1689,
    "start_time": "2024-01-20T02:20:58.629Z"
   },
   {
    "duration": 1471,
    "start_time": "2024-01-20T02:21:13.369Z"
   },
   {
    "duration": 1460,
    "start_time": "2024-01-20T02:21:59.704Z"
   },
   {
    "duration": 1440,
    "start_time": "2024-01-20T02:22:16.984Z"
   },
   {
    "duration": 20,
    "start_time": "2024-01-20T02:22:27.287Z"
   },
   {
    "duration": 1327,
    "start_time": "2024-01-20T02:22:47.489Z"
   },
   {
    "duration": 28,
    "start_time": "2024-01-20T02:23:53.563Z"
   },
   {
    "duration": 171,
    "start_time": "2024-01-20T02:27:20.523Z"
   },
   {
    "duration": 196,
    "start_time": "2024-01-20T02:27:39.736Z"
   },
   {
    "duration": 247,
    "start_time": "2024-01-20T02:27:46.628Z"
   },
   {
    "duration": 261,
    "start_time": "2024-01-20T02:27:57.685Z"
   },
   {
    "duration": 265,
    "start_time": "2024-01-20T02:29:31.602Z"
   },
   {
    "duration": 11,
    "start_time": "2024-01-20T02:29:34.349Z"
   },
   {
    "duration": 267,
    "start_time": "2024-01-20T02:30:08.484Z"
   },
   {
    "duration": 10,
    "start_time": "2024-01-20T02:30:14.062Z"
   },
   {
    "duration": 1563,
    "start_time": "2024-01-20T02:33:36.473Z"
   },
   {
    "duration": 709,
    "start_time": "2024-01-20T02:33:58.702Z"
   },
   {
    "duration": 136,
    "start_time": "2024-01-20T02:33:59.413Z"
   },
   {
    "duration": 16,
    "start_time": "2024-01-20T02:33:59.551Z"
   },
   {
    "duration": 10,
    "start_time": "2024-01-20T02:33:59.569Z"
   },
   {
    "duration": 16,
    "start_time": "2024-01-20T02:33:59.581Z"
   },
   {
    "duration": 5,
    "start_time": "2024-01-20T02:33:59.599Z"
   },
   {
    "duration": 4,
    "start_time": "2024-01-20T02:33:59.606Z"
   },
   {
    "duration": 9,
    "start_time": "2024-01-20T02:33:59.611Z"
   },
   {
    "duration": 24,
    "start_time": "2024-01-20T02:33:59.621Z"
   },
   {
    "duration": 18,
    "start_time": "2024-01-20T02:33:59.648Z"
   },
   {
    "duration": 26,
    "start_time": "2024-01-20T02:33:59.667Z"
   },
   {
    "duration": 16,
    "start_time": "2024-01-20T02:33:59.695Z"
   },
   {
    "duration": 3,
    "start_time": "2024-01-20T02:33:59.713Z"
   },
   {
    "duration": 17,
    "start_time": "2024-01-20T02:33:59.718Z"
   },
   {
    "duration": 16,
    "start_time": "2024-01-20T02:33:59.737Z"
   },
   {
    "duration": 45,
    "start_time": "2024-01-20T02:33:59.755Z"
   },
   {
    "duration": 5,
    "start_time": "2024-01-20T02:33:59.801Z"
   },
   {
    "duration": 22,
    "start_time": "2024-01-20T02:33:59.807Z"
   },
   {
    "duration": 8,
    "start_time": "2024-01-20T02:33:59.831Z"
   },
   {
    "duration": 6,
    "start_time": "2024-01-20T02:33:59.841Z"
   },
   {
    "duration": 8,
    "start_time": "2024-01-20T02:33:59.848Z"
   },
   {
    "duration": 35,
    "start_time": "2024-01-20T02:33:59.857Z"
   },
   {
    "duration": 5,
    "start_time": "2024-01-20T02:33:59.894Z"
   },
   {
    "duration": 19,
    "start_time": "2024-01-20T02:33:59.900Z"
   },
   {
    "duration": 15,
    "start_time": "2024-01-20T02:33:59.921Z"
   },
   {
    "duration": 10,
    "start_time": "2024-01-20T02:33:59.937Z"
   },
   {
    "duration": 16,
    "start_time": "2024-01-20T02:33:59.949Z"
   },
   {
    "duration": 26,
    "start_time": "2024-01-20T02:33:59.969Z"
   },
   {
    "duration": 6,
    "start_time": "2024-01-20T02:33:59.997Z"
   },
   {
    "duration": 55,
    "start_time": "2024-01-20T02:34:00.005Z"
   },
   {
    "duration": 299,
    "start_time": "2024-01-20T02:34:00.062Z"
   },
   {
    "duration": 419,
    "start_time": "2024-01-20T02:34:00.363Z"
   },
   {
    "duration": 137,
    "start_time": "2024-01-20T02:34:00.783Z"
   },
   {
    "duration": 120,
    "start_time": "2024-01-20T02:34:00.922Z"
   },
   {
    "duration": 57,
    "start_time": "2024-01-20T02:34:01.043Z"
   },
   {
    "duration": 156,
    "start_time": "2024-01-20T02:34:01.101Z"
   },
   {
    "duration": 435,
    "start_time": "2024-01-20T02:34:01.259Z"
   },
   {
    "duration": 122,
    "start_time": "2024-01-20T02:34:01.696Z"
   },
   {
    "duration": 132,
    "start_time": "2024-01-20T02:34:01.820Z"
   },
   {
    "duration": 99,
    "start_time": "2024-01-20T02:34:01.953Z"
   },
   {
    "duration": 51,
    "start_time": "2024-01-20T02:34:02.054Z"
   },
   {
    "duration": 77,
    "start_time": "2024-01-20T02:34:02.107Z"
   },
   {
    "duration": 53,
    "start_time": "2024-01-20T02:34:02.185Z"
   },
   {
    "duration": 35,
    "start_time": "2024-01-20T02:34:02.240Z"
   },
   {
    "duration": 68,
    "start_time": "2024-01-20T02:34:02.277Z"
   },
   {
    "duration": 189,
    "start_time": "2024-01-20T02:34:02.347Z"
   },
   {
    "duration": 17,
    "start_time": "2024-01-20T02:34:02.538Z"
   },
   {
    "duration": 368,
    "start_time": "2024-01-20T02:34:02.556Z"
   },
   {
    "duration": 15,
    "start_time": "2024-01-20T02:34:02.925Z"
   },
   {
    "duration": 300,
    "start_time": "2024-01-20T02:34:02.942Z"
   },
   {
    "duration": 13,
    "start_time": "2024-01-20T02:34:03.244Z"
   },
   {
    "duration": 33,
    "start_time": "2024-01-20T02:34:03.259Z"
   },
   {
    "duration": 8,
    "start_time": "2024-01-20T02:34:03.294Z"
   },
   {
    "duration": 1532,
    "start_time": "2024-01-20T02:34:03.304Z"
   },
   {
    "duration": 0,
    "start_time": "2024-01-20T02:34:04.838Z"
   },
   {
    "duration": 0,
    "start_time": "2024-01-20T02:34:04.839Z"
   },
   {
    "duration": 0,
    "start_time": "2024-01-20T02:34:04.840Z"
   },
   {
    "duration": 1,
    "start_time": "2024-01-20T02:34:04.841Z"
   },
   {
    "duration": 0,
    "start_time": "2024-01-20T02:34:04.843Z"
   },
   {
    "duration": 0,
    "start_time": "2024-01-20T02:34:04.844Z"
   },
   {
    "duration": 0,
    "start_time": "2024-01-20T02:34:04.845Z"
   },
   {
    "duration": 98,
    "start_time": "2024-01-20T02:34:30.145Z"
   },
   {
    "duration": 14,
    "start_time": "2024-01-20T02:34:41.874Z"
   },
   {
    "duration": 5,
    "start_time": "2024-01-20T02:34:44.145Z"
   },
   {
    "duration": 17,
    "start_time": "2024-01-20T02:35:15.448Z"
   },
   {
    "duration": 10,
    "start_time": "2024-01-20T02:35:17.106Z"
   },
   {
    "duration": 17,
    "start_time": "2024-01-20T02:35:25.192Z"
   },
   {
    "duration": 10,
    "start_time": "2024-01-20T02:35:26.991Z"
   },
   {
    "duration": 14,
    "start_time": "2024-01-20T02:35:36.235Z"
   },
   {
    "duration": 10,
    "start_time": "2024-01-20T02:35:37.291Z"
   },
   {
    "duration": 4,
    "start_time": "2024-01-20T02:36:29.670Z"
   },
   {
    "duration": 28,
    "start_time": "2024-01-20T02:36:35.391Z"
   },
   {
    "duration": 32,
    "start_time": "2024-01-20T02:36:45.987Z"
   },
   {
    "duration": 13,
    "start_time": "2024-01-20T02:37:45.887Z"
   },
   {
    "duration": 13,
    "start_time": "2024-01-20T02:37:47.930Z"
   },
   {
    "duration": 17,
    "start_time": "2024-01-20T02:38:25.556Z"
   },
   {
    "duration": 11,
    "start_time": "2024-01-20T02:38:38.669Z"
   },
   {
    "duration": 85,
    "start_time": "2024-01-20T02:38:44.108Z"
   },
   {
    "duration": 73,
    "start_time": "2024-01-20T02:38:48.465Z"
   },
   {
    "duration": 15,
    "start_time": "2024-01-20T02:38:52.784Z"
   },
   {
    "duration": 15,
    "start_time": "2024-01-20T02:39:02.417Z"
   },
   {
    "duration": 14,
    "start_time": "2024-01-20T02:39:05.385Z"
   },
   {
    "duration": 10,
    "start_time": "2024-01-20T02:39:34.732Z"
   },
   {
    "duration": 10,
    "start_time": "2024-01-20T02:39:49.055Z"
   },
   {
    "duration": 24,
    "start_time": "2024-01-20T02:40:11.315Z"
   },
   {
    "duration": 1473,
    "start_time": "2024-01-20T02:41:13.386Z"
   },
   {
    "duration": 267,
    "start_time": "2024-01-20T02:44:13.029Z"
   },
   {
    "duration": 360,
    "start_time": "2024-01-20T02:45:32.012Z"
   },
   {
    "duration": 301,
    "start_time": "2024-01-20T02:45:41.809Z"
   },
   {
    "duration": 82,
    "start_time": "2024-01-20T02:45:48.565Z"
   },
   {
    "duration": 280,
    "start_time": "2024-01-20T02:45:53.842Z"
   },
   {
    "duration": 264,
    "start_time": "2024-01-20T02:45:59.225Z"
   },
   {
    "duration": 688,
    "start_time": "2024-01-20T02:50:58.389Z"
   },
   {
    "duration": 131,
    "start_time": "2024-01-20T02:50:59.079Z"
   },
   {
    "duration": 18,
    "start_time": "2024-01-20T02:50:59.211Z"
   },
   {
    "duration": 11,
    "start_time": "2024-01-20T02:50:59.231Z"
   },
   {
    "duration": 8,
    "start_time": "2024-01-20T02:50:59.245Z"
   },
   {
    "duration": 6,
    "start_time": "2024-01-20T02:50:59.255Z"
   },
   {
    "duration": 7,
    "start_time": "2024-01-20T02:50:59.263Z"
   },
   {
    "duration": 5,
    "start_time": "2024-01-20T02:50:59.272Z"
   },
   {
    "duration": 40,
    "start_time": "2024-01-20T02:50:59.279Z"
   },
   {
    "duration": 19,
    "start_time": "2024-01-20T02:50:59.321Z"
   },
   {
    "duration": 5,
    "start_time": "2024-01-20T02:50:59.342Z"
   },
   {
    "duration": 22,
    "start_time": "2024-01-20T02:50:59.348Z"
   },
   {
    "duration": 22,
    "start_time": "2024-01-20T02:50:59.372Z"
   },
   {
    "duration": 16,
    "start_time": "2024-01-20T02:50:59.397Z"
   },
   {
    "duration": 36,
    "start_time": "2024-01-20T02:50:59.415Z"
   },
   {
    "duration": 12,
    "start_time": "2024-01-20T02:50:59.453Z"
   },
   {
    "duration": 10,
    "start_time": "2024-01-20T02:50:59.467Z"
   },
   {
    "duration": 27,
    "start_time": "2024-01-20T02:50:59.478Z"
   },
   {
    "duration": 8,
    "start_time": "2024-01-20T02:50:59.506Z"
   },
   {
    "duration": 38,
    "start_time": "2024-01-20T02:50:59.516Z"
   },
   {
    "duration": 29,
    "start_time": "2024-01-20T02:50:59.556Z"
   },
   {
    "duration": 22,
    "start_time": "2024-01-20T02:50:59.587Z"
   },
   {
    "duration": 17,
    "start_time": "2024-01-20T02:50:59.611Z"
   },
   {
    "duration": 23,
    "start_time": "2024-01-20T02:50:59.629Z"
   },
   {
    "duration": 25,
    "start_time": "2024-01-20T02:50:59.653Z"
   },
   {
    "duration": 24,
    "start_time": "2024-01-20T02:50:59.680Z"
   },
   {
    "duration": 15,
    "start_time": "2024-01-20T02:50:59.706Z"
   },
   {
    "duration": 43,
    "start_time": "2024-01-20T02:50:59.722Z"
   },
   {
    "duration": 9,
    "start_time": "2024-01-20T02:50:59.767Z"
   },
   {
    "duration": 3,
    "start_time": "2024-01-20T02:50:59.777Z"
   },
   {
    "duration": 13,
    "start_time": "2024-01-20T02:50:59.781Z"
   },
   {
    "duration": 7,
    "start_time": "2024-01-20T02:50:59.795Z"
   },
   {
    "duration": 50,
    "start_time": "2024-01-20T02:50:59.804Z"
   },
   {
    "duration": 29,
    "start_time": "2024-01-20T02:50:59.858Z"
   },
   {
    "duration": 11,
    "start_time": "2024-01-20T02:50:59.889Z"
   },
   {
    "duration": 19,
    "start_time": "2024-01-20T02:50:59.902Z"
   },
   {
    "duration": 21,
    "start_time": "2024-01-20T02:50:59.922Z"
   },
   {
    "duration": 16,
    "start_time": "2024-01-20T02:50:59.945Z"
   },
   {
    "duration": 16,
    "start_time": "2024-01-20T02:50:59.963Z"
   },
   {
    "duration": 18,
    "start_time": "2024-01-20T02:50:59.980Z"
   },
   {
    "duration": 105,
    "start_time": "2024-01-20T02:51:00.002Z"
   },
   {
    "duration": 182,
    "start_time": "2024-01-20T02:51:00.109Z"
   },
   {
    "duration": 169,
    "start_time": "2024-01-20T02:51:00.293Z"
   },
   {
    "duration": 60,
    "start_time": "2024-01-20T02:51:00.463Z"
   },
   {
    "duration": 110,
    "start_time": "2024-01-20T02:51:00.524Z"
   },
   {
    "duration": 355,
    "start_time": "2024-01-20T02:51:00.636Z"
   },
   {
    "duration": 18,
    "start_time": "2024-01-20T02:51:00.993Z"
   },
   {
    "duration": 220,
    "start_time": "2024-01-20T02:51:01.012Z"
   },
   {
    "duration": 18,
    "start_time": "2024-01-20T02:51:01.234Z"
   },
   {
    "duration": 198,
    "start_time": "2024-01-20T02:51:01.254Z"
   },
   {
    "duration": 13,
    "start_time": "2024-01-20T02:51:01.454Z"
   },
   {
    "duration": 177,
    "start_time": "2024-01-20T02:51:01.469Z"
   },
   {
    "duration": 513,
    "start_time": "2024-01-20T02:51:01.648Z"
   },
   {
    "duration": 470,
    "start_time": "2024-01-20T02:51:02.162Z"
   },
   {
    "duration": 11,
    "start_time": "2024-01-20T02:51:02.634Z"
   },
   {
    "duration": 52,
    "start_time": "2024-01-20T02:51:02.646Z"
   },
   {
    "duration": 212,
    "start_time": "2024-01-20T02:51:02.700Z"
   },
   {
    "duration": 15,
    "start_time": "2024-01-20T02:51:02.914Z"
   },
   {
    "duration": 92,
    "start_time": "2024-01-20T02:51:02.931Z"
   },
   {
    "duration": 20,
    "start_time": "2024-01-20T02:51:03.025Z"
   },
   {
    "duration": 43,
    "start_time": "2024-01-20T02:51:03.046Z"
   },
   {
    "duration": 19,
    "start_time": "2024-01-20T02:51:35.862Z"
   },
   {
    "duration": 20,
    "start_time": "2024-01-20T02:52:17.745Z"
   },
   {
    "duration": 134,
    "start_time": "2024-01-20T02:52:29.173Z"
   },
   {
    "duration": 16,
    "start_time": "2024-01-20T02:53:10.359Z"
   },
   {
    "duration": 18,
    "start_time": "2024-01-20T02:53:34.286Z"
   },
   {
    "duration": 41,
    "start_time": "2024-01-20T02:53:38.459Z"
   },
   {
    "duration": 16,
    "start_time": "2024-01-20T02:54:41.917Z"
   },
   {
    "duration": 645,
    "start_time": "2024-01-20T02:57:45.322Z"
   },
   {
    "duration": 134,
    "start_time": "2024-01-20T02:57:45.969Z"
   },
   {
    "duration": 18,
    "start_time": "2024-01-20T02:57:46.104Z"
   },
   {
    "duration": 10,
    "start_time": "2024-01-20T02:57:46.124Z"
   },
   {
    "duration": 17,
    "start_time": "2024-01-20T02:57:46.135Z"
   },
   {
    "duration": 6,
    "start_time": "2024-01-20T02:57:46.154Z"
   },
   {
    "duration": 9,
    "start_time": "2024-01-20T02:57:46.161Z"
   },
   {
    "duration": 17,
    "start_time": "2024-01-20T02:57:46.172Z"
   },
   {
    "duration": 34,
    "start_time": "2024-01-20T02:57:46.191Z"
   },
   {
    "duration": 52,
    "start_time": "2024-01-20T02:57:46.228Z"
   },
   {
    "duration": 30,
    "start_time": "2024-01-20T02:57:46.281Z"
   },
   {
    "duration": 26,
    "start_time": "2024-01-20T02:57:46.313Z"
   },
   {
    "duration": 4,
    "start_time": "2024-01-20T02:57:46.341Z"
   },
   {
    "duration": 25,
    "start_time": "2024-01-20T02:57:46.347Z"
   },
   {
    "duration": 15,
    "start_time": "2024-01-20T02:57:46.374Z"
   },
   {
    "duration": 10,
    "start_time": "2024-01-20T02:57:46.390Z"
   },
   {
    "duration": 8,
    "start_time": "2024-01-20T02:57:46.402Z"
   },
   {
    "duration": 22,
    "start_time": "2024-01-20T02:57:46.411Z"
   },
   {
    "duration": 18,
    "start_time": "2024-01-20T02:57:46.435Z"
   },
   {
    "duration": 20,
    "start_time": "2024-01-20T02:57:46.455Z"
   },
   {
    "duration": 11,
    "start_time": "2024-01-20T02:57:46.477Z"
   },
   {
    "duration": 15,
    "start_time": "2024-01-20T02:57:46.490Z"
   },
   {
    "duration": 52,
    "start_time": "2024-01-20T02:57:46.506Z"
   },
   {
    "duration": 40,
    "start_time": "2024-01-20T02:57:46.560Z"
   },
   {
    "duration": 27,
    "start_time": "2024-01-20T02:57:46.601Z"
   },
   {
    "duration": 41,
    "start_time": "2024-01-20T02:57:46.630Z"
   },
   {
    "duration": 31,
    "start_time": "2024-01-20T02:57:46.673Z"
   },
   {
    "duration": 16,
    "start_time": "2024-01-20T02:57:46.708Z"
   },
   {
    "duration": 43,
    "start_time": "2024-01-20T02:57:46.725Z"
   },
   {
    "duration": 38,
    "start_time": "2024-01-20T02:57:46.769Z"
   },
   {
    "duration": 45,
    "start_time": "2024-01-20T02:57:46.808Z"
   },
   {
    "duration": 14,
    "start_time": "2024-01-20T02:57:46.855Z"
   },
   {
    "duration": 11,
    "start_time": "2024-01-20T02:57:46.870Z"
   },
   {
    "duration": 29,
    "start_time": "2024-01-20T02:57:46.882Z"
   },
   {
    "duration": 8,
    "start_time": "2024-01-20T02:57:46.912Z"
   },
   {
    "duration": 15,
    "start_time": "2024-01-20T02:57:46.922Z"
   },
   {
    "duration": 8,
    "start_time": "2024-01-20T02:57:46.939Z"
   },
   {
    "duration": 40,
    "start_time": "2024-01-20T02:57:46.948Z"
   },
   {
    "duration": 12,
    "start_time": "2024-01-20T02:57:46.990Z"
   },
   {
    "duration": 5,
    "start_time": "2024-01-20T02:57:47.003Z"
   },
   {
    "duration": 13,
    "start_time": "2024-01-20T02:57:47.009Z"
   },
   {
    "duration": 13,
    "start_time": "2024-01-20T02:57:47.023Z"
   },
   {
    "duration": 22,
    "start_time": "2024-01-20T02:57:47.038Z"
   },
   {
    "duration": 12,
    "start_time": "2024-01-20T02:57:47.061Z"
   },
   {
    "duration": 24,
    "start_time": "2024-01-20T02:57:47.075Z"
   },
   {
    "duration": 177,
    "start_time": "2024-01-20T02:57:47.100Z"
   },
   {
    "duration": 22,
    "start_time": "2024-01-20T02:57:47.278Z"
   },
   {
    "duration": 212,
    "start_time": "2024-01-20T02:57:47.302Z"
   },
   {
    "duration": 14,
    "start_time": "2024-01-20T02:57:47.516Z"
   },
   {
    "duration": 174,
    "start_time": "2024-01-20T02:57:47.532Z"
   },
   {
    "duration": 15,
    "start_time": "2024-01-20T02:57:47.708Z"
   },
   {
    "duration": 22,
    "start_time": "2024-01-20T02:57:47.724Z"
   },
   {
    "duration": 7,
    "start_time": "2024-01-20T02:57:47.747Z"
   },
   {
    "duration": 308,
    "start_time": "2024-01-20T02:57:47.756Z"
   },
   {
    "duration": 11,
    "start_time": "2024-01-20T02:57:48.066Z"
   },
   {
    "duration": 26,
    "start_time": "2024-01-20T02:57:48.078Z"
   },
   {
    "duration": 188,
    "start_time": "2024-01-20T02:57:48.105Z"
   },
   {
    "duration": 15,
    "start_time": "2024-01-20T02:57:48.295Z"
   },
   {
    "duration": 129,
    "start_time": "2024-01-20T02:57:48.312Z"
   },
   {
    "duration": 16,
    "start_time": "2024-01-20T02:57:48.443Z"
   },
   {
    "duration": 24,
    "start_time": "2024-01-20T02:57:48.461Z"
   },
   {
    "duration": 10,
    "start_time": "2024-01-20T02:58:56.092Z"
   },
   {
    "duration": 14,
    "start_time": "2024-01-20T02:59:22.487Z"
   },
   {
    "duration": 14,
    "start_time": "2024-01-20T02:59:30.252Z"
   },
   {
    "duration": 14,
    "start_time": "2024-01-20T02:59:53.587Z"
   },
   {
    "duration": 14,
    "start_time": "2024-01-20T03:00:45.343Z"
   },
   {
    "duration": 51,
    "start_time": "2024-01-20T11:35:37.691Z"
   },
   {
    "duration": 766,
    "start_time": "2024-01-20T11:35:45.623Z"
   },
   {
    "duration": 263,
    "start_time": "2024-01-20T11:35:46.391Z"
   },
   {
    "duration": 15,
    "start_time": "2024-01-20T11:35:46.655Z"
   },
   {
    "duration": 34,
    "start_time": "2024-01-20T11:35:46.672Z"
   },
   {
    "duration": 8,
    "start_time": "2024-01-20T11:35:46.707Z"
   },
   {
    "duration": 6,
    "start_time": "2024-01-20T11:35:46.716Z"
   },
   {
    "duration": 7,
    "start_time": "2024-01-20T11:35:46.723Z"
   },
   {
    "duration": 7,
    "start_time": "2024-01-20T11:35:46.732Z"
   },
   {
    "duration": 28,
    "start_time": "2024-01-20T11:35:46.741Z"
   },
   {
    "duration": 17,
    "start_time": "2024-01-20T11:35:46.771Z"
   },
   {
    "duration": 23,
    "start_time": "2024-01-20T11:35:46.789Z"
   },
   {
    "duration": 29,
    "start_time": "2024-01-20T11:35:46.814Z"
   },
   {
    "duration": 15,
    "start_time": "2024-01-20T11:35:46.844Z"
   },
   {
    "duration": 39,
    "start_time": "2024-01-20T11:35:46.861Z"
   },
   {
    "duration": 22,
    "start_time": "2024-01-20T11:35:46.902Z"
   },
   {
    "duration": 30,
    "start_time": "2024-01-20T11:35:46.926Z"
   },
   {
    "duration": 43,
    "start_time": "2024-01-20T11:35:46.957Z"
   },
   {
    "duration": 30,
    "start_time": "2024-01-20T11:35:47.001Z"
   },
   {
    "duration": 6,
    "start_time": "2024-01-20T11:35:47.033Z"
   },
   {
    "duration": 17,
    "start_time": "2024-01-20T11:35:47.040Z"
   },
   {
    "duration": 5,
    "start_time": "2024-01-20T11:35:47.058Z"
   },
   {
    "duration": 7,
    "start_time": "2024-01-20T11:35:47.064Z"
   },
   {
    "duration": 10,
    "start_time": "2024-01-20T11:35:47.073Z"
   },
   {
    "duration": 19,
    "start_time": "2024-01-20T11:35:47.084Z"
   },
   {
    "duration": 13,
    "start_time": "2024-01-20T11:35:47.104Z"
   },
   {
    "duration": 17,
    "start_time": "2024-01-20T11:35:47.118Z"
   },
   {
    "duration": 19,
    "start_time": "2024-01-20T11:35:47.136Z"
   },
   {
    "duration": 6,
    "start_time": "2024-01-20T11:35:47.158Z"
   },
   {
    "duration": 11,
    "start_time": "2024-01-20T11:35:47.166Z"
   },
   {
    "duration": 7,
    "start_time": "2024-01-20T11:35:47.179Z"
   },
   {
    "duration": 26,
    "start_time": "2024-01-20T11:35:47.187Z"
   },
   {
    "duration": 8,
    "start_time": "2024-01-20T11:35:47.215Z"
   },
   {
    "duration": 23,
    "start_time": "2024-01-20T11:35:47.224Z"
   },
   {
    "duration": 21,
    "start_time": "2024-01-20T11:35:47.248Z"
   },
   {
    "duration": 16,
    "start_time": "2024-01-20T11:35:47.270Z"
   },
   {
    "duration": 25,
    "start_time": "2024-01-20T11:35:47.288Z"
   },
   {
    "duration": 11,
    "start_time": "2024-01-20T11:35:47.315Z"
   },
   {
    "duration": 19,
    "start_time": "2024-01-20T11:35:47.328Z"
   },
   {
    "duration": 22,
    "start_time": "2024-01-20T11:35:47.348Z"
   },
   {
    "duration": 17,
    "start_time": "2024-01-20T11:35:47.372Z"
   },
   {
    "duration": 17,
    "start_time": "2024-01-20T11:35:47.390Z"
   },
   {
    "duration": 10,
    "start_time": "2024-01-20T11:35:47.408Z"
   },
   {
    "duration": 20,
    "start_time": "2024-01-20T11:35:47.420Z"
   },
   {
    "duration": 33,
    "start_time": "2024-01-20T11:35:47.441Z"
   },
   {
    "duration": 68,
    "start_time": "2024-01-20T11:35:47.476Z"
   },
   {
    "duration": 185,
    "start_time": "2024-01-20T11:35:47.545Z"
   },
   {
    "duration": 20,
    "start_time": "2024-01-20T11:35:47.732Z"
   },
   {
    "duration": 145,
    "start_time": "2024-01-20T11:35:47.753Z"
   },
   {
    "duration": 14,
    "start_time": "2024-01-20T11:35:47.900Z"
   },
   {
    "duration": 143,
    "start_time": "2024-01-20T11:35:47.915Z"
   },
   {
    "duration": 16,
    "start_time": "2024-01-20T11:35:48.059Z"
   },
   {
    "duration": 10,
    "start_time": "2024-01-20T11:35:48.077Z"
   },
   {
    "duration": 32,
    "start_time": "2024-01-20T11:35:48.088Z"
   },
   {
    "duration": 277,
    "start_time": "2024-01-20T11:35:48.121Z"
   },
   {
    "duration": 9,
    "start_time": "2024-01-20T11:35:48.399Z"
   },
   {
    "duration": 16,
    "start_time": "2024-01-20T11:35:48.410Z"
   },
   {
    "duration": 150,
    "start_time": "2024-01-20T11:35:48.427Z"
   },
   {
    "duration": 14,
    "start_time": "2024-01-20T11:35:48.578Z"
   },
   {
    "duration": 9,
    "start_time": "2024-01-20T11:35:48.593Z"
   },
   {
    "duration": 17,
    "start_time": "2024-01-20T11:35:48.604Z"
   },
   {
    "duration": 26,
    "start_time": "2024-01-20T11:35:48.622Z"
   },
   {
    "duration": 218,
    "start_time": "2024-01-20T11:38:35.123Z"
   },
   {
    "duration": 587,
    "start_time": "2024-01-20T11:38:40.342Z"
   },
   {
    "duration": 118,
    "start_time": "2024-01-20T11:38:40.931Z"
   },
   {
    "duration": 14,
    "start_time": "2024-01-20T11:38:41.050Z"
   },
   {
    "duration": 16,
    "start_time": "2024-01-20T11:38:41.066Z"
   },
   {
    "duration": 27,
    "start_time": "2024-01-20T11:38:41.084Z"
   },
   {
    "duration": 90,
    "start_time": "2024-01-20T11:38:41.112Z"
   },
   {
    "duration": 10,
    "start_time": "2024-01-20T11:38:41.203Z"
   },
   {
    "duration": 9,
    "start_time": "2024-01-20T11:38:41.214Z"
   },
   {
    "duration": 24,
    "start_time": "2024-01-20T11:38:41.224Z"
   },
   {
    "duration": 17,
    "start_time": "2024-01-20T11:38:41.250Z"
   },
   {
    "duration": 10,
    "start_time": "2024-01-20T11:38:41.268Z"
   },
   {
    "duration": 18,
    "start_time": "2024-01-20T11:38:41.279Z"
   },
   {
    "duration": 20,
    "start_time": "2024-01-20T11:38:41.298Z"
   },
   {
    "duration": 25,
    "start_time": "2024-01-20T11:38:41.319Z"
   },
   {
    "duration": 38,
    "start_time": "2024-01-20T11:38:41.345Z"
   },
   {
    "duration": 8,
    "start_time": "2024-01-20T11:38:41.384Z"
   },
   {
    "duration": 21,
    "start_time": "2024-01-20T11:38:41.393Z"
   },
   {
    "duration": 27,
    "start_time": "2024-01-20T11:38:41.415Z"
   },
   {
    "duration": 6,
    "start_time": "2024-01-20T11:38:41.444Z"
   },
   {
    "duration": 12,
    "start_time": "2024-01-20T11:38:41.451Z"
   },
   {
    "duration": 12,
    "start_time": "2024-01-20T11:38:41.464Z"
   },
   {
    "duration": 14,
    "start_time": "2024-01-20T11:38:41.478Z"
   },
   {
    "duration": 10,
    "start_time": "2024-01-20T11:38:41.493Z"
   },
   {
    "duration": 26,
    "start_time": "2024-01-20T11:38:41.504Z"
   },
   {
    "duration": 10,
    "start_time": "2024-01-20T11:38:41.531Z"
   },
   {
    "duration": 26,
    "start_time": "2024-01-20T11:38:41.542Z"
   },
   {
    "duration": 22,
    "start_time": "2024-01-20T11:38:41.569Z"
   },
   {
    "duration": 11,
    "start_time": "2024-01-20T11:38:41.595Z"
   },
   {
    "duration": 12,
    "start_time": "2024-01-20T11:38:41.608Z"
   },
   {
    "duration": 27,
    "start_time": "2024-01-20T11:38:41.622Z"
   },
   {
    "duration": 22,
    "start_time": "2024-01-20T11:38:41.650Z"
   },
   {
    "duration": 23,
    "start_time": "2024-01-20T11:38:41.674Z"
   },
   {
    "duration": 23,
    "start_time": "2024-01-20T11:38:41.698Z"
   },
   {
    "duration": 27,
    "start_time": "2024-01-20T11:38:41.723Z"
   },
   {
    "duration": 35,
    "start_time": "2024-01-20T11:38:41.752Z"
   },
   {
    "duration": 15,
    "start_time": "2024-01-20T11:38:41.788Z"
   },
   {
    "duration": 7,
    "start_time": "2024-01-20T11:38:41.804Z"
   },
   {
    "duration": 15,
    "start_time": "2024-01-20T11:38:41.813Z"
   },
   {
    "duration": 13,
    "start_time": "2024-01-20T11:38:41.830Z"
   },
   {
    "duration": 6,
    "start_time": "2024-01-20T11:38:41.844Z"
   },
   {
    "duration": 26,
    "start_time": "2024-01-20T11:38:41.852Z"
   },
   {
    "duration": 23,
    "start_time": "2024-01-20T11:38:41.879Z"
   },
   {
    "duration": 28,
    "start_time": "2024-01-20T11:38:41.903Z"
   },
   {
    "duration": 17,
    "start_time": "2024-01-20T11:38:41.932Z"
   },
   {
    "duration": 22,
    "start_time": "2024-01-20T11:38:41.950Z"
   },
   {
    "duration": 161,
    "start_time": "2024-01-20T11:38:41.974Z"
   },
   {
    "duration": 23,
    "start_time": "2024-01-20T11:38:42.136Z"
   },
   {
    "duration": 154,
    "start_time": "2024-01-20T11:38:42.160Z"
   },
   {
    "duration": 13,
    "start_time": "2024-01-20T11:38:42.316Z"
   },
   {
    "duration": 140,
    "start_time": "2024-01-20T11:38:42.330Z"
   },
   {
    "duration": 15,
    "start_time": "2024-01-20T11:38:42.471Z"
   },
   {
    "duration": 6,
    "start_time": "2024-01-20T11:38:42.487Z"
   },
   {
    "duration": 276,
    "start_time": "2024-01-20T11:38:42.494Z"
   },
   {
    "duration": 9,
    "start_time": "2024-01-20T11:38:42.772Z"
   },
   {
    "duration": 30,
    "start_time": "2024-01-20T11:38:42.782Z"
   },
   {
    "duration": 149,
    "start_time": "2024-01-20T11:38:42.813Z"
   },
   {
    "duration": 12,
    "start_time": "2024-01-20T11:38:42.963Z"
   },
   {
    "duration": 10,
    "start_time": "2024-01-20T11:38:42.976Z"
   },
   {
    "duration": 31,
    "start_time": "2024-01-20T11:38:42.987Z"
   },
   {
    "duration": 18,
    "start_time": "2024-01-20T11:38:43.019Z"
   },
   {
    "duration": 654,
    "start_time": "2024-01-20T19:17:10.398Z"
   },
   {
    "duration": 329,
    "start_time": "2024-01-20T19:17:11.054Z"
   },
   {
    "duration": 17,
    "start_time": "2024-01-20T19:17:11.384Z"
   },
   {
    "duration": 37,
    "start_time": "2024-01-20T19:17:11.403Z"
   },
   {
    "duration": 10,
    "start_time": "2024-01-20T19:17:11.441Z"
   },
   {
    "duration": 18,
    "start_time": "2024-01-20T19:17:11.453Z"
   },
   {
    "duration": 4,
    "start_time": "2024-01-20T19:17:11.473Z"
   },
   {
    "duration": 5,
    "start_time": "2024-01-20T19:17:11.478Z"
   },
   {
    "duration": 24,
    "start_time": "2024-01-20T19:17:11.484Z"
   },
   {
    "duration": 19,
    "start_time": "2024-01-20T19:17:11.511Z"
   },
   {
    "duration": 6,
    "start_time": "2024-01-20T19:17:11.531Z"
   },
   {
    "duration": 42,
    "start_time": "2024-01-20T19:17:11.538Z"
   },
   {
    "duration": 4,
    "start_time": "2024-01-20T19:17:11.582Z"
   },
   {
    "duration": 16,
    "start_time": "2024-01-20T19:17:11.588Z"
   },
   {
    "duration": 20,
    "start_time": "2024-01-20T19:17:11.605Z"
   },
   {
    "duration": 19,
    "start_time": "2024-01-20T19:17:11.626Z"
   },
   {
    "duration": 6,
    "start_time": "2024-01-20T19:17:11.647Z"
   },
   {
    "duration": 46,
    "start_time": "2024-01-20T19:17:11.655Z"
   },
   {
    "duration": 8,
    "start_time": "2024-01-20T19:17:11.705Z"
   },
   {
    "duration": 8,
    "start_time": "2024-01-20T19:17:11.714Z"
   },
   {
    "duration": 4,
    "start_time": "2024-01-20T19:17:11.723Z"
   },
   {
    "duration": 9,
    "start_time": "2024-01-20T19:17:11.728Z"
   },
   {
    "duration": 5,
    "start_time": "2024-01-20T19:17:11.739Z"
   },
   {
    "duration": 46,
    "start_time": "2024-01-20T19:17:11.745Z"
   },
   {
    "duration": 7,
    "start_time": "2024-01-20T19:17:11.793Z"
   },
   {
    "duration": 10,
    "start_time": "2024-01-20T19:17:11.801Z"
   },
   {
    "duration": 19,
    "start_time": "2024-01-20T19:17:11.813Z"
   },
   {
    "duration": 5,
    "start_time": "2024-01-20T19:17:11.835Z"
   },
   {
    "duration": 6,
    "start_time": "2024-01-20T19:17:11.841Z"
   },
   {
    "duration": 11,
    "start_time": "2024-01-20T19:17:11.848Z"
   },
   {
    "duration": 4,
    "start_time": "2024-01-20T19:17:11.881Z"
   },
   {
    "duration": 6,
    "start_time": "2024-01-20T19:17:11.886Z"
   },
   {
    "duration": 9,
    "start_time": "2024-01-20T19:17:11.894Z"
   },
   {
    "duration": 6,
    "start_time": "2024-01-20T19:17:11.905Z"
   },
   {
    "duration": 8,
    "start_time": "2024-01-20T19:17:11.913Z"
   },
   {
    "duration": 5,
    "start_time": "2024-01-20T19:17:11.923Z"
   },
   {
    "duration": 7,
    "start_time": "2024-01-20T19:17:11.930Z"
   },
   {
    "duration": 47,
    "start_time": "2024-01-20T19:17:11.939Z"
   },
   {
    "duration": 9,
    "start_time": "2024-01-20T19:17:11.988Z"
   },
   {
    "duration": 3,
    "start_time": "2024-01-20T19:17:11.998Z"
   },
   {
    "duration": 16,
    "start_time": "2024-01-20T19:17:12.002Z"
   },
   {
    "duration": 19,
    "start_time": "2024-01-20T19:17:12.019Z"
   },
   {
    "duration": 30,
    "start_time": "2024-01-20T19:17:12.040Z"
   },
   {
    "duration": 17,
    "start_time": "2024-01-20T19:17:12.072Z"
   },
   {
    "duration": 21,
    "start_time": "2024-01-20T19:17:12.090Z"
   },
   {
    "duration": 195,
    "start_time": "2024-01-20T19:17:12.112Z"
   },
   {
    "duration": 17,
    "start_time": "2024-01-20T19:17:12.309Z"
   },
   {
    "duration": 180,
    "start_time": "2024-01-20T19:17:12.327Z"
   },
   {
    "duration": 15,
    "start_time": "2024-01-20T19:17:12.509Z"
   },
   {
    "duration": 170,
    "start_time": "2024-01-20T19:17:12.526Z"
   },
   {
    "duration": 18,
    "start_time": "2024-01-20T19:17:12.698Z"
   },
   {
    "duration": 8,
    "start_time": "2024-01-20T19:17:12.718Z"
   },
   {
    "duration": 314,
    "start_time": "2024-01-20T19:17:12.728Z"
   },
   {
    "duration": 12,
    "start_time": "2024-01-20T19:17:13.043Z"
   },
   {
    "duration": 20,
    "start_time": "2024-01-20T19:17:13.057Z"
   },
   {
    "duration": 178,
    "start_time": "2024-01-20T19:17:13.079Z"
   },
   {
    "duration": 28,
    "start_time": "2024-01-20T19:17:13.259Z"
   },
   {
    "duration": 11,
    "start_time": "2024-01-20T19:17:13.289Z"
   },
   {
    "duration": 27,
    "start_time": "2024-01-20T19:17:13.302Z"
   },
   {
    "duration": 16,
    "start_time": "2024-01-20T19:17:13.331Z"
   }
  ],
  "colab": {
   "name": "DA+. Сборный проект 1. Шаблон (1).ipynb",
   "provenance": []
  },
  "kernelspec": {
   "display_name": "Python 3 (ipykernel)",
   "language": "python",
   "name": "python3"
  },
  "language_info": {
   "codemirror_mode": {
    "name": "ipython",
    "version": 3
   },
   "file_extension": ".py",
   "mimetype": "text/x-python",
   "name": "python",
   "nbconvert_exporter": "python",
   "pygments_lexer": "ipython3",
   "version": "3.10.11"
  },
  "toc": {
   "base_numbering": 1,
   "nav_menu": {},
   "number_sections": true,
   "sideBar": true,
   "skip_h1_title": true,
   "title_cell": "Table of Contents",
   "title_sidebar": "Contents",
   "toc_cell": false,
   "toc_position": {
    "height": "calc(100% - 180px)",
    "left": "10px",
    "top": "150px",
    "width": "375.391px"
   },
   "toc_section_display": true,
   "toc_window_display": false
  }
 },
 "nbformat": 4,
 "nbformat_minor": 4
}
